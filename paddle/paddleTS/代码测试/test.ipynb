{
 "cells": [
  {
   "cell_type": "code",
   "execution_count": 1,
   "metadata": {},
   "outputs": [],
   "source": [
    "import paddle"
   ]
  },
  {
   "cell_type": "code",
   "execution_count": 2,
   "metadata": {},
   "outputs": [
    {
     "data": {
      "text/plain": [
       "'2.4.2'"
      ]
     },
     "execution_count": 2,
     "metadata": {},
     "output_type": "execute_result"
    }
   ],
   "source": [
    "paddle.__version__"
   ]
  },
  {
   "cell_type": "code",
   "execution_count": 3,
   "metadata": {},
   "outputs": [
    {
     "name": "stderr",
     "output_type": "stream",
     "text": [
      "d:\\python\\anaconda3\\envs\\paddle24\\lib\\site-packages\\paddlets\\utils\\backtest.py:6: DeprecationWarning: Using or importing the ABCs from 'collections' instead of from 'collections.abc' is deprecated since Python 3.3, and in 3.10 it will stop working\n",
      "  from collections import defaultdict, Iterable\n"
     ]
    },
    {
     "name": "stdout",
     "output_type": "stream",
     "text": [
      "1.1.0\n"
     ]
    }
   ],
   "source": [
    "import paddlets\n",
    "print(paddlets.__version__)"
   ]
  },
  {
   "cell_type": "code",
   "execution_count": 11,
   "metadata": {},
   "outputs": [],
   "source": [
    "import pandas as pd\n",
    "import numpy as np\n",
    "from paddlets import TSDataset"
   ]
  },
  {
   "cell_type": "code",
   "execution_count": 7,
   "metadata": {},
   "outputs": [
    {
     "name": "stdout",
     "output_type": "stream",
     "text": [
      "Active code page: 65001\n"
     ]
    }
   ],
   "source": [
    "! chcp 65001"
   ]
  },
  {
   "cell_type": "code",
   "execution_count": 10,
   "metadata": {},
   "outputs": [
    {
     "name": "stdout",
     "output_type": "stream",
     "text": [
      " Volume in drive D is DATA\n",
      " Volume Serial Number is 6E01-53CA\n",
      "\n",
      " Directory of d:\\BaiduSyncdisk\\mf\\python\\10\\1.git\\Machine_Learning-notes\\paddle\\paddleTS\\代码测试\n",
      "\n",
      "2023/03/12  12:40    <DIR>          .\n",
      "2023/03/12  12:40    <DIR>          ..\n",
      "2023/03/12  12:43            64,548 test.ipynb\n",
      "2023/03/12  12:40    <DIR>          welldata_100\n",
      "               1 File(s)         64,548 bytes\n",
      "               3 Dir(s)  242,146,476,032 bytes free\n"
     ]
    }
   ],
   "source": [
    "! dir"
   ]
  },
  {
   "cell_type": "code",
   "execution_count": null,
   "metadata": {},
   "outputs": [],
   "source": [
    "# 从csv文件中直接读取\n",
    "data = TSDataset.load_from_csv(\"/path/to/data.csv\")"
   ]
  },
  {
   "cell_type": "code",
   "execution_count": 60,
   "metadata": {},
   "outputs": [],
   "source": [
    "# 从dataframe格式下转换，适用性更广\n",
    "df_data = pd.read_csv('./welldata_100/welldata-100-test.csv')\n",
    "df_data.insert(0, 'index', df_data.index, allow_duplicates = False)  # 新增一个索引列作为时间序列数据，因为Depth有可能重复\n",
    "custom_dataset = TSDataset.load_from_dataframe(\n",
    "    df_data,  #Also can be path to the CSV file\n",
    "    time_col='index',\n",
    "    target_cols='AC',\n",
    "    observed_cov_cols = ['CNL', 'DEN', 'GR']\n",
    ")\n",
    "# custom_dataset.plot()  # 绘图\n",
    "# custom_dataset.plot(['GR'])  # 选定某个曲线或多个曲线进行绘图"
   ]
  },
  {
   "cell_type": "code",
   "execution_count": 72,
   "metadata": {},
   "outputs": [
    {
     "data": {
      "text/html": [
       "<div>\n",
       "<style scoped>\n",
       "    .dataframe tbody tr th:only-of-type {\n",
       "        vertical-align: middle;\n",
       "    }\n",
       "\n",
       "    .dataframe tbody tr th {\n",
       "        vertical-align: top;\n",
       "    }\n",
       "\n",
       "    .dataframe thead th {\n",
       "        text-align: right;\n",
       "    }\n",
       "</style>\n",
       "<table border=\"1\" class=\"dataframe\">\n",
       "  <thead>\n",
       "    <tr style=\"text-align: right;\">\n",
       "      <th></th>\n",
       "      <th>index</th>\n",
       "      <th>wellnum</th>\n",
       "      <th>Depth</th>\n",
       "      <th>AC</th>\n",
       "      <th>CNL</th>\n",
       "      <th>DEN</th>\n",
       "      <th>GR</th>\n",
       "    </tr>\n",
       "  </thead>\n",
       "  <tbody>\n",
       "    <tr>\n",
       "      <th>0</th>\n",
       "      <td>0</td>\n",
       "      <td>孤北24</td>\n",
       "      <td>2700.000</td>\n",
       "      <td>NaN</td>\n",
       "      <td>24.309</td>\n",
       "      <td>2.341</td>\n",
       "      <td>77.4844</td>\n",
       "    </tr>\n",
       "    <tr>\n",
       "      <th>1</th>\n",
       "      <td>1</td>\n",
       "      <td>孤北24</td>\n",
       "      <td>2700.125</td>\n",
       "      <td>NaN</td>\n",
       "      <td>23.839</td>\n",
       "      <td>2.341</td>\n",
       "      <td>77.7309</td>\n",
       "    </tr>\n",
       "    <tr>\n",
       "      <th>2</th>\n",
       "      <td>2</td>\n",
       "      <td>孤北24</td>\n",
       "      <td>2700.250</td>\n",
       "      <td>NaN</td>\n",
       "      <td>23.810</td>\n",
       "      <td>2.342</td>\n",
       "      <td>78.5765</td>\n",
       "    </tr>\n",
       "    <tr>\n",
       "      <th>3</th>\n",
       "      <td>3</td>\n",
       "      <td>孤北24</td>\n",
       "      <td>2700.375</td>\n",
       "      <td>NaN</td>\n",
       "      <td>24.006</td>\n",
       "      <td>2.346</td>\n",
       "      <td>79.4103</td>\n",
       "    </tr>\n",
       "    <tr>\n",
       "      <th>4</th>\n",
       "      <td>4</td>\n",
       "      <td>孤北24</td>\n",
       "      <td>2700.500</td>\n",
       "      <td>NaN</td>\n",
       "      <td>24.187</td>\n",
       "      <td>2.349</td>\n",
       "      <td>79.6685</td>\n",
       "    </tr>\n",
       "    <tr>\n",
       "      <th>...</th>\n",
       "      <td>...</td>\n",
       "      <td>...</td>\n",
       "      <td>...</td>\n",
       "      <td>...</td>\n",
       "      <td>...</td>\n",
       "      <td>...</td>\n",
       "      <td>...</td>\n",
       "    </tr>\n",
       "    <tr>\n",
       "      <th>99452</th>\n",
       "      <td>99452</td>\n",
       "      <td>孤深2</td>\n",
       "      <td>4579.500</td>\n",
       "      <td>NaN</td>\n",
       "      <td>13.008</td>\n",
       "      <td>2.609</td>\n",
       "      <td>68.1665</td>\n",
       "    </tr>\n",
       "    <tr>\n",
       "      <th>99453</th>\n",
       "      <td>99453</td>\n",
       "      <td>孤深2</td>\n",
       "      <td>4579.625</td>\n",
       "      <td>NaN</td>\n",
       "      <td>13.352</td>\n",
       "      <td>2.590</td>\n",
       "      <td>69.1644</td>\n",
       "    </tr>\n",
       "    <tr>\n",
       "      <th>99454</th>\n",
       "      <td>99454</td>\n",
       "      <td>孤深2</td>\n",
       "      <td>4579.750</td>\n",
       "      <td>NaN</td>\n",
       "      <td>13.868</td>\n",
       "      <td>2.556</td>\n",
       "      <td>72.1562</td>\n",
       "    </tr>\n",
       "    <tr>\n",
       "      <th>99455</th>\n",
       "      <td>99455</td>\n",
       "      <td>孤深2</td>\n",
       "      <td>4579.875</td>\n",
       "      <td>NaN</td>\n",
       "      <td>14.198</td>\n",
       "      <td>2.546</td>\n",
       "      <td>73.8252</td>\n",
       "    </tr>\n",
       "    <tr>\n",
       "      <th>99456</th>\n",
       "      <td>99456</td>\n",
       "      <td>孤深2</td>\n",
       "      <td>4580.000</td>\n",
       "      <td>NaN</td>\n",
       "      <td>14.919</td>\n",
       "      <td>2.545</td>\n",
       "      <td>77.0677</td>\n",
       "    </tr>\n",
       "  </tbody>\n",
       "</table>\n",
       "<p>99457 rows × 7 columns</p>\n",
       "</div>"
      ],
      "text/plain": [
       "       index wellnum     Depth  AC     CNL    DEN       GR\n",
       "0          0    孤北24  2700.000 NaN  24.309  2.341  77.4844\n",
       "1          1    孤北24  2700.125 NaN  23.839  2.341  77.7309\n",
       "2          2    孤北24  2700.250 NaN  23.810  2.342  78.5765\n",
       "3          3    孤北24  2700.375 NaN  24.006  2.346  79.4103\n",
       "4          4    孤北24  2700.500 NaN  24.187  2.349  79.6685\n",
       "...      ...     ...       ...  ..     ...    ...      ...\n",
       "99452  99452     孤深2  4579.500 NaN  13.008  2.609  68.1665\n",
       "99453  99453     孤深2  4579.625 NaN  13.352  2.590  69.1644\n",
       "99454  99454     孤深2  4579.750 NaN  13.868  2.556  72.1562\n",
       "99455  99455     孤深2  4579.875 NaN  14.198  2.546  73.8252\n",
       "99456  99456     孤深2  4580.000 NaN  14.919  2.545  77.0677\n",
       "\n",
       "[99457 rows x 7 columns]"
      ]
     },
     "execution_count": 72,
     "metadata": {},
     "output_type": "execute_result"
    }
   ],
   "source": [
    "df_data['AC']=np.NAN\n",
    "df_data"
   ]
  },
  {
   "cell_type": "code",
   "execution_count": 73,
   "metadata": {},
   "outputs": [],
   "source": [
    "pred_dataset = TSDataset.load_from_dataframe(\n",
    "    df_data,  #Also can be path to the CSV file\n",
    "    time_col='index',\n",
    "    target_cols='AC',\n",
    "    observed_cov_cols = ['CNL', 'DEN', 'GR']\n",
    ")"
   ]
  },
  {
   "cell_type": "code",
   "execution_count": 61,
   "metadata": {},
   "outputs": [
    {
     "data": {
      "text/html": [
       "<div>\n",
       "<style scoped>\n",
       "    .dataframe tbody tr th:only-of-type {\n",
       "        vertical-align: middle;\n",
       "    }\n",
       "\n",
       "    .dataframe tbody tr th {\n",
       "        vertical-align: top;\n",
       "    }\n",
       "\n",
       "    .dataframe thead th {\n",
       "        text-align: right;\n",
       "    }\n",
       "</style>\n",
       "<table border=\"1\" class=\"dataframe\">\n",
       "  <thead>\n",
       "    <tr style=\"text-align: right;\">\n",
       "      <th></th>\n",
       "      <th>index</th>\n",
       "      <th>wellnum</th>\n",
       "      <th>Depth</th>\n",
       "      <th>AC</th>\n",
       "      <th>CNL</th>\n",
       "      <th>DEN</th>\n",
       "      <th>GR</th>\n",
       "    </tr>\n",
       "  </thead>\n",
       "  <tbody>\n",
       "    <tr>\n",
       "      <th>0</th>\n",
       "      <td>0</td>\n",
       "      <td>孤北24</td>\n",
       "      <td>2700.0</td>\n",
       "      <td>287.785</td>\n",
       "      <td>24.309</td>\n",
       "      <td>2.341</td>\n",
       "      <td>77.4844</td>\n",
       "    </tr>\n",
       "  </tbody>\n",
       "</table>\n",
       "</div>"
      ],
      "text/plain": [
       "   index wellnum   Depth       AC     CNL    DEN       GR\n",
       "0      0    孤北24  2700.0  287.785  24.309  2.341  77.4844"
      ]
     },
     "execution_count": 61,
     "metadata": {},
     "output_type": "execute_result"
    }
   ],
   "source": [
    "df_data.head(1)"
   ]
  },
  {
   "cell_type": "code",
   "execution_count": 62,
   "metadata": {},
   "outputs": [
    {
     "data": {
      "text/plain": [
       "{'AC': 'target',\n",
       " 'CNL': 'observed_cov',\n",
       " 'DEN': 'observed_cov',\n",
       " 'GR': 'observed_cov'}"
      ]
     },
     "execution_count": 62,
     "metadata": {},
     "output_type": "execute_result"
    }
   ],
   "source": [
    "# 查看整体的统计信息\n",
    "custom_dataset.summary()\n",
    "custom_dataset.dtypes  # 数据类型\n",
    "custom_dataset.columns  # 列名情况：目标列，已知协变量等"
   ]
  },
  {
   "cell_type": "code",
   "execution_count": 63,
   "metadata": {},
   "outputs": [],
   "source": [
    "from paddlets import TSDataset\n",
    "from paddlets.models.model_loader import load\n",
    "from paddlets.models.forecasting import RNNBlockRegressor"
   ]
  },
  {
   "cell_type": "code",
   "execution_count": 64,
   "metadata": {},
   "outputs": [],
   "source": [
    "data = custom_dataset"
   ]
  },
  {
   "cell_type": "code",
   "execution_count": 65,
   "metadata": {},
   "outputs": [
    {
     "name": "stderr",
     "output_type": "stream",
     "text": [
      "[2023-03-12 13:26:32,020] [ WARNING] logger.py:89 - No early stopping will be performed, last training weights will be used.\n"
     ]
    }
   ],
   "source": [
    "# 3 init the model instance.\n",
    "model = RNNBlockRegressor(in_chunk_len=9, out_chunk_len=1, skip_chunk_len=0)\n",
    "\n",
    "# 4 fit\n",
    "model.fit(train_tsdataset=data)\n",
    "\n",
    "# 5 predict\n",
    "predicted_dataset = model.predict(pred_dataset)"
   ]
  },
  {
   "cell_type": "code",
   "execution_count": 74,
   "metadata": {},
   "outputs": [
    {
     "name": "stderr",
     "output_type": "stream",
     "text": [
      "[2023-03-12 13:30:23,834] [ WARNING] logger.py:89 - Input `AC` contains np.inf or np.NaN, which may lead to unexpected results from the model.\n"
     ]
    }
   ],
   "source": [
    "predicted_dataset = model.predict(pred_dataset)"
   ]
  },
  {
   "cell_type": "code",
   "execution_count": 55,
   "metadata": {},
   "outputs": [],
   "source": [
    "from paddlets.datasets.repository import get_dataset, dataset_list\n",
    "from paddlets.datasets.tsdataset import TSDataset\n",
    "from paddlets.models.forecasting import DeepARModel\n",
    "from paddlets.metrics import MAE\n",
    "from paddlets.metrics import MSE\n",
    "from paddlets.metrics import QuantileLoss\n",
    "\n",
    "ts = get_dataset(\"WTH\")"
   ]
  },
  {
   "cell_type": "code",
   "execution_count": 57,
   "metadata": {},
   "outputs": [
    {
     "data": {
      "text/plain": [
       "{'WetBulbCelsius': 'target',\n",
       " 'Visibility': 'observed_cov',\n",
       " 'DryBulbFarenheit': 'observed_cov',\n",
       " 'DryBulbCelsius': 'observed_cov',\n",
       " 'WetBulbFarenheit': 'observed_cov',\n",
       " 'DewPointFarenheit': 'observed_cov',\n",
       " 'DewPointCelsius': 'observed_cov',\n",
       " 'RelativeHumidity': 'observed_cov',\n",
       " 'WindSpeed': 'observed_cov',\n",
       " 'WindDirection': 'observed_cov',\n",
       " 'StationPressure': 'observed_cov',\n",
       " 'Altimeter': 'observed_cov'}"
      ]
     },
     "execution_count": 57,
     "metadata": {},
     "output_type": "execute_result"
    }
   ],
   "source": [
    "ts.columns"
   ]
  },
  {
   "cell_type": "code",
   "execution_count": 58,
   "metadata": {},
   "outputs": [
    {
     "ename": "NameError",
     "evalue": "name 'TimeFeatureGenerator' is not defined",
     "output_type": "error",
     "traceback": [
      "\u001b[1;31m---------------------------------------------------------------------------\u001b[0m",
      "\u001b[1;31mNameError\u001b[0m                                 Traceback (most recent call last)",
      "Cell \u001b[1;32mIn[58], line 1\u001b[0m\n\u001b[1;32m----> 1\u001b[0m time_f \u001b[39m=\u001b[39m TimeFeatureGenerator([\u001b[39m\"\u001b[39m\u001b[39mmonth\u001b[39m\u001b[39m\"\u001b[39m, \u001b[39m\"\u001b[39m\u001b[39mweekday\u001b[39m\u001b[39m\"\u001b[39m, \u001b[39m\"\u001b[39m\u001b[39mhour\u001b[39m\u001b[39m\"\u001b[39m, \u001b[39m\"\u001b[39m\u001b[39mdayofyear\u001b[39m\u001b[39m\"\u001b[39m, \u001b[39m\"\u001b[39m\u001b[39mweekofyear\u001b[39m\u001b[39m\"\u001b[39m])\n\u001b[0;32m      2\u001b[0m ts \u001b[39m=\u001b[39m time_f\u001b[39m.\u001b[39mfit_transform(ts)\n",
      "\u001b[1;31mNameError\u001b[0m: name 'TimeFeatureGenerator' is not defined"
     ]
    }
   ],
   "source": [
    "time_f = TimeFeatureGenerator([\"month\", \"weekday\", \"hour\", \"dayofyear\", \"weekofyear\"])\n",
    "ts = time_f.fit_transform(ts)"
   ]
  },
  {
   "cell_type": "code",
   "execution_count": 59,
   "metadata": {},
   "outputs": [
    {
     "ename": "NameError",
     "evalue": "name 'StandardScaler' is not defined",
     "output_type": "error",
     "traceback": [
      "\u001b[1;31m---------------------------------------------------------------------------\u001b[0m",
      "\u001b[1;31mNameError\u001b[0m                                 Traceback (most recent call last)",
      "Cell \u001b[1;32mIn[59], line 1\u001b[0m\n\u001b[1;32m----> 1\u001b[0m scaler \u001b[39m=\u001b[39m StandardScaler()\n\u001b[0;32m      2\u001b[0m scaler\u001b[39m.\u001b[39mfit(ts_train)\n\u001b[0;32m      3\u001b[0m ts_train_scaled \u001b[39m=\u001b[39m scaler\u001b[39m.\u001b[39mtransform(ts_train)\n",
      "\u001b[1;31mNameError\u001b[0m: name 'StandardScaler' is not defined"
     ]
    }
   ],
   "source": [
    "scaler = StandardScaler()\n",
    "scaler.fit(ts_train)\n",
    "ts_train_scaled = scaler.transform(ts_train)\n",
    "ts_val_scaled = scaler.transform(ts_val)\n",
    "ts_test_scaled = scaler.transform(ts_test)"
   ]
  },
  {
   "cell_type": "code",
   "execution_count": null,
   "metadata": {},
   "outputs": [],
   "source": []
  }
 ],
 "metadata": {
  "kernelspec": {
   "display_name": "paddle24",
   "language": "python",
   "name": "python3"
  },
  "language_info": {
   "codemirror_mode": {
    "name": "ipython",
    "version": 3
   },
   "file_extension": ".py",
   "mimetype": "text/x-python",
   "name": "python",
   "nbconvert_exporter": "python",
   "pygments_lexer": "ipython3",
   "version": "3.9.15"
  },
  "orig_nbformat": 4
 },
 "nbformat": 4,
 "nbformat_minor": 2
}
