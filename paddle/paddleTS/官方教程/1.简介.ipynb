{
 "cells": [
  {
   "cell_type": "code",
   "execution_count": 15,
   "metadata": {},
   "outputs": [],
   "source": [
    "import paddle"
   ]
  },
  {
   "cell_type": "code",
   "execution_count": 16,
   "metadata": {},
   "outputs": [
    {
     "data": {
      "text/plain": [
       "'2.4.2'"
      ]
     },
     "execution_count": 16,
     "metadata": {},
     "output_type": "execute_result"
    }
   ],
   "source": [
    "paddle.__version__"
   ]
  },
  {
   "cell_type": "code",
   "execution_count": 17,
   "metadata": {},
   "outputs": [
    {
     "name": "stdout",
     "output_type": "stream",
     "text": [
      "1.1.0\n"
     ]
    }
   ],
   "source": [
    "import paddlets\n",
    "print(paddlets.__version__)"
   ]
  },
  {
   "cell_type": "code",
   "execution_count": 18,
   "metadata": {},
   "outputs": [
    {
     "ename": "ImportError",
     "evalue": "DLL load failed while importing lapack_lite: 找不到指定的模块。",
     "output_type": "error",
     "traceback": [
      "\u001b[1;31m---------------------------------------------------------------------------\u001b[0m",
      "\u001b[1;31mImportError\u001b[0m                               Traceback (most recent call last)",
      "Cell \u001b[1;32mIn[18], line 14\u001b[0m\n\u001b[0;32m      6\u001b[0m sinx \u001b[39m=\u001b[39m np\u001b[39m.\u001b[39msin(x) \u001b[39m*\u001b[39m \u001b[39m4\u001b[39m \u001b[39m+\u001b[39m np\u001b[39m.\u001b[39mrandom\u001b[39m.\u001b[39mrandn(\u001b[39m200\u001b[39m)\n\u001b[0;32m      8\u001b[0m df \u001b[39m=\u001b[39m pd\u001b[39m.\u001b[39mDataFrame(\n\u001b[0;32m      9\u001b[0m     {\n\u001b[0;32m     10\u001b[0m         \u001b[39m'\u001b[39m\u001b[39mtime_col\u001b[39m\u001b[39m'\u001b[39m: pd\u001b[39m.\u001b[39mdate_range(\u001b[39m'\u001b[39m\u001b[39m2022-01-01\u001b[39m\u001b[39m'\u001b[39m, periods\u001b[39m=\u001b[39m\u001b[39m200\u001b[39m, freq\u001b[39m=\u001b[39m\u001b[39m'\u001b[39m\u001b[39m1h\u001b[39m\u001b[39m'\u001b[39m),\n\u001b[0;32m     11\u001b[0m         \u001b[39m'\u001b[39m\u001b[39mvalue\u001b[39m\u001b[39m'\u001b[39m: sinx\n\u001b[0;32m     12\u001b[0m     }\n\u001b[0;32m     13\u001b[0m )\n\u001b[1;32m---> 14\u001b[0m custom_dataset \u001b[39m=\u001b[39m TSDataset\u001b[39m.\u001b[39;49mload_from_dataframe(\n\u001b[0;32m     15\u001b[0m     df,  \u001b[39m#Also can be path to the CSV file\u001b[39;49;00m\n\u001b[0;32m     16\u001b[0m     time_col\u001b[39m=\u001b[39;49m\u001b[39m'\u001b[39;49m\u001b[39mtime_col\u001b[39;49m\u001b[39m'\u001b[39;49m,\n\u001b[0;32m     17\u001b[0m     target_cols\u001b[39m=\u001b[39;49m\u001b[39m'\u001b[39;49m\u001b[39mvalue\u001b[39;49m\u001b[39m'\u001b[39;49m,\n\u001b[0;32m     18\u001b[0m     freq\u001b[39m=\u001b[39;49m\u001b[39m'\u001b[39;49m\u001b[39m1h\u001b[39;49m\u001b[39m'\u001b[39;49m\n\u001b[0;32m     19\u001b[0m )\n",
      "File \u001b[1;32md:\\python\\anaconda3\\envs\\paddle24\\lib\\site-packages\\paddlets\\datasets\\tsdataset.py:984\u001b[0m, in \u001b[0;36mTSDataset.load_from_dataframe\u001b[1;34m(cls, df, group_id, time_col, target_cols, label_col, observed_cov_cols, feature_cols, known_cov_cols, static_cov_cols, freq, fill_missing_dates, fillna_method, fillna_window_size, drop_tail_nan, dtype)\u001b[0m\n\u001b[0;32m    979\u001b[0m             raise_if(\n\u001b[0;32m    980\u001b[0m                 col \u001b[39mnot\u001b[39;00m \u001b[39min\u001b[39;00m df\u001b[39m.\u001b[39mcolumns \u001b[39mor\u001b[39;00m \u001b[39mlen\u001b[39m(np\u001b[39m.\u001b[39munique(df[col])) \u001b[39m!=\u001b[39m \u001b[39m1\u001b[39m,\n\u001b[0;32m    981\u001b[0m                 \u001b[39m\"\u001b[39m\u001b[39mstatic cov cals data is not in columns or schema is not right!\u001b[39m\u001b[39m\"\u001b[39m\n\u001b[0;32m    982\u001b[0m             )\n\u001b[0;32m    983\u001b[0m             static_cov[col] \u001b[39m=\u001b[39m df[col]\u001b[39m.\u001b[39miloc[\u001b[39m0\u001b[39m]\n\u001b[1;32m--> 984\u001b[0m res\u001b[39m.\u001b[39mappend(\u001b[39mcls\u001b[39;49m(\n\u001b[0;32m    985\u001b[0m     target, \n\u001b[0;32m    986\u001b[0m     observed_cov, \n\u001b[0;32m    987\u001b[0m     known_cov, \n\u001b[0;32m    988\u001b[0m     static_cov,\n\u001b[0;32m    989\u001b[0m     fill_missing_dates,\n\u001b[0;32m    990\u001b[0m     fillna_method,\n\u001b[0;32m    991\u001b[0m     fillna_window_size,\n\u001b[0;32m    992\u001b[0m ))\n\u001b[0;32m    993\u001b[0m \u001b[39mif\u001b[39;00m dtype:\n\u001b[0;32m    994\u001b[0m     \u001b[39mfor\u001b[39;00m one \u001b[39min\u001b[39;00m res:\n",
      "File \u001b[1;32md:\\python\\anaconda3\\envs\\paddle24\\lib\\site-packages\\paddlets\\datasets\\tsdataset.py:698\u001b[0m, in \u001b[0;36mTSDataset.__init__\u001b[1;34m(self, target, observed_cov, known_cov, static_cov, fill_missing_dates, fillna_method, fillna_window_size)\u001b[0m\n\u001b[0;32m    695\u001b[0m \u001b[39mself\u001b[39m\u001b[39m.\u001b[39m_check_data()\n\u001b[0;32m    697\u001b[0m \u001b[39m#Get built-in analysis operators\u001b[39;00m\n\u001b[1;32m--> 698\u001b[0m \u001b[39mfrom\u001b[39;00m \u001b[39mpaddlets\u001b[39;00m\u001b[39m.\u001b[39;00m\u001b[39manalysis\u001b[39;00m \u001b[39mimport\u001b[39;00m TSDataset_Inner_Analyzer\n\u001b[0;32m    699\u001b[0m \u001b[39mself\u001b[39m\u001b[39m.\u001b[39m_inner_analyzer \u001b[39m=\u001b[39m TSDataset_Inner_Analyzer\n\u001b[0;32m    701\u001b[0m \u001b[39mif\u001b[39;00m fill_missing_dates:\n\u001b[0;32m    702\u001b[0m     \u001b[39m#Fill the missing values\u001b[39;00m\n",
      "File \u001b[1;32md:\\python\\anaconda3\\envs\\paddle24\\lib\\site-packages\\paddlets\\analysis\\__init__.py:9\u001b[0m\n\u001b[0;32m      7\u001b[0m \u001b[39mfrom\u001b[39;00m \u001b[39mpaddlets\u001b[39;00m\u001b[39m.\u001b[39;00m\u001b[39manalysis\u001b[39;00m\u001b[39m.\u001b[39;00m\u001b[39mbase_analyzers\u001b[39;00m \u001b[39mimport\u001b[39;00m Summary, Max\n\u001b[0;32m      8\u001b[0m \u001b[39mfrom\u001b[39;00m \u001b[39mpaddlets\u001b[39;00m\u001b[39m.\u001b[39;00m\u001b[39manalysis\u001b[39;00m\u001b[39m.\u001b[39;00m\u001b[39mbase_analyzers\u001b[39;00m \u001b[39mimport\u001b[39;00m summary, \u001b[39mmax\u001b[39m\n\u001b[1;32m----> 9\u001b[0m \u001b[39mfrom\u001b[39;00m \u001b[39mpaddlets\u001b[39;00m\u001b[39m.\u001b[39;00m\u001b[39manalysis\u001b[39;00m\u001b[39m.\u001b[39;00m\u001b[39mtime_domain\u001b[39;00m \u001b[39mimport\u001b[39;00m Seasonality\n\u001b[0;32m     10\u001b[0m \u001b[39mfrom\u001b[39;00m \u001b[39mpaddlets\u001b[39;00m\u001b[39m.\u001b[39;00m\u001b[39manalysis\u001b[39;00m\u001b[39m.\u001b[39;00m\u001b[39mtime_domain\u001b[39;00m \u001b[39mimport\u001b[39;00m Acf\n\u001b[0;32m     11\u001b[0m \u001b[39mfrom\u001b[39;00m \u001b[39mpaddlets\u001b[39;00m\u001b[39m.\u001b[39;00m\u001b[39manalysis\u001b[39;00m\u001b[39m.\u001b[39;00m\u001b[39mtime_domain\u001b[39;00m \u001b[39mimport\u001b[39;00m Correlation\n",
      "File \u001b[1;32md:\\python\\anaconda3\\envs\\paddle24\\lib\\site-packages\\paddlets\\analysis\\time_domain.py:12\u001b[0m\n\u001b[0;32m      9\u001b[0m \u001b[39mimport\u001b[39;00m \u001b[39mmatplotlib\u001b[39;00m\u001b[39m.\u001b[39;00m\u001b[39mpyplot\u001b[39;00m \u001b[39mas\u001b[39;00m \u001b[39mplt\u001b[39;00m\n\u001b[0;32m     11\u001b[0m \u001b[39mimport\u001b[39;00m \u001b[39mseaborn\u001b[39;00m \u001b[39mas\u001b[39;00m \u001b[39msns\u001b[39;00m\n\u001b[1;32m---> 12\u001b[0m \u001b[39mfrom\u001b[39;00m \u001b[39mscipy\u001b[39;00m\u001b[39m.\u001b[39;00m\u001b[39msignal\u001b[39;00m \u001b[39mimport\u001b[39;00m argrelmax\n\u001b[0;32m     13\u001b[0m \u001b[39mfrom\u001b[39;00m \u001b[39mscipy\u001b[39;00m\u001b[39m.\u001b[39;00m\u001b[39mstats\u001b[39;00m \u001b[39mimport\u001b[39;00m norm\n\u001b[0;32m     14\u001b[0m \u001b[39mimport\u001b[39;00m \u001b[39mstatsmodels\u001b[39;00m\u001b[39m.\u001b[39;00m\u001b[39mapi\u001b[39;00m \u001b[39mas\u001b[39;00m \u001b[39msm\u001b[39;00m\n",
      "File \u001b[1;32md:\\python\\anaconda3\\envs\\paddle24\\lib\\site-packages\\scipy\\signal\\__init__.py:302\u001b[0m\n\u001b[0;32m    299\u001b[0m \u001b[39mfrom\u001b[39;00m \u001b[39m.\u001b[39;00m\u001b[39mspline\u001b[39;00m \u001b[39mimport\u001b[39;00m \u001b[39m*\u001b[39m\n\u001b[0;32m    301\u001b[0m \u001b[39mfrom\u001b[39;00m \u001b[39m.\u001b[39;00m\u001b[39mbsplines\u001b[39;00m \u001b[39mimport\u001b[39;00m \u001b[39m*\u001b[39m\n\u001b[1;32m--> 302\u001b[0m \u001b[39mfrom\u001b[39;00m \u001b[39m.\u001b[39;00m\u001b[39mfilter_design\u001b[39;00m \u001b[39mimport\u001b[39;00m \u001b[39m*\u001b[39m\n\u001b[0;32m    303\u001b[0m \u001b[39mfrom\u001b[39;00m \u001b[39m.\u001b[39;00m\u001b[39mfir_filter_design\u001b[39;00m \u001b[39mimport\u001b[39;00m \u001b[39m*\u001b[39m\n\u001b[0;32m    304\u001b[0m \u001b[39mfrom\u001b[39;00m \u001b[39m.\u001b[39;00m\u001b[39mltisys\u001b[39;00m \u001b[39mimport\u001b[39;00m \u001b[39m*\u001b[39m\n",
      "File \u001b[1;32md:\\python\\anaconda3\\envs\\paddle24\\lib\\site-packages\\scipy\\signal\\filter_design.py:16\u001b[0m\n\u001b[0;32m     13\u001b[0m \u001b[39mfrom\u001b[39;00m \u001b[39mnumpy\u001b[39;00m\u001b[39m.\u001b[39;00m\u001b[39mpolynomial\u001b[39;00m\u001b[39m.\u001b[39;00m\u001b[39mpolynomial\u001b[39;00m \u001b[39mimport\u001b[39;00m polyval \u001b[39mas\u001b[39;00m npp_polyval\n\u001b[0;32m     14\u001b[0m \u001b[39mfrom\u001b[39;00m \u001b[39mnumpy\u001b[39;00m\u001b[39m.\u001b[39;00m\u001b[39mpolynomial\u001b[39;00m\u001b[39m.\u001b[39;00m\u001b[39mpolynomial\u001b[39;00m \u001b[39mimport\u001b[39;00m polyvalfromroots\n\u001b[1;32m---> 16\u001b[0m \u001b[39mfrom\u001b[39;00m \u001b[39mscipy\u001b[39;00m \u001b[39mimport\u001b[39;00m special, optimize, fft \u001b[39mas\u001b[39;00m sp_fft\n\u001b[0;32m     17\u001b[0m \u001b[39mfrom\u001b[39;00m \u001b[39mscipy\u001b[39;00m\u001b[39m.\u001b[39;00m\u001b[39mspecial\u001b[39;00m \u001b[39mimport\u001b[39;00m comb\n\u001b[0;32m     18\u001b[0m \u001b[39mfrom\u001b[39;00m \u001b[39mscipy\u001b[39;00m\u001b[39m.\u001b[39;00m\u001b[39m_lib\u001b[39;00m\u001b[39m.\u001b[39;00m\u001b[39m_util\u001b[39;00m \u001b[39mimport\u001b[39;00m float_factorial\n",
      "File \u001b[1;32md:\\python\\anaconda3\\envs\\paddle24\\lib\\site-packages\\scipy\\optimize\\__init__.py:401\u001b[0m\n\u001b[0;32m      1\u001b[0m \u001b[39m\"\"\"\u001b[39;00m\n\u001b[0;32m      2\u001b[0m \u001b[39m=====================================================\u001b[39;00m\n\u001b[0;32m      3\u001b[0m \u001b[39mOptimization and root finding (:mod:`scipy.optimize`)\u001b[39;00m\n\u001b[1;32m   (...)\u001b[0m\n\u001b[0;32m    397\u001b[0m \u001b[39m:mod:`Additional information on the nonlinear solvers <scipy.optimize.nonlin>`\u001b[39;00m\n\u001b[0;32m    398\u001b[0m \u001b[39m\"\"\"\u001b[39;00m\n\u001b[0;32m    400\u001b[0m \u001b[39mfrom\u001b[39;00m \u001b[39m.\u001b[39;00m\u001b[39moptimize\u001b[39;00m \u001b[39mimport\u001b[39;00m \u001b[39m*\u001b[39m\n\u001b[1;32m--> 401\u001b[0m \u001b[39mfrom\u001b[39;00m \u001b[39m.\u001b[39;00m\u001b[39m_minimize\u001b[39;00m \u001b[39mimport\u001b[39;00m \u001b[39m*\u001b[39m\n\u001b[0;32m    402\u001b[0m \u001b[39mfrom\u001b[39;00m \u001b[39m.\u001b[39;00m\u001b[39m_root\u001b[39;00m \u001b[39mimport\u001b[39;00m \u001b[39m*\u001b[39m\n\u001b[0;32m    403\u001b[0m \u001b[39mfrom\u001b[39;00m \u001b[39m.\u001b[39;00m\u001b[39m_root_scalar\u001b[39;00m \u001b[39mimport\u001b[39;00m \u001b[39m*\u001b[39m\n",
      "File \u001b[1;32md:\\python\\anaconda3\\envs\\paddle24\\lib\\site-packages\\scipy\\optimize\\_minimize.py:27\u001b[0m\n\u001b[0;32m     25\u001b[0m \u001b[39mfrom\u001b[39;00m \u001b[39m.\u001b[39;00m\u001b[39m_trustregion_krylov\u001b[39;00m \u001b[39mimport\u001b[39;00m _minimize_trust_krylov\n\u001b[0;32m     26\u001b[0m \u001b[39mfrom\u001b[39;00m \u001b[39m.\u001b[39;00m\u001b[39m_trustregion_exact\u001b[39;00m \u001b[39mimport\u001b[39;00m _minimize_trustregion_exact\n\u001b[1;32m---> 27\u001b[0m \u001b[39mfrom\u001b[39;00m \u001b[39m.\u001b[39;00m\u001b[39m_trustregion_constr\u001b[39;00m \u001b[39mimport\u001b[39;00m _minimize_trustregion_constr\n\u001b[0;32m     29\u001b[0m \u001b[39m# constrained minimization\u001b[39;00m\n\u001b[0;32m     30\u001b[0m \u001b[39mfrom\u001b[39;00m \u001b[39m.\u001b[39;00m\u001b[39mlbfgsb\u001b[39;00m \u001b[39mimport\u001b[39;00m _minimize_lbfgsb\n",
      "File \u001b[1;32md:\\python\\anaconda3\\envs\\paddle24\\lib\\site-packages\\scipy\\optimize\\_trustregion_constr\\__init__.py:4\u001b[0m\n\u001b[0;32m      1\u001b[0m \u001b[39m\"\"\"This module contains the equality constrained SQP solver.\"\"\"\u001b[39;00m\n\u001b[1;32m----> 4\u001b[0m \u001b[39mfrom\u001b[39;00m \u001b[39m.\u001b[39;00m\u001b[39mminimize_trustregion_constr\u001b[39;00m \u001b[39mimport\u001b[39;00m _minimize_trustregion_constr\n\u001b[0;32m      6\u001b[0m __all__ \u001b[39m=\u001b[39m [\u001b[39m'\u001b[39m\u001b[39m_minimize_trustregion_constr\u001b[39m\u001b[39m'\u001b[39m]\n",
      "File \u001b[1;32md:\\python\\anaconda3\\envs\\paddle24\\lib\\site-packages\\scipy\\optimize\\_trustregion_constr\\minimize_trustregion_constr.py:5\u001b[0m\n\u001b[0;32m      3\u001b[0m \u001b[39mfrom\u001b[39;00m \u001b[39mscipy\u001b[39;00m\u001b[39m.\u001b[39;00m\u001b[39msparse\u001b[39;00m\u001b[39m.\u001b[39;00m\u001b[39mlinalg\u001b[39;00m \u001b[39mimport\u001b[39;00m LinearOperator\n\u001b[0;32m      4\u001b[0m \u001b[39mfrom\u001b[39;00m \u001b[39m.\u001b[39;00m\u001b[39m.\u001b[39;00m\u001b[39m_differentiable_functions\u001b[39;00m \u001b[39mimport\u001b[39;00m VectorFunction\n\u001b[1;32m----> 5\u001b[0m \u001b[39mfrom\u001b[39;00m \u001b[39m.\u001b[39;00m\u001b[39m.\u001b[39;00m\u001b[39m_constraints\u001b[39;00m \u001b[39mimport\u001b[39;00m (\n\u001b[0;32m      6\u001b[0m     NonlinearConstraint, LinearConstraint, PreparedConstraint, strict_bounds)\n\u001b[0;32m      7\u001b[0m \u001b[39mfrom\u001b[39;00m \u001b[39m.\u001b[39;00m\u001b[39m.\u001b[39;00m\u001b[39m_hessian_update_strategy\u001b[39;00m \u001b[39mimport\u001b[39;00m BFGS\n\u001b[0;32m      8\u001b[0m \u001b[39mfrom\u001b[39;00m \u001b[39m.\u001b[39;00m\u001b[39m.\u001b[39;00m\u001b[39moptimize\u001b[39;00m \u001b[39mimport\u001b[39;00m OptimizeResult\n",
      "File \u001b[1;32md:\\python\\anaconda3\\envs\\paddle24\\lib\\site-packages\\scipy\\optimize\\_constraints.py:8\u001b[0m\n\u001b[0;32m      6\u001b[0m \u001b[39mfrom\u001b[39;00m \u001b[39m.\u001b[39;00m\u001b[39moptimize\u001b[39;00m \u001b[39mimport\u001b[39;00m OptimizeWarning\n\u001b[0;32m      7\u001b[0m \u001b[39mfrom\u001b[39;00m \u001b[39mwarnings\u001b[39;00m \u001b[39mimport\u001b[39;00m warn\n\u001b[1;32m----> 8\u001b[0m \u001b[39mfrom\u001b[39;00m \u001b[39mnumpy\u001b[39;00m\u001b[39m.\u001b[39;00m\u001b[39mtesting\u001b[39;00m \u001b[39mimport\u001b[39;00m suppress_warnings\n\u001b[0;32m      9\u001b[0m \u001b[39mfrom\u001b[39;00m \u001b[39mscipy\u001b[39;00m\u001b[39m.\u001b[39;00m\u001b[39msparse\u001b[39;00m \u001b[39mimport\u001b[39;00m issparse\n\u001b[0;32m     12\u001b[0m \u001b[39mdef\u001b[39;00m \u001b[39m_arr_to_scalar\u001b[39m(x):\n\u001b[0;32m     13\u001b[0m     \u001b[39m# If x is a numpy array, return x.item().  This will\u001b[39;00m\n\u001b[0;32m     14\u001b[0m     \u001b[39m# fail if the array has more than one element.\u001b[39;00m\n",
      "File \u001b[1;32md:\\python\\anaconda3\\envs\\paddle24\\lib\\site-packages\\numpy\\testing\\__init__.py:10\u001b[0m\n\u001b[0;32m      1\u001b[0m \u001b[39m\"\"\"Common test support for all numpy test scripts.\u001b[39;00m\n\u001b[0;32m      2\u001b[0m \n\u001b[0;32m      3\u001b[0m \u001b[39mThis single module should provide all the common functionality for numpy tests\u001b[39;00m\n\u001b[1;32m   (...)\u001b[0m\n\u001b[0;32m      6\u001b[0m \n\u001b[0;32m      7\u001b[0m \u001b[39m\"\"\"\u001b[39;00m\n\u001b[0;32m      8\u001b[0m \u001b[39mfrom\u001b[39;00m \u001b[39munittest\u001b[39;00m \u001b[39mimport\u001b[39;00m TestCase\n\u001b[1;32m---> 10\u001b[0m \u001b[39mfrom\u001b[39;00m \u001b[39m.\u001b[39;00m\u001b[39m_private\u001b[39;00m\u001b[39m.\u001b[39;00m\u001b[39mutils\u001b[39;00m \u001b[39mimport\u001b[39;00m \u001b[39m*\u001b[39m\n\u001b[0;32m     11\u001b[0m \u001b[39mfrom\u001b[39;00m \u001b[39m.\u001b[39;00m\u001b[39m_private\u001b[39;00m \u001b[39mimport\u001b[39;00m decorators \u001b[39mas\u001b[39;00m dec\n\u001b[0;32m     12\u001b[0m \u001b[39mfrom\u001b[39;00m \u001b[39m.\u001b[39;00m\u001b[39m_private\u001b[39;00m\u001b[39m.\u001b[39;00m\u001b[39mnosetester\u001b[39;00m \u001b[39mimport\u001b[39;00m (\n\u001b[0;32m     13\u001b[0m     run_module_suite, NoseTester \u001b[39mas\u001b[39;00m Tester\n\u001b[0;32m     14\u001b[0m     )\n",
      "File \u001b[1;32md:\\python\\anaconda3\\envs\\paddle24\\lib\\site-packages\\numpy\\testing\\_private\\utils.py:22\u001b[0m\n\u001b[0;32m     18\u001b[0m \u001b[39mimport\u001b[39;00m \u001b[39mpprint\u001b[39;00m\n\u001b[0;32m     20\u001b[0m \u001b[39mfrom\u001b[39;00m \u001b[39mnumpy\u001b[39;00m\u001b[39m.\u001b[39;00m\u001b[39mcore\u001b[39;00m \u001b[39mimport\u001b[39;00m(\n\u001b[0;32m     21\u001b[0m      intp, float32, empty, arange, array_repr, ndarray, isnat, array)\n\u001b[1;32m---> 22\u001b[0m \u001b[39mimport\u001b[39;00m \u001b[39mnumpy\u001b[39;00m\u001b[39m.\u001b[39;00m\u001b[39mlinalg\u001b[39;00m\u001b[39m.\u001b[39;00m\u001b[39mlapack_lite\u001b[39;00m\n\u001b[0;32m     24\u001b[0m \u001b[39mfrom\u001b[39;00m \u001b[39mio\u001b[39;00m \u001b[39mimport\u001b[39;00m StringIO\n\u001b[0;32m     26\u001b[0m __all__ \u001b[39m=\u001b[39m [\n\u001b[0;32m     27\u001b[0m         \u001b[39m'\u001b[39m\u001b[39massert_equal\u001b[39m\u001b[39m'\u001b[39m, \u001b[39m'\u001b[39m\u001b[39massert_almost_equal\u001b[39m\u001b[39m'\u001b[39m, \u001b[39m'\u001b[39m\u001b[39massert_approx_equal\u001b[39m\u001b[39m'\u001b[39m,\n\u001b[0;32m     28\u001b[0m         \u001b[39m'\u001b[39m\u001b[39massert_array_equal\u001b[39m\u001b[39m'\u001b[39m, \u001b[39m'\u001b[39m\u001b[39massert_array_less\u001b[39m\u001b[39m'\u001b[39m, \u001b[39m'\u001b[39m\u001b[39massert_string_equal\u001b[39m\u001b[39m'\u001b[39m,\n\u001b[1;32m   (...)\u001b[0m\n\u001b[0;32m     38\u001b[0m         \u001b[39m'\u001b[39m\u001b[39mbreak_cycles\u001b[39m\u001b[39m'\u001b[39m, \u001b[39m'\u001b[39m\u001b[39mHAS_LAPACK64\u001b[39m\u001b[39m'\u001b[39m\n\u001b[0;32m     39\u001b[0m         ]\n",
      "\u001b[1;31mImportError\u001b[0m: DLL load failed while importing lapack_lite: 找不到指定的模块。"
     ]
    }
   ],
   "source": [
    "import pandas as pd\n",
    "import numpy as np\n",
    "from paddlets import TSDataset\n",
    "\n",
    "x = np.linspace(-np.pi, np.pi, 200)\n",
    "sinx = np.sin(x) * 4 + np.random.randn(200)\n",
    "\n",
    "df = pd.DataFrame(\n",
    "    {\n",
    "        'time_col': pd.date_range('2022-01-01', periods=200, freq='1h'),\n",
    "        'value': sinx\n",
    "    }\n",
    ")\n",
    "custom_dataset = TSDataset.load_from_dataframe(\n",
    "    df,  #Also can be path to the CSV file\n",
    "    time_col='time_col',\n",
    "    target_cols='value',\n",
    "    freq='1h'\n",
    ")\n",
    "# custom_dataset.plot()"
   ]
  },
  {
   "cell_type": "code",
   "execution_count": null,
   "metadata": {},
   "outputs": [],
   "source": []
  }
 ],
 "metadata": {
  "kernelspec": {
   "display_name": "paddle24",
   "language": "python",
   "name": "python3"
  },
  "language_info": {
   "codemirror_mode": {
    "name": "ipython",
    "version": 3
   },
   "file_extension": ".py",
   "mimetype": "text/x-python",
   "name": "python",
   "nbconvert_exporter": "python",
   "pygments_lexer": "ipython3",
   "version": "3.9.15"
  },
  "orig_nbformat": 4
 },
 "nbformat": 4,
 "nbformat_minor": 2
}
