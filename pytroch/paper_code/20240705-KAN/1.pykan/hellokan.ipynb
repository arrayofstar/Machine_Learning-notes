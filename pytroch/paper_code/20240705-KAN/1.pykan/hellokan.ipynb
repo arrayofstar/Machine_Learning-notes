{
 "cells": [
  {
   "cell_type": "markdown",
   "id": "134e7f9d",
   "metadata": {},
   "source": [
    "# Hello, KAN!"
   ]
  },
  {
   "cell_type": "markdown",
   "id": "59cf5cd0",
   "metadata": {},
   "source": [
    "### Kolmogorov-Arnold representation theorem"
   ]
  },
  {
   "cell_type": "markdown",
   "id": "f88e5321",
   "metadata": {},
   "source": [
    "Kolmogorov-Arnold representation theorem states that if $f$ is a multivariate continuous function\n",
    "on a bounded domain, then it can be written as a finite composition of continuous functions of a\n",
    "single variable and the binary operation of addition. More specifically, for a smooth $f : [0,1]^n \\to \\mathbb{R}$,\n",
    "\n",
    "\n",
    "$$f(x) = f(x_1,...,x_n)=\\sum_{q=1}^{2n+1}\\Phi_q(\\sum_{p=1}^n \\phi_{q,p}(x_p))$$\n",
    "\n",
    "where $\\phi_{q,p}:[0,1]\\to\\mathbb{R}$ and $\\Phi_q:\\mathbb{R}\\to\\mathbb{R}$. In a sense, they showed that the only true multivariate function is addition, since every other function can be written using univariate functions and sum. However, this 2-Layer width-$(2n+1)$ Kolmogorov-Arnold representation may not be smooth due to its limited expressive power. We augment its expressive power by generalizing it to arbitrary depths and widths."
   ]
  },
  {
   "cell_type": "markdown",
   "id": "ebd8766a",
   "metadata": {},
   "source": [
    "### Kolmogorov-Arnold Network (KAN)"
   ]
  },
  {
   "cell_type": "markdown",
   "id": "2cf3b1ee",
   "metadata": {},
   "source": [
    "The Kolmogorov-Arnold representation can be written in matrix form\n",
    "\n",
    "$$f(x)={\\bf \\Phi}_{\\rm out}\\circ{\\bf \\Phi}_{\\rm in}\\circ {\\bf x}$$\n",
    "\n",
    "where \n",
    "\n",
    "$${\\bf \\Phi}_{\\rm in}= \\begin{pmatrix} \\phi_{1,1}(\\cdot) & \\cdots & \\phi_{1,n}(\\cdot) \\\\ \\vdots & & \\vdots \\\\ \\phi_{2n+1,1}(\\cdot) & \\cdots & \\phi_{2n+1,n}(\\cdot) \\end{pmatrix},\\quad {\\bf \\Phi}_{\\rm out}=\\begin{pmatrix} \\Phi_1(\\cdot) & \\cdots & \\Phi_{2n+1}(\\cdot)\\end{pmatrix}$$"
   ]
  },
  {
   "cell_type": "markdown",
   "id": "f6521452",
   "metadata": {},
   "source": [
    "We notice that both ${\\bf \\Phi}_{\\rm in}$ and ${\\bf \\Phi}_{\\rm out}$ are special cases of the following function matrix ${\\bf \\Phi}$ (with $n_{\\rm in}$ inputs, and $n_{\\rm out}$ outputs), we call a Kolmogorov-Arnold layer:\n",
    "\n",
    "$${\\bf \\Phi}= \\begin{pmatrix} \\phi_{1,1}(\\cdot) & \\cdots & \\phi_{1,n_{\\rm in}}(\\cdot) \\\\ \\vdots & & \\vdots \\\\ \\phi_{n_{\\rm out},1}(\\cdot) & \\cdots & \\phi_{n_{\\rm out},n_{\\rm in}}(\\cdot) \\end{pmatrix}$$\n",
    "\n",
    "${\\bf \\Phi}_{\\rm in}$ corresponds to $n_{\\rm in}=n, n_{\\rm out}=2n+1$, and ${\\bf \\Phi}_{\\rm out}$ corresponds to $n_{\\rm in}=2n+1, n_{\\rm out}=1$."
   ]
  },
  {
   "cell_type": "markdown",
   "id": "1b410498",
   "metadata": {},
   "source": [
    "After defining the layer, we can construct a Kolmogorov-Arnold network simply by stacking layers! Let's say we have $L$ layers, with the $l^{\\rm th}$ layer ${\\bf \\Phi}_l$ have shape $(n_{l+1}, n_{l})$. Then the whole network is\n",
    "\n",
    "$${\\rm KAN}({\\bf x})={\\bf \\Phi}_{L-1}\\circ\\cdots \\circ{\\bf \\Phi}_1\\circ{\\bf \\Phi}_0\\circ {\\bf x}$$"
   ]
  },
  {
   "cell_type": "markdown",
   "id": "54bbde9a",
   "metadata": {},
   "source": [
    "In constrast, a Multi-Layer Perceptron is interleaved by linear layers ${\\bf W}_l$ and nonlinearities $\\sigma$:\n",
    "\n",
    "$${\\rm MLP}({\\bf x})={\\bf W}_{L-1}\\circ\\sigma\\circ\\cdots\\circ {\\bf W}_1\\circ\\sigma\\circ {\\bf W}_0\\circ {\\bf x}$$"
   ]
  },
  {
   "cell_type": "markdown",
   "id": "1c5f7795",
   "metadata": {},
   "source": [
    "A KAN can be easily visualized. (1) A KAN is simply stack of KAN layers. (2) Each KAN layer can be visualized as a fully-connected layer, with a 1D function placed on each edge. Let's see an example below."
   ]
  },
  {
   "cell_type": "markdown",
   "id": "adcb5f75",
   "metadata": {},
   "source": [
    "### Get started with KANs"
   ]
  },
  {
   "cell_type": "markdown",
   "id": "2571d531",
   "metadata": {},
   "source": [
    "Initialize KAN"
   ]
  },
  {
   "cell_type": "code",
   "execution_count": 51,
   "id": "cb57e2b9",
   "metadata": {},
   "outputs": [],
   "source": [
    "# !pip install torch torchvision torchaudio --index-url https://download.pytorch.org/whl/cu118"
   ]
  },
  {
   "cell_type": "code",
   "execution_count": 2,
   "id": "edba49e7",
   "metadata": {},
   "outputs": [
    {
     "data": {
      "text/plain": [
       "'1.13.1+cu117'"
      ]
     },
     "execution_count": 2,
     "metadata": {},
     "output_type": "execute_result"
    }
   ],
   "source": [
    "import torch\n",
    "device = torch.device(\"cuda:0\" if torch.cuda.is_available() else \"cpu\")\n",
    "torch.set_default_dtype(torch.float64)\n",
    "torch.__version__"
   ]
  },
  {
   "cell_type": "code",
   "execution_count": 3,
   "id": "2075ef56",
   "metadata": {},
   "outputs": [],
   "source": [
    "from kan import *\n",
    "# create a KAN: 2D inputs, 1D output, and 5 hidden neurons. cubic spline (k=3), 5 grid intervals (grid=5).\n",
    "model = KAN(width=[2,5,1], grid=5, k=3, seed=0, device=device)"
   ]
  },
  {
   "cell_type": "markdown",
   "id": "3d72e076",
   "metadata": {},
   "source": [
    "Create dataset"
   ]
  },
  {
   "cell_type": "code",
   "execution_count": 6,
   "id": "46717e8b",
   "metadata": {},
   "outputs": [
    {
     "data": {
      "text/plain": [
       "(torch.Size([1000, 2]), torch.Size([1000, 1]))"
      ]
     },
     "execution_count": 6,
     "metadata": {},
     "output_type": "execute_result"
    }
   ],
   "source": [
    "# create dataset f(x,y) = exp(sin(pi*x)+y^2)\n",
    "f = lambda x: torch.exp(torch.sin(torch.pi*x[:,[0]]) + x[:,[1]]**2)\n",
    "dataset = create_dataset(f, n_var=2, device=device)\n",
    "dataset['train_input'].shape, dataset['train_label'].shape"
   ]
  },
  {
   "cell_type": "markdown",
   "id": "8c6add1d",
   "metadata": {},
   "source": [
    "Plot KAN at initialization"
   ]
  },
  {
   "cell_type": "code",
   "execution_count": 7,
   "id": "ac76f858",
   "metadata": {},
   "outputs": [
    {
     "data": {
      "text/plain": [
       "<module 'matplotlib.pyplot' from 'd:\\\\mf\\\\anaconda3\\\\envs\\\\paddle_pytroch\\\\lib\\\\site-packages\\\\matplotlib\\\\pyplot.py'>"
      ]
     },
     "execution_count": 7,
     "metadata": {},
     "output_type": "execute_result"
    },
    {
     "data": {
      "image/png": "[encoded data removed]",
      "text/plain": [
       "<Figure size 500x400 with 16 Axes>"
      ]
     },
     "metadata": {},
     "output_type": "display_data"
    }
   ],
   "source": [
    "# plot KAN at initialization\n",
    "model(dataset['train_input']);\n",
    "model.plot(beta=100)"
   ]
  },
  {
   "cell_type": "markdown",
   "id": "ddf67e30",
   "metadata": {},
   "source": [
    "Train KAN with sparsity regularization"
   ]
  },
  {
   "cell_type": "code",
   "execution_count": 9,
   "id": "97111d75",
   "metadata": {},
   "outputs": [
    {
     "name": "stderr",
     "output_type": "stream",
     "text": [
      "train loss: 0.13 | test loss: 0.12 | reg: 19.14 : 100%|█████████████| 20/20 [00:20<00:00,  1.04s/it]\n"
     ]
    }
   ],
   "source": [
    "# train the model\n",
    "model.train(dataset, opt=\"LBFGS\", steps=20, lamb=0.01, lamb_entropy=10., device=device)"
   ]
  },
  {
   "cell_type": "markdown",
   "id": "2f30c3ab",
   "metadata": {},
   "source": [
    "Plot trained KAN"
   ]
  },
  {
   "cell_type": "code",
   "execution_count": 10,
   "id": "3f95fcdd",
   "metadata": {},
   "outputs": [
    {
     "data": {
      "text/plain": [
       "<module 'matplotlib.pyplot' from 'd:\\\\mf\\\\anaconda3\\\\envs\\\\paddle_pytroch\\\\lib\\\\site-packages\\\\matplotlib\\\\pyplot.py'>"
      ]
     },
     "execution_count": 10,
     "metadata": {},
     "output_type": "execute_result"
    },
    {
     "data": {
      "image/png": "[encoded data removed]",
      "text/plain": [
       "<Figure size 500x400 with 16 Axes>"
      ]
     },
     "metadata": {},
     "output_type": "display_data"
    }
   ],
   "source": [
    "model.plot()"
   ]
  },
  {
   "cell_type": "markdown",
   "id": "61d537b7",
   "metadata": {},
   "source": [
    "Prune KAN and replot (keep the original shape)"
   ]
  },
  {
   "cell_type": "code",
   "execution_count": 11,
   "id": "1269a698",
   "metadata": {},
   "outputs": [
    {
     "data": {
      "text/plain": [
       "<module 'matplotlib.pyplot' from 'd:\\\\mf\\\\anaconda3\\\\envs\\\\paddle_pytroch\\\\lib\\\\site-packages\\\\matplotlib\\\\pyplot.py'>"
      ]
     },
     "execution_count": 11,
     "metadata": {},
     "output_type": "execute_result"
    },
    {
     "data": {
      "image/png": "[encoded data removed]",
      "text/plain": [
       "<Figure size 500x400 with 16 Axes>"
      ]
     },
     "metadata": {},
     "output_type": "display_data"
    }
   ],
   "source": [
    "model.prune()\n",
    "model.plot(mask=True)"
   ]
  },
  {
   "cell_type": "markdown",
   "id": "576856cf",
   "metadata": {},
   "source": [
    "Prune KAN and replot (get a smaller shape)"
   ]
  },
  {
   "cell_type": "code",
   "execution_count": 12,
   "id": "7fe6fb12",
   "metadata": {},
   "outputs": [
    {
     "data": {
      "text/plain": [
       "<module 'matplotlib.pyplot' from 'd:\\\\mf\\\\anaconda3\\\\envs\\\\paddle_pytroch\\\\lib\\\\site-packages\\\\matplotlib\\\\pyplot.py'>"
      ]
     },
     "execution_count": 12,
     "metadata": {},
     "output_type": "execute_result"
    },
    {
     "data": {
      "image/png": "[encoded data removed]",
      "text/plain": [
       "<Figure size 500x400 with 4 Axes>"
      ]
     },
     "metadata": {},
     "output_type": "display_data"
    }
   ],
   "source": [
    "model = model.prune()\n",
    "model(dataset['train_input'])\n",
    "model.plot()"
   ]
  },
  {
   "cell_type": "markdown",
   "id": "bd08ad99",
   "metadata": {},
   "source": [
    "Continue training and replot"
   ]
  },
  {
   "cell_type": "code",
   "execution_count": 14,
   "id": "18a2db11",
   "metadata": {},
   "outputs": [
    {
     "name": "stderr",
     "output_type": "stream",
     "text": [
      "train loss: 0.00 | test loss: 0.00 | reg: 2.86 : 100%|██████████████| 50/50 [00:30<00:00,  1.63it/s]\n"
     ]
    },
    {
     "data": {
      "text/plain": [
       "{'train_loss': [array(0.04771317),\n",
       "  array(0.02047056),\n",
       "  array(0.01582519),\n",
       "  array(0.01361912),\n",
       "  array(0.01078602),\n",
       "  array(0.00635057),\n",
       "  array(0.00564354),\n",
       "  array(0.00528025),\n",
       "  array(0.00511924),\n",
       "  array(0.00495509),\n",
       "  array(0.00489862),\n",
       "  array(0.00481141),\n",
       "  array(0.00476628),\n",
       "  array(0.00474617),\n",
       "  array(0.00473569),\n",
       "  array(0.00471799),\n",
       "  array(0.00470536),\n",
       "  array(0.00470044),\n",
       "  array(0.00469812),\n",
       "  array(0.00469559),\n",
       "  array(0.00469228),\n",
       "  array(0.00469187),\n",
       "  array(0.00469148),\n",
       "  array(0.00469112),\n",
       "  array(0.00469099),\n",
       "  array(0.00469112),\n",
       "  array(0.00469087),\n",
       "  array(0.00469017),\n",
       "  array(0.00468926),\n",
       "  array(0.0046879),\n",
       "  array(0.00469446),\n",
       "  array(0.00469114),\n",
       "  array(0.00468656),\n",
       "  array(0.0046835),\n",
       "  array(0.00467981),\n",
       "  array(0.00469687),\n",
       "  array(0.00469314),\n",
       "  array(0.00469179),\n",
       "  array(0.00468983),\n",
       "  array(0.00468681),\n",
       "  array(0.00470611),\n",
       "  array(0.00470427),\n",
       "  array(0.00470138),\n",
       "  array(0.0046968),\n",
       "  array(0.00469265),\n",
       "  array(0.00470793),\n",
       "  array(0.00470418),\n",
       "  array(0.00470091),\n",
       "  array(0.00469803),\n",
       "  array(0.00469371)],\n",
       " 'test_loss': [array(0.04439249),\n",
       "  array(0.02068071),\n",
       "  array(0.01612035),\n",
       "  array(0.01365012),\n",
       "  array(0.01048915),\n",
       "  array(0.00611829),\n",
       "  array(0.00543938),\n",
       "  array(0.00516315),\n",
       "  array(0.00505559),\n",
       "  array(0.00494794),\n",
       "  array(0.00497513),\n",
       "  array(0.00490705),\n",
       "  array(0.00480006),\n",
       "  array(0.00473912),\n",
       "  array(0.00473857),\n",
       "  array(0.00472955),\n",
       "  array(0.00473402),\n",
       "  array(0.0047445),\n",
       "  array(0.00474104),\n",
       "  array(0.00473303),\n",
       "  array(0.0047219),\n",
       "  array(0.00472174),\n",
       "  array(0.00472754),\n",
       "  array(0.00473096),\n",
       "  array(0.00472968),\n",
       "  array(0.00472838),\n",
       "  array(0.0047261),\n",
       "  array(0.00472509),\n",
       "  array(0.0047221),\n",
       "  array(0.00471785),\n",
       "  array(0.00472508),\n",
       "  array(0.00471934),\n",
       "  array(0.00472754),\n",
       "  array(0.00472526),\n",
       "  array(0.00472793),\n",
       "  array(0.00473999),\n",
       "  array(0.00473148),\n",
       "  array(0.00473261),\n",
       "  array(0.00473775),\n",
       "  array(0.00472995),\n",
       "  array(0.00474841),\n",
       "  array(0.0047417),\n",
       "  array(0.00473656),\n",
       "  array(0.00472438),\n",
       "  array(0.00473154),\n",
       "  array(0.00474809),\n",
       "  array(0.00474525),\n",
       "  array(0.0047457),\n",
       "  array(0.00474597),\n",
       "  array(0.00475442)],\n",
       " 'reg': [array(2.74551269),\n",
       "  array(2.79736322),\n",
       "  array(2.77282111),\n",
       "  array(2.75381439),\n",
       "  array(2.74362803),\n",
       "  array(2.77993376),\n",
       "  array(2.77517866),\n",
       "  array(2.77774234),\n",
       "  array(2.77755834),\n",
       "  array(2.77663796),\n",
       "  array(2.78203845),\n",
       "  array(2.77776023),\n",
       "  array(2.77672564),\n",
       "  array(2.77450996),\n",
       "  array(2.77355019),\n",
       "  array(2.77656713),\n",
       "  array(2.77646728),\n",
       "  array(2.77616003),\n",
       "  array(2.77581643),\n",
       "  array(2.77532966),\n",
       "  array(2.77561286),\n",
       "  array(2.77572831),\n",
       "  array(2.77596419),\n",
       "  array(2.7760473),\n",
       "  array(2.77612079),\n",
       "  array(2.77636495),\n",
       "  array(2.77676512),\n",
       "  array(2.77829474),\n",
       "  array(2.77991349),\n",
       "  array(2.78347682),\n",
       "  array(2.78514507),\n",
       "  array(2.79347022),\n",
       "  array(2.8008854),\n",
       "  array(2.8006964),\n",
       "  array(2.8035555),\n",
       "  array(2.80607914),\n",
       "  array(2.81184175),\n",
       "  array(2.81341171),\n",
       "  array(2.81317154),\n",
       "  array(2.81572767),\n",
       "  array(2.8113449),\n",
       "  array(2.81360999),\n",
       "  array(2.82012052),\n",
       "  array(2.82718535),\n",
       "  array(2.83240918),\n",
       "  array(2.83758837),\n",
       "  array(2.84476694),\n",
       "  array(2.84476407),\n",
       "  array(2.84726043),\n",
       "  array(2.85593747)]}"
      ]
     },
     "execution_count": 14,
     "metadata": {},
     "output_type": "execute_result"
    }
   ],
   "source": [
    "model.train(dataset, opt=\"LBFGS\", steps=50, device=device)"
   ]
  },
  {
   "cell_type": "code",
   "execution_count": 15,
   "id": "af27aba7",
   "metadata": {},
   "outputs": [
    {
     "data": {
      "text/plain": [
       "<module 'matplotlib.pyplot' from 'd:\\\\mf\\\\anaconda3\\\\envs\\\\paddle_pytroch\\\\lib\\\\site-packages\\\\matplotlib\\\\pyplot.py'>"
      ]
     },
     "execution_count": 15,
     "metadata": {},
     "output_type": "execute_result"
    },
    {
     "data": {
      "image/png": "[encoded data removed]",
      "text/plain": [
       "<Figure size 500x400 with 4 Axes>"
      ]
     },
     "metadata": {},
     "output_type": "display_data"
    }
   ],
   "source": [
    "model.plot()"
   ]
  },
  {
   "cell_type": "markdown",
   "id": "cf35d505",
   "metadata": {},
   "source": [
    "Automatically or manually set activation functions to be symbolic"
   ]
  },
  {
   "cell_type": "code",
   "execution_count": 16,
   "id": "b3c0642b",
   "metadata": {},
   "outputs": [
    {
     "name": "stdout",
     "output_type": "stream",
     "text": [
      "fixing (0,0,0) with sin, r2=0.9999868432807518\n",
      "fixing (0,1,0) with x^2, r2=0.9999995969983742\n",
      "fixing (1,0,0) with exp, r2=0.9999990338164441\n"
     ]
    }
   ],
   "source": [
    "mode = \"auto\" # \"manual\"\n",
    "\n",
    "if mode == \"manual\":\n",
    "    # manual mode\n",
    "    model.fix_symbolic(0,0,0,'sin');\n",
    "    model.fix_symbolic(0,1,0,'x^2');\n",
    "    model.fix_symbolic(1,0,0,'exp');\n",
    "elif mode == \"auto\":\n",
    "    # automatic mode\n",
    "    lib = ['x','x^2','x^3','x^4','exp','log','sqrt','tanh','sin','abs']\n",
    "    model.auto_symbolic(lib=lib)"
   ]
  },
  {
   "cell_type": "markdown",
   "id": "821ba616",
   "metadata": {},
   "source": [
    "Continue training to almost machine precision"
   ]
  },
  {
   "cell_type": "code",
   "execution_count": 21,
   "id": "c0800415",
   "metadata": {},
   "outputs": [
    {
     "name": "stderr",
     "output_type": "stream",
     "text": [
      "train loss: 0.00 | test loss: 0.00 | reg: 2.85 : 100%|██████████████| 50/50 [00:03<00:00, 13.55it/s]\n"
     ]
    },
    {
     "data": {
      "text/plain": [
       "{'train_loss': [array(1.81740947e-12),\n",
       "  array(1.81740947e-12),\n",
       "  array(1.81740947e-12),\n",
       "  array(1.81740947e-12),\n",
       "  array(1.81740947e-12),\n",
       "  array(1.81740947e-12),\n",
       "  array(1.81740947e-12),\n",
       "  array(1.81740947e-12),\n",
       "  array(1.81740947e-12),\n",
       "  array(1.81740947e-12),\n",
       "  array(1.81740947e-12),\n",
       "  array(1.81740947e-12),\n",
       "  array(1.81740947e-12),\n",
       "  array(1.81740947e-12),\n",
       "  array(1.81740947e-12),\n",
       "  array(1.81740947e-12),\n",
       "  array(1.81740947e-12),\n",
       "  array(1.81740947e-12),\n",
       "  array(1.81740947e-12),\n",
       "  array(1.81740947e-12),\n",
       "  array(1.81740947e-12),\n",
       "  array(1.81740947e-12),\n",
       "  array(1.81740947e-12),\n",
       "  array(1.81740947e-12),\n",
       "  array(1.81740947e-12),\n",
       "  array(1.81740947e-12),\n",
       "  array(1.81740947e-12),\n",
       "  array(1.81740947e-12),\n",
       "  array(1.81740947e-12),\n",
       "  array(1.81740947e-12),\n",
       "  array(1.81740947e-12),\n",
       "  array(1.81740947e-12),\n",
       "  array(1.81740947e-12),\n",
       "  array(1.81740947e-12),\n",
       "  array(1.81740947e-12),\n",
       "  array(1.81740947e-12),\n",
       "  array(1.81740947e-12),\n",
       "  array(1.81740947e-12),\n",
       "  array(1.81740947e-12),\n",
       "  array(1.81740947e-12),\n",
       "  array(1.81740947e-12),\n",
       "  array(1.81740947e-12),\n",
       "  array(1.81740947e-12),\n",
       "  array(1.81740947e-12),\n",
       "  array(1.81740947e-12),\n",
       "  array(1.81740947e-12),\n",
       "  array(1.81740947e-12),\n",
       "  array(1.81740947e-12),\n",
       "  array(1.81740947e-12),\n",
       "  array(1.81740947e-12)],\n",
       " 'test_loss': [array(1.7409589e-12),\n",
       "  array(1.7409589e-12),\n",
       "  array(1.7409589e-12),\n",
       "  array(1.7409589e-12),\n",
       "  array(1.7409589e-12),\n",
       "  array(1.7409589e-12),\n",
       "  array(1.7409589e-12),\n",
       "  array(1.7409589e-12),\n",
       "  array(1.7409589e-12),\n",
       "  array(1.7409589e-12),\n",
       "  array(1.7409589e-12),\n",
       "  array(1.7409589e-12),\n",
       "  array(1.7409589e-12),\n",
       "  array(1.7409589e-12),\n",
       "  array(1.7409589e-12),\n",
       "  array(1.7409589e-12),\n",
       "  array(1.7409589e-12),\n",
       "  array(1.7409589e-12),\n",
       "  array(1.7409589e-12),\n",
       "  array(1.7409589e-12),\n",
       "  array(1.7409589e-12),\n",
       "  array(1.7409589e-12),\n",
       "  array(1.7409589e-12),\n",
       "  array(1.7409589e-12),\n",
       "  array(1.7409589e-12),\n",
       "  array(1.7409589e-12),\n",
       "  array(1.7409589e-12),\n",
       "  array(1.7409589e-12),\n",
       "  array(1.7409589e-12),\n",
       "  array(1.7409589e-12),\n",
       "  array(1.7409589e-12),\n",
       "  array(1.7409589e-12),\n",
       "  array(1.7409589e-12),\n",
       "  array(1.7409589e-12),\n",
       "  array(1.7409589e-12),\n",
       "  array(1.7409589e-12),\n",
       "  array(1.7409589e-12),\n",
       "  array(1.7409589e-12),\n",
       "  array(1.7409589e-12),\n",
       "  array(1.7409589e-12),\n",
       "  array(1.7409589e-12),\n",
       "  array(1.7409589e-12),\n",
       "  array(1.7409589e-12),\n",
       "  array(1.7409589e-12),\n",
       "  array(1.7409589e-12),\n",
       "  array(1.7409589e-12),\n",
       "  array(1.7409589e-12),\n",
       "  array(1.7409589e-12),\n",
       "  array(1.7409589e-12),\n",
       "  array(1.7409589e-12)],\n",
       " 'reg': [array(2.84810408),\n",
       "  array(2.84810408),\n",
       "  array(2.84810408),\n",
       "  array(2.84810408),\n",
       "  array(2.84810408),\n",
       "  array(2.84810408),\n",
       "  array(2.84810408),\n",
       "  array(2.84810408),\n",
       "  array(2.84810408),\n",
       "  array(2.84810408),\n",
       "  array(2.84810408),\n",
       "  array(2.84810408),\n",
       "  array(2.84810408),\n",
       "  array(2.84810408),\n",
       "  array(2.84810408),\n",
       "  array(2.84810408),\n",
       "  array(2.84810408),\n",
       "  array(2.84810408),\n",
       "  array(2.84810408),\n",
       "  array(2.84810408),\n",
       "  array(2.84810408),\n",
       "  array(2.84810408),\n",
       "  array(2.84810408),\n",
       "  array(2.84810408),\n",
       "  array(2.84810408),\n",
       "  array(2.84810408),\n",
       "  array(2.84810408),\n",
       "  array(2.84810408),\n",
       "  array(2.84810408),\n",
       "  array(2.84810408),\n",
       "  array(2.84810408),\n",
       "  array(2.84810408),\n",
       "  array(2.84810408),\n",
       "  array(2.84810408),\n",
       "  array(2.84810408),\n",
       "  array(2.84810408),\n",
       "  array(2.84810408),\n",
       "  array(2.84810408),\n",
       "  array(2.84810408),\n",
       "  array(2.84810408),\n",
       "  array(2.84810408),\n",
       "  array(2.84810408),\n",
       "  array(2.84810408),\n",
       "  array(2.84810408),\n",
       "  array(2.84810408),\n",
       "  array(2.84810408),\n",
       "  array(2.84810408),\n",
       "  array(2.84810408),\n",
       "  array(2.84810408),\n",
       "  array(2.84810408)]}"
      ]
     },
     "execution_count": 21,
     "metadata": {},
     "output_type": "execute_result"
    }
   ],
   "source": [
    "model.train(dataset, opt=\"LBFGS\", steps=50, device=device)"
   ]
  },
  {
   "cell_type": "markdown",
   "id": "e39da499",
   "metadata": {},
   "source": [
    "Obtain the symbolic formula"
   ]
  },
  {
   "cell_type": "code",
   "execution_count": 20,
   "id": "bf44f7e0",
   "metadata": {},
   "outputs": [
    {
     "data": {
      "text/latex": [
       "$\\displaystyle 1.0 e^{1.0 x_{2}^{2} + 1.0 \\sin{\\left(3.14 x_{1} \\right)}}$"
      ],
      "text/plain": [
       "1.0*exp(1.0*x_2**2 + 1.0*sin(3.14*x_1))"
      ]
     },
     "execution_count": 20,
     "metadata": {},
     "output_type": "execute_result"
    }
   ],
   "source": [
    "model.symbolic_formula()[0][0]"
   ]
  },
  {
   "cell_type": "code",
   "execution_count": null,
   "id": "9060becf",
   "metadata": {},
   "outputs": [],
   "source": []
  },
  {
   "cell_type": "code",
   "execution_count": null,
   "id": "96542d80",
   "metadata": {},
   "outputs": [],
   "source": []
  },
  {
   "cell_type": "code",
   "execution_count": null,
   "id": "1a470452",
   "metadata": {},
   "outputs": [],
   "source": []
  },
  {
   "cell_type": "code",
   "execution_count": null,
   "id": "1c928c16",
   "metadata": {},
   "outputs": [],
   "source": []
  }
 ],
 "metadata": {
  "kernelspec": {
   "display_name": "Python 3 (ipykernel)",
   "language": "python",
   "name": "python3"
  },
  "language_info": {
   "codemirror_mode": {
    "name": "ipython",
    "version": 3
   },
   "file_extension": ".py",
   "mimetype": "text/x-python",
   "name": "python",
   "nbconvert_exporter": "python",
   "pygments_lexer": "ipython3",
   "version": "3.9.19"
  }
 },
 "nbformat": 4,
 "nbformat_minor": 5
}
