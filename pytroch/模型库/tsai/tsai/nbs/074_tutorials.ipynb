{
 "cells": [
  {
   "cell_type": "code",
   "execution_count": null,
   "metadata": {},
   "outputs": [],
   "source": [
    "#|default_exp tutorials"
   ]
  },
  {
   "cell_type": "markdown",
   "metadata": {},
   "source": [
    "# Tutorial notebooks"
   ]
  },
  {
   "cell_type": "markdown",
   "metadata": {},
   "source": [
    "A number of tutorials have been created to help you get started to use `tsai` with time series data. \n",
    "Please, feel free to open the notebooks (you can open them in Colab if you want) and tweak them to do your own experiments. "
   ]
  },
  {
   "cell_type": "markdown",
   "metadata": {},
   "source": [
    "## Time series classification (using raw data)"
   ]
  },
  {
   "cell_type": "markdown",
   "metadata": {},
   "source": [
    "I'd recommend you to start with: \n",
    "\n",
    "* **[Introduction to Time Series Classification](https://colab.research.google.com/github/timeseriesAI/tsai/blob/master/tutorial_nbs/01_Intro_to_Time_Series_Classification.ipynb)**. This notebook contains a detailed walk through the steps to perform time series classification."
   ]
  },
  {
   "cell_type": "markdown",
   "metadata": {},
   "source": [
    "### Data preparation:"
   ]
  },
  {
   "cell_type": "markdown",
   "metadata": {},
   "source": [
    "If you need help preparing your data you may find the following tutorials useful:\n",
    "\n",
    "* **[Time Series data preparation](https://colab.research.google.com/github/timeseriesAI/tsai/blob/master/tutorial_nbs/00c_Time_Series_data_preparation.ipynb)**: this will show how you can do classify both univariate or multivariate time series.\n",
    "\n",
    "\n",
    "* **[How to work with (very) large numpy arrays in tsai?](https://colab.research.google.com/github/timeseriesAI/tsai/blob/master/tutorial_nbs/00_How_to_efficiently_work_with_very_large_numpy_arrays.ipynb)**\n",
    "* **[How to use numpy arrays in tsai?](https://colab.research.google.com/github/timeseriesAI/tsai/blob/master/tutorial_nbs/00b_How_to_use_numpy_arrays_in_fastai.ipynb)**\n",
    "\n",
    "These last 2 provide more details in case you need them. They explain how datasets and dataloaders are created."
   ]
  },
  {
   "cell_type": "markdown",
   "metadata": {},
   "source": [
    "### Types of architectures:"
   ]
  },
  {
   "cell_type": "markdown",
   "metadata": {},
   "source": [
    "Once you feel comfortable, you can start exploring different types of architectures: \n",
    "\n",
    "* You can use the **[Time Series data preparation](https://colab.research.google.com/github/timeseriesAI/tsai/blob/master/tutorial_nbs/00c_Time_Series_data_preparation.ipynb)** notebook and replace the InceptionTime architecture by any other of your choice:\n",
    "    * MLPs\n",
    "    * RNNs (LSTM, GRU)\n",
    "    * CNNs (FCN, ResNet, XResNet)\n",
    "    * Wavelet-based architectures\n",
    "    * Transformers (like TST - 2020)\n",
    "    * They all (except ROCKET) work in the same way, for univariate or multivariate time series.\n",
    "\n",
    "\n",
    "\n",
    "* **[How to use Transformers with Time Series?](https://colab.research.google.com/github/timeseriesAI/tsai/blob/master/tutorial_nbs/07_Time_Series_Classification_with_Transformers.ipynb)** may also help you understand how to successfully apply this new type of architecture to time series. \n",
    "* You can also use **[Time Series Classification Benchmark](https://colab.research.google.com/github/timeseriesAI/tsai/blob/master/tutorial_nbs/05_TS_archs_comparison.ipynb)** to perform bechmarks with different architectures and/ or configurations.\n",
    "\n",
    "ROCKET (2019) is a new technique used to generate 10-20k features from time series. These features are used in a different classifier. This is the only implementation I'm aware of that uses GPU and allows both univariate and multivariate time series. \n",
    "To explain this method that works very well in many cases you can use the following notebook:\n",
    "\n",
    "* **[ROCKET: a new state-of-the-art time series classifier](https://colab.research.google.com/github/timeseriesAI/tsai/blob/master/tutorial_nbs/02_ROCKET_a_new_SOTA_classifier.ipynb)**\n",
    "\n",
    "There are many types of classifiers as you can see, and it's very difficult to know in advance which one will perform well in our task. However, the ones that have consistently deliver the best results in recent benchmark studies are **Inceptiontime** (Fawaz, 2019) and **ROCKET** (Dempster, 2019). Transformers, like **TST** (Zerveas, 2020), also show a lot of promise, but the application to time series data is so new that they have not been benchmarked against other architectures. But I'd say these are 3 architectures you should know well."
   ]
  },
  {
   "cell_type": "markdown",
   "metadata": {},
   "source": [
    "## Time series classification (using time series images)"
   ]
  },
  {
   "cell_type": "markdown",
   "metadata": {},
   "source": [
    "In these tutorials, I've also included a section on how to transform time series into images. This will allow you to then use DL vision models like ResNet50 for example. This approach works very well in some cases, even if you have limited data. You can learn about this technique in this notebook:\n",
    "\n",
    "* **[Imaging time series](https://colab.research.google.com/github/timeseriesAI/tsai/blob/master/tutorial_nbs/06_TS_to_image_classification.ipynb)**"
   ]
  },
  {
   "cell_type": "markdown",
   "metadata": {},
   "source": [
    "## Time series regression"
   ]
  },
  {
   "cell_type": "markdown",
   "metadata": {},
   "source": [
    "I've also included an example of how you can perform time series regression with your time series using `tsai`. In this case, the label will be continuous, instead of a category. But as you will see, the use is almost identical to time series classification. You can learn more about this here: \n",
    "\n",
    "* **[Time series regression](https://colab.research.google.com/github/timeseriesAI/tsai/blob/master/tutorial_nbs/04_Intro_to_Time_Series_Regression.ipynb)**"
   ]
  },
  {
   "cell_type": "markdown",
   "metadata": {},
   "source": [
    "## Visualization"
   ]
  },
  {
   "cell_type": "markdown",
   "metadata": {},
   "source": [
    "I've also created PredictionDynamics callback that allows you to visualize the model's predictions while it's training. It can provide you some additional insights that may be useful to improve your model. Here's the notebook: \n",
    "\n",
    "* [PredictionDynamics](https://github.com/timeseriesAI/tsai/blob/master/tutorial_nbs/09_PredictionDynamics.ipynb)"
   ]
  },
  {
   "cell_type": "markdown",
   "metadata": {},
   "source": [
    "I hope you will find these tutorial useful. I'm planning to add more tutorials to demonstrate new techniques, models, etc when they become available. So stay tuned!"
   ]
  },
  {
   "cell_type": "code",
   "execution_count": null,
   "metadata": {},
   "outputs": [
    {
     "data": {
      "application/javascript": "IPython.notebook.save_checkpoint();",
      "text/plain": [
       "<IPython.core.display.Javascript object>"
      ]
     },
     "metadata": {},
     "output_type": "display_data"
    },
    {
     "name": "stdout",
     "output_type": "stream",
     "text": [
      "/Users/nacho/notebooks/tsai/nbs/900_tutorials.ipynb saved at 2022-11-09 13:20:55\n"
     ]
    }
   ],
   "source": [
    "#|eval: false\n",
    "#|hide\n",
    "from tsai.export import get_nb_name; nb_name = get_nb_name(locals())\n",
    "from tsai.imports import save_nb; save_nb(nb_name)"
   ]
  },
  {
   "cell_type": "code",
   "execution_count": null,
   "metadata": {},
   "outputs": [],
   "source": []
  }
 ],
 "metadata": {
  "kernelspec": {
   "display_name": "python3",
   "language": "python",
   "name": "python3"
  }
 },
 "nbformat": 4,
 "nbformat_minor": 4
}
