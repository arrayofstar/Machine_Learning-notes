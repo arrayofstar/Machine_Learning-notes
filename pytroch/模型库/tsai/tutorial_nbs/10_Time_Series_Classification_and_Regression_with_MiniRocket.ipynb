{
 "cells": [
  {
   "cell_type": "markdown",
   "metadata": {},
   "source": [
    "<a href=\"https://colab.research.google.com/github/timeseriesAI/tsai/blob/master/tutorial_nbs/10_Time_Series_Classification_and_Regression_with_MiniRocket.ipynb\" target=\"_parent\"><img src=\"https://colab.research.google.com/assets/colab-badge.svg\" alt=\"Open In Colab\"/></a>"
   ]
  },
  {
   "cell_type": "markdown",
   "metadata": {},
   "source": [
    "created by Malcolm McLean and Ignacio Oguiza (oguiza@timeseriesAI.co) based on: \n",
    "\n",
    "* Dempster, A., Schmidt, D. F., & Webb, G. I. (2020). MINIROCKET: A Very Fast (Almost) Deterministic Transform for Time Series Classification. arXiv preprint arXiv:2012.08791.\n",
    "\n",
    "* Original paper: https://arxiv.org/abs/2012.08791\n",
    "\n",
    "* Original code:  https://github.com/angus924/minirocket"
   ]
  },
  {
   "cell_type": "markdown",
   "metadata": {},
   "source": [
    "# MiniRocket 🚀\n",
    "\n",
    "> A Very Fast (Almost) Deterministic Transform for Time Series Classification."
   ]
  },
  {
   "cell_type": "markdown",
   "metadata": {},
   "source": [
    "ROCKET is a type of time series classification and regression methods that is different to the \n",
    "ones you may be familiar with. Typical machine learning classifiers will \n",
    "optimize the weights of convolutions, fully-connected, and pooling layers, \n",
    "learning a configuration of weights that classifies the time series.\n",
    "\n",
    "In contrast, ROCKET applies a large number of fixed, non-trainable, independent convolutions \n",
    "to the timeseries. It then extracts a number of features from each convolution \n",
    "output (a form of pooling), generating typically 10000 features per sample. (These \n",
    "features are simply floating point numbers.)\n",
    "\n",
    "The features are stored so that they can be used multiple times. \n",
    "It then learns a simple linear head to predict each time series sample from its features. \n",
    "Typical PyTorch heads might be based on Linear layers. When the number of training samples is small,\n",
    "sklearn's RidgeClassifier is often used.\n",
    "\n",
    "The convolutions' fixed weights and the pooling method have been chosen experimentally to \n",
    "effectively predict a broad range of real-world time series.\n",
    "\n",
    "The original ROCKET method used a selection of fixed convolutions with weights \n",
    "chosen according to a random distribution. Building upon the lessons learned \n",
    "from ROCKET, MiniRocket refines the convolutions to a specific pre-defined set \n",
    "that proved to be at least as effective ROCKET's. It is also much faster \n",
    "to calculate than the original ROCKET. Actually, the paper authors \"suggest that MiniRocket should now be considered and used as the default variant of Rocket.\"\n",
    "\n",
    "MiniROCKET was implemented in Python using numba acceleration and mathematical \n",
    "speedups specific to the algorithm. It runs quite fast, utilizing CPU cores in \n",
    "parallel. Here we present a 2 implementations of MiniRocket: \n",
    " * a cpu version with an sklearn-like API (that can be used with small datasets - <10k samples), and\n",
    " * a PyTorch implementation of MiniRocket, optimized for \n",
    "the GPU. It runs faster (3-25x depending on your GPU) than the CPU version and offers some flexibility for further experimentation.\n",
    "\n",
    "We'll demonstrate how you can use both of them througout this notebook."
   ]
  },
  {
   "cell_type": "markdown",
   "metadata": {},
   "source": [
    "# Import libraries 📚"
   ]
  },
  {
   "cell_type": "code",
   "execution_count": null,
   "metadata": {},
   "outputs": [],
   "source": [
    "# # **************** UNCOMMENT AND RUN THIS CELL IF YOU NEED TO INSTALL/ UPGRADE TSAI & SKTIME ****************\n",
    "# stable = False # Set to True for latest pip version or False for main branch in GitHub\n",
    "# !pip install {\"tsai -U\" if stable else \"git+https://github.com/timeseriesAI/tsai.git\"} >> /dev/null\n",
    "# !pip install sktime -U  >> /dev/null"
   ]
  },
  {
   "cell_type": "code",
   "execution_count": null,
   "metadata": {},
   "outputs": [
    {
     "name": "stdout",
     "output_type": "stream",
     "text": [
      "os              : Linux-5.10.133+-x86_64-with-Ubuntu-18.04-bionic\n",
      "python          : 3.7.15\n",
      "tsai            : 0.3.5\n",
      "fastai          : 2.7.10\n",
      "fastcore        : 1.5.27\n",
      "sktime          : 0.14.0\n",
      "sklearn         : 1.0.2\n",
      "torch           : 1.12.1+cu113\n",
      "device          : 1 gpu (['Tesla T4'])\n",
      "cpu cores       : 1\n",
      "threads per cpu : 2\n",
      "RAM             : 12.68 GB\n",
      "GPU memory      : [14.75] GB\n"
     ]
    }
   ],
   "source": [
    "from tsai.basics import *\n",
    "import sktime\n",
    "import sklearn\n",
    "my_setup(sktime, sklearn)"
   ]
  },
  {
   "cell_type": "markdown",
   "metadata": {},
   "source": [
    "# Using MiniRocket 🚀"
   ]
  },
  {
   "cell_type": "markdown",
   "metadata": {},
   "source": [
    "* First, create the features for each timeseries sample using the MiniRocketFeatures module (MRF). \n",
    "MRF takes a minibatch of time series samples and outputs their features. Choosing an appropriate minibatch size\n",
    "allows training sets of any size to be used without exhausting CPU or GPU memory.\n",
    "\n",
    "    Typically, 10000 features will characterize each sample. These features are relatively\n",
    "expensive to create, but once created they are fixed and may be used as the \n",
    "input for further training. They might be saved for example in memory or on disk.\n",
    "\n",
    "\n",
    "* Next, the features are sent to a linear model. The original \n",
    "MiniRocket research used sklearn's RidgeClassifier. When the number of samples \n",
    "goes beyond the capacity of RidgeClassifier, a deep learning \"Head\" can be \n",
    "used instead to learn the classification/regression from minibatches of features.\n",
    "\n",
    "For the following demos, we use the tsai package to handle timeseries efficiently and clearly. tsai is fully integrated with fastai, allowing fastai's training loop and other convenience to be used. To learn more about tsai, please check out the docs and tutorials at https://github.com/timeseriesAI/tsai\n",
    "\n",
    "Let's get started."
   ]
  },
  {
   "cell_type": "markdown",
   "metadata": {},
   "source": [
    "## sklearn-type API (<10k samples) 🚶🏻‍♂️"
   ]
  },
  {
   "cell_type": "markdown",
   "metadata": {},
   "source": [
    "We'll first import the models we are going to use:"
   ]
  },
  {
   "cell_type": "code",
   "execution_count": null,
   "metadata": {},
   "outputs": [],
   "source": [
    "from tsai.models.MINIROCKET import *"
   ]
  },
  {
   "cell_type": "markdown",
   "metadata": {},
   "source": [
    "### Classifier"
   ]
  },
  {
   "cell_type": "code",
   "execution_count": null,
   "metadata": {},
   "outputs": [
    {
     "name": "stdout",
     "output_type": "stream",
     "text": [
      "valid accuracy    : 93.333% time: 0.526145\n"
     ]
    }
   ],
   "source": [
    "# Univariate classification with sklearn-type API\n",
    "dsid = 'OliveOil'\n",
    "X_train, y_train, X_valid, y_valid = get_UCR_data(dsid)   # Download the UCR dataset\n",
    "\n",
    "# Computes MiniRocket features using the original (non-PyTorch) MiniRocket code.\n",
    "# It then sends them to a sklearn's RidgeClassifier (linear classifier).\n",
    "model = MiniRocketClassifier()\n",
    "timer.start(False)\n",
    "model.fit(X_train, y_train)\n",
    "t = timer.stop()\n",
    "print(f'valid accuracy    : {model.score(X_valid, y_valid):.3%} time: {t}')"
   ]
  },
  {
   "cell_type": "code",
   "execution_count": null,
   "metadata": {},
   "outputs": [
    {
     "name": "stdout",
     "output_type": "stream",
     "text": [
      "valid accuracy    : 65.247% time: 8.533509\n"
     ]
    }
   ],
   "source": [
    "# Multivariate classification with sklearn-type API\n",
    "dsid = 'LSST'\n",
    "X_train, y_train, X_valid, y_valid = get_UCR_data(dsid)\n",
    "model = MiniRocketClassifier()\n",
    "timer.start(False)\n",
    "model.fit(X_train, y_train)\n",
    "t = timer.stop()\n",
    "print(f'valid accuracy    : {model.score(X_valid, y_valid):.3%} time: {t}')"
   ]
  },
  {
   "cell_type": "markdown",
   "metadata": {},
   "source": [
    "One way to try to improve performance is to use an ensemble (that uses majority vote). Bear in mind that the ensemble will take longer since multiple models will be fitted."
   ]
  },
  {
   "cell_type": "code",
   "execution_count": null,
   "metadata": {},
   "outputs": [
    {
     "name": "stdout",
     "output_type": "stream",
     "text": [
      "valid accuracy    : 68.045% time: 45.066046\n"
     ]
    }
   ],
   "source": [
    "# Multivariate classification ensemble with sklearn-type API\n",
    "dsid = 'LSST'\n",
    "X_train, y_train, X_valid, y_valid = get_UCR_data(dsid)\n",
    "model = MiniRocketVotingClassifier(n_estimators=5)\n",
    "timer.start(False)\n",
    "model.fit(X_train, y_train)\n",
    "t = timer.stop()\n",
    "print(f'valid accuracy    : {model.score(X_valid, y_valid):.3%} time: {t}')"
   ]
  },
  {
   "cell_type": "markdown",
   "metadata": {},
   "source": [
    "In this case, we see an increase in accuracy although this may not be the case with other datasets."
   ]
  },
  {
   "cell_type": "markdown",
   "metadata": {},
   "source": [
    "Once a model is trained, you can always save it for future inference: "
   ]
  },
  {
   "cell_type": "code",
   "execution_count": null,
   "metadata": {},
   "outputs": [],
   "source": [
    "dsid = 'LSST'\n",
    "X_train, y_train, X_valid, y_valid = get_UCR_data(dsid)\n",
    "model = MiniRocketClassifier()\n",
    "model.fit(X_train, y_train)\n",
    "model.save(f'MiniRocket_{dsid}')\n",
    "del model"
   ]
  },
  {
   "cell_type": "code",
   "execution_count": null,
   "metadata": {},
   "outputs": [
    {
     "name": "stdout",
     "output_type": "stream",
     "text": [
      "valid accuracy    : 65.207%\n"
     ]
    }
   ],
   "source": [
    "model = load_minirocket(f'MiniRocket_{dsid}')\n",
    "print(f'valid accuracy    : {model.score(X_valid, y_valid):.3%}')"
   ]
  },
  {
   "cell_type": "markdown",
   "metadata": {},
   "source": [
    "### Regressor"
   ]
  },
  {
   "cell_type": "code",
   "execution_count": null,
   "metadata": {},
   "outputs": [
    {
     "name": "stderr",
     "output_type": "stream",
     "text": [
      "153it [00:00, 6948.12it/s]\n",
      "74it [00:00, 6341.37it/s]\n"
     ]
    },
    {
     "name": "stdout",
     "output_type": "stream",
     "text": [
      "valid rmse        : 0.04162 time: 0.36316\n"
     ]
    }
   ],
   "source": [
    "# Univariate regression with sklearn-type API\n",
    "from sklearn.metrics import mean_squared_error, make_scorer\n",
    "dsid = 'Covid3Month'\n",
    "X_train, y_train, X_valid, y_valid = get_Monash_regression_data(dsid)\n",
    "rmse_scorer = make_scorer(mean_squared_error, greater_is_better=False)\n",
    "model = MiniRocketRegressor(scoring=rmse_scorer)\n",
    "timer.start(False)\n",
    "model.fit(X_train, y_train)\n",
    "t = timer.stop()\n",
    "y_pred = model.predict(X_valid)\n",
    "rmse = mean_squared_error(y_valid, y_pred, squared=False)\n",
    "print(f'valid rmse        : {rmse:.5f} time: {t}')"
   ]
  },
  {
   "cell_type": "code",
   "execution_count": null,
   "metadata": {},
   "outputs": [
    {
     "name": "stdout",
     "output_type": "stream",
     "text": [
      "valid rmse        : 0.04162 time: 1.521828\n"
     ]
    }
   ],
   "source": [
    "# Univariate regression ensemble with sklearn-type API\n",
    "from sklearn.metrics import mean_squared_error, make_scorer\n",
    "dsid = 'Covid3Month'\n",
    "X_train, y_train, X_valid, y_valid = get_Monash_regression_data(dsid)\n",
    "rmse_scorer = make_scorer(mean_squared_error, greater_is_better=False)\n",
    "model = MiniRocketVotingRegressor(n_estimators=5, scoring=rmse_scorer)\n",
    "timer.start(False)\n",
    "model.fit(X_train, y_train)\n",
    "t = timer.stop()\n",
    "y_pred = model.predict(X_valid)\n",
    "rmse = mean_squared_error(y_valid, y_pred, squared=False)\n",
    "print(f'valid rmse        : {rmse:.5f} time: {t}')"
   ]
  },
  {
   "cell_type": "code",
   "execution_count": null,
   "metadata": {},
   "outputs": [
    {
     "name": "stderr",
     "output_type": "stream",
     "text": [
      "119it [00:03, 30.50it/s]\n",
      "66it [00:01, 38.38it/s]\n"
     ]
    },
    {
     "name": "stdout",
     "output_type": "stream",
     "text": [
      "valid rmse        : 2.44171 time: 0.683256\n"
     ]
    }
   ],
   "source": [
    "# Multivariate regression with sklearn-type API\n",
    "from sklearn.metrics import mean_squared_error, make_scorer\n",
    "dsid = 'AppliancesEnergy'\n",
    "X_train, y_train, X_valid, y_valid = get_Monash_regression_data(dsid)\n",
    "rmse_scorer = make_scorer(mean_squared_error, greater_is_better=False)\n",
    "model = MiniRocketRegressor(scoring=rmse_scorer)\n",
    "timer.start(False)\n",
    "model.fit(X_train, y_train)\n",
    "t = timer.stop()\n",
    "y_pred = model.predict(X_valid)\n",
    "rmse = mean_squared_error(y_valid, y_pred, squared=False)\n",
    "print(f'valid rmse        : {rmse:.5f} time: {t}')"
   ]
  },
  {
   "cell_type": "code",
   "execution_count": null,
   "metadata": {},
   "outputs": [
    {
     "name": "stdout",
     "output_type": "stream",
     "text": [
      "valid rmse        : 2.28944 time: 2.696218\n"
     ]
    }
   ],
   "source": [
    "# Multivariate regression ensemble with sklearn-type API\n",
    "from sklearn.metrics import mean_squared_error, make_scorer\n",
    "dsid = 'AppliancesEnergy'\n",
    "X_train, y_train, X_valid, y_valid = get_Monash_regression_data(dsid)\n",
    "rmse_scorer = make_scorer(mean_squared_error, greater_is_better=False)\n",
    "model = MiniRocketVotingRegressor(n_estimators=5, scoring=rmse_scorer)\n",
    "timer.start(False)\n",
    "model.fit(X_train, y_train)\n",
    "t = timer.stop()\n",
    "y_pred = model.predict(X_valid)\n",
    "rmse = mean_squared_error(y_valid, y_pred, squared=False)\n",
    "print(f'valid rmse        : {rmse:.5f} time: {t}')"
   ]
  },
  {
   "cell_type": "markdown",
   "metadata": {},
   "source": [
    "We'll also save this model for future inference:"
   ]
  },
  {
   "cell_type": "code",
   "execution_count": null,
   "metadata": {},
   "outputs": [],
   "source": [
    "# Multivariate regression ensemble with sklearn-type API\n",
    "from sklearn.metrics import mean_squared_error, make_scorer\n",
    "dsid = 'AppliancesEnergy'\n",
    "X_train, y_train, X_valid, y_valid = get_Monash_regression_data(dsid)\n",
    "rmse_scorer = make_scorer(mean_squared_error, greater_is_better=False)\n",
    "model = MiniRocketVotingRegressor(n_estimators=5, scoring=rmse_scorer)\n",
    "model.fit(X_train, y_train)\n",
    "model.save(f'MRVRegressor_{dsid}')\n",
    "del model"
   ]
  },
  {
   "cell_type": "code",
   "execution_count": null,
   "metadata": {},
   "outputs": [
    {
     "name": "stdout",
     "output_type": "stream",
     "text": [
      "valid rmse        : 2.24403\n"
     ]
    }
   ],
   "source": [
    "model = load_minirocket(f'MRVRegressor_{dsid}')\n",
    "y_pred = model.predict(X_valid)\n",
    "rmse = mean_squared_error(y_valid, y_pred, squared=False)\n",
    "print(f'valid rmse        : {rmse:.5f}')"
   ]
  },
  {
   "cell_type": "markdown",
   "metadata": {},
   "source": [
    "## Pytorch implementation (any # samples) 🏃"
   ]
  },
  {
   "cell_type": "code",
   "execution_count": null,
   "metadata": {},
   "outputs": [],
   "source": [
    "from tsai.models.MINIROCKET_Pytorch import *\n",
    "from tsai.models.utils import *"
   ]
  },
  {
   "cell_type": "markdown",
   "metadata": {},
   "source": [
    "### Offline feature calculation "
   ]
  },
  {
   "cell_type": "markdown",
   "metadata": {},
   "source": [
    "In the offline calculation, all features will be calculated in a first stage and then passed to the dataloader that will create batches. This features will ramain the same throughout training.\n",
    "\n",
    "⚠️ In order to avoid leakage when using the offline feature calculation, it's important to fit MiniRocketFeatures using just the train samples."
   ]
  },
  {
   "cell_type": "code",
   "execution_count": null,
   "metadata": {},
   "outputs": [],
   "source": [
    "# Create the MiniRocket features and store them in memory.\n",
    "dsid = 'LSST'\n",
    "X, y, splits = get_UCR_data(dsid, split_data=False)"
   ]
  },
  {
   "cell_type": "code",
   "execution_count": null,
   "metadata": {},
   "outputs": [
    {
     "data": {
      "text/plain": [
       "((4925, 9996, 1), numpy.ndarray)"
      ]
     },
     "execution_count": null,
     "metadata": {},
     "output_type": "execute_result"
    }
   ],
   "source": [
    "mrf = MiniRocketFeatures(X.shape[1], X.shape[2]).to(default_device())\n",
    "X_train = X[splits[0]]\n",
    "mrf.fit(X_train)\n",
    "X_feat = get_minirocket_features(X, mrf, chunksize=1024, to_np=True)\n",
    "X_feat.shape, type(X_feat)"
   ]
  },
  {
   "cell_type": "markdown",
   "metadata": {},
   "source": [
    "👀 Note that X_train may be a np.ndarray or a torch.Tensor. In this case we'll pass a np.ndarray. \n",
    "\n",
    "If a torch.Tensor is passed, the model will move it to the right device (cuda) if necessary, so that it matches the model."
   ]
  },
  {
   "cell_type": "markdown",
   "metadata": {},
   "source": [
    "We'll save this model, as we'll need it to create features in the future."
   ]
  },
  {
   "cell_type": "code",
   "execution_count": null,
   "metadata": {},
   "outputs": [],
   "source": [
    "PATH = Path(\"./models/MRF.pt\")\n",
    "PATH.parent.mkdir(parents=True, exist_ok=True)\n",
    "torch.save(mrf.state_dict(), PATH)"
   ]
  },
  {
   "cell_type": "markdown",
   "metadata": {},
   "source": [
    "As you can see the shape of the minirocket features is [sample_size x n_features x 1]. The last dimension (1) is added because `tsai` expects input data to have 3 dimensions, although in this case there's no longer a temporal dimension.\n",
    "\n",
    "Once the features are calculated, we'll need to train a Pytorch model. We'll use a simple linear model:"
   ]
  },
  {
   "cell_type": "code",
   "execution_count": null,
   "metadata": {},
   "outputs": [
    {
     "data": {
      "text/plain": [
       "Sequential(\n",
       "  (0): Flatten(start_dim=1, end_dim=-1)\n",
       "  (1): BatchNorm1d(9996, eps=1e-05, momentum=0.1, affine=True, track_running_stats=True)\n",
       "  (2): Linear(in_features=9996, out_features=14, bias=True)\n",
       ")"
      ]
     },
     "execution_count": null,
     "metadata": {},
     "output_type": "execute_result"
    }
   ],
   "source": [
    "# Using tsai/fastai, create DataLoaders for the features in X_feat.\n",
    "tfms = [None, TSClassification()]\n",
    "batch_tfms = TSStandardize(by_sample=True)\n",
    "dls = get_ts_dls(X_feat, y, splits=splits, tfms=tfms, batch_tfms=batch_tfms)\n",
    "                 \n",
    "# model is a linear classifier Head\n",
    "model = build_ts_model(MiniRocketHead, dls=dls)\n",
    "model.head"
   ]
  },
  {
   "cell_type": "code",
   "execution_count": null,
   "metadata": {},
   "outputs": [
    {
     "data": {
      "text/html": [
       "\n",
       "<style>\n",
       "    /* Turns off some styling */\n",
       "    progress {\n",
       "        /* gets rid of default border in Firefox and Opera. */\n",
       "        border: none;\n",
       "        /* Needs to be in here for Safari polyfill so background images work as expected. */\n",
       "        background-size: auto;\n",
       "    }\n",
       "    progress:not([value]), progress:not([value])::-webkit-progress-bar {\n",
       "        background: repeating-linear-gradient(45deg, #7e7e7e, #7e7e7e 10px, #5c5c5c 10px, #5c5c5c 20px);\n",
       "    }\n",
       "    .progress-bar-interrupted, .progress-bar-interrupted::-webkit-progress-bar {\n",
       "        background: #F44336;\n",
       "    }\n",
       "</style>\n"
      ],
      "text/plain": [
       "<IPython.core.display.HTML object>"
      ]
     },
     "metadata": {},
     "output_type": "display_data"
    },
    {
     "data": {
      "text/html": [],
      "text/plain": [
       "<IPython.core.display.HTML object>"
      ]
     },
     "metadata": {},
     "output_type": "display_data"
    },
    {
     "data": {
      "text/plain": [
       "SuggestedLRs(valley=3.630780702224001e-05)"
      ]
     },
     "execution_count": null,
     "metadata": {},
     "output_type": "execute_result"
    },
    {
     "data": {
      "image/png": "[encoded data removed]",
      "text/plain": [
       "<Figure size 432x288 with 1 Axes>"
      ]
     },
     "metadata": {
      "needs_background": "light"
     },
     "output_type": "display_data"
    }
   ],
   "source": [
    "# Using tsai/fastai, create DataLoaders for the features in X_feat.\n",
    "tfms = [None, TSClassification()]\n",
    "batch_tfms = TSStandardize(by_sample=True)\n",
    "dls = get_ts_dls(X_feat, y, splits=splits, tfms=tfms, batch_tfms=batch_tfms)\n",
    "                 \n",
    "# model is a linear classifier Head\n",
    "model = build_ts_model(MiniRocketHead, dls=dls)\n",
    "                 \n",
    "# Drop into fastai and use it to find a good learning rate.\n",
    "learn = Learner(dls, model, metrics=accuracy, cbs=ShowGraph())\n",
    "learn.lr_find()"
   ]
  },
  {
   "cell_type": "code",
   "execution_count": null,
   "metadata": {},
   "outputs": [
    {
     "data": {
      "text/html": [
       "\n",
       "<style>\n",
       "    /* Turns off some styling */\n",
       "    progress {\n",
       "        /* gets rid of default border in Firefox and Opera. */\n",
       "        border: none;\n",
       "        /* Needs to be in here for Safari polyfill so background images work as expected. */\n",
       "        background-size: auto;\n",
       "    }\n",
       "    progress:not([value]), progress:not([value])::-webkit-progress-bar {\n",
       "        background: repeating-linear-gradient(45deg, #7e7e7e, #7e7e7e 10px, #5c5c5c 10px, #5c5c5c 20px);\n",
       "    }\n",
       "    .progress-bar-interrupted, .progress-bar-interrupted::-webkit-progress-bar {\n",
       "        background: #F44336;\n",
       "    }\n",
       "</style>\n"
      ],
      "text/plain": [
       "<IPython.core.display.HTML object>"
      ]
     },
     "metadata": {},
     "output_type": "display_data"
    },
    {
     "data": {
      "text/html": [
       "<table border=\"1\" class=\"dataframe\">\n",
       "  <thead>\n",
       "    <tr style=\"text-align: left;\">\n",
       "      <th>epoch</th>\n",
       "      <th>train_loss</th>\n",
       "      <th>valid_loss</th>\n",
       "      <th>accuracy</th>\n",
       "      <th>time</th>\n",
       "    </tr>\n",
       "  </thead>\n",
       "  <tbody>\n",
       "    <tr>\n",
       "      <td>0</td>\n",
       "      <td>2.187912</td>\n",
       "      <td>1.731448</td>\n",
       "      <td>0.472831</td>\n",
       "      <td>00:00</td>\n",
       "    </tr>\n",
       "    <tr>\n",
       "      <td>1</td>\n",
       "      <td>1.693749</td>\n",
       "      <td>1.390600</td>\n",
       "      <td>0.552311</td>\n",
       "      <td>00:00</td>\n",
       "    </tr>\n",
       "    <tr>\n",
       "      <td>2</td>\n",
       "      <td>1.393980</td>\n",
       "      <td>1.160649</td>\n",
       "      <td>0.650446</td>\n",
       "      <td>00:00</td>\n",
       "    </tr>\n",
       "    <tr>\n",
       "      <td>3</td>\n",
       "      <td>1.169939</td>\n",
       "      <td>1.180183</td>\n",
       "      <td>0.632198</td>\n",
       "      <td>00:00</td>\n",
       "    </tr>\n",
       "    <tr>\n",
       "      <td>4</td>\n",
       "      <td>0.996974</td>\n",
       "      <td>1.137174</td>\n",
       "      <td>0.645174</td>\n",
       "      <td>00:00</td>\n",
       "    </tr>\n",
       "    <tr>\n",
       "      <td>5</td>\n",
       "      <td>0.868512</td>\n",
       "      <td>1.110967</td>\n",
       "      <td>0.654096</td>\n",
       "      <td>00:00</td>\n",
       "    </tr>\n",
       "    <tr>\n",
       "      <td>6</td>\n",
       "      <td>0.771490</td>\n",
       "      <td>1.079089</td>\n",
       "      <td>0.664639</td>\n",
       "      <td>00:00</td>\n",
       "    </tr>\n",
       "    <tr>\n",
       "      <td>7</td>\n",
       "      <td>0.699071</td>\n",
       "      <td>1.065819</td>\n",
       "      <td>0.667072</td>\n",
       "      <td>00:00</td>\n",
       "    </tr>\n",
       "    <tr>\n",
       "      <td>8</td>\n",
       "      <td>0.644864</td>\n",
       "      <td>1.066159</td>\n",
       "      <td>0.672749</td>\n",
       "      <td>00:00</td>\n",
       "    </tr>\n",
       "    <tr>\n",
       "      <td>9</td>\n",
       "      <td>0.623657</td>\n",
       "      <td>1.061442</td>\n",
       "      <td>0.671938</td>\n",
       "      <td>00:00</td>\n",
       "    </tr>\n",
       "  </tbody>\n",
       "</table>"
      ],
      "text/plain": [
       "<IPython.core.display.HTML object>"
      ]
     },
     "metadata": {},
     "output_type": "display_data"
    },
    {
     "data": {
      "image/png": "[encoded data removed]",
      "text/plain": [
       "<Figure size 432x288 with 1 Axes>"
      ]
     },
     "metadata": {},
     "output_type": "display_data"
    },
    {
     "data": {
      "image/png": "[encoded data removed]",
      "text/plain": [
       "<Figure size 1440x288 with 3 Axes>"
      ]
     },
     "metadata": {
      "needs_background": "light"
     },
     "output_type": "display_data"
    },
    {
     "data": {
      "text/plain": [
       "7.030589"
      ]
     },
     "execution_count": null,
     "metadata": {},
     "output_type": "execute_result"
    }
   ],
   "source": [
    "# As above, use tsai to bring X_feat into fastai, and train.\n",
    "tfms = [None, TSClassification()]\n",
    "batch_tfms = TSStandardize(by_sample=True)\n",
    "dls = get_ts_dls(X_feat, y, splits=splits, tfms=tfms, batch_tfms=batch_tfms)\n",
    "model = build_ts_model(MiniRocketHead, dls=dls)\n",
    "learn = Learner(dls, model, metrics=accuracy, cbs=ShowGraph())\n",
    "timer.start()\n",
    "learn.fit_one_cycle(10, 3e-4)\n",
    "timer.stop()"
   ]
  },
  {
   "cell_type": "markdown",
   "metadata": {},
   "source": [
    "We'll now save the learner for inference: "
   ]
  },
  {
   "cell_type": "code",
   "execution_count": null,
   "metadata": {},
   "outputs": [],
   "source": [
    "PATH = Path('./models/MRL.pkl')\n",
    "PATH.parent.mkdir(parents=True, exist_ok=True)\n",
    "learn.export(PATH)"
   ]
  },
  {
   "cell_type": "markdown",
   "metadata": {},
   "source": [
    "#### Inference:"
   ]
  },
  {
   "cell_type": "markdown",
   "metadata": {},
   "source": [
    "For inference we'll need to follow the same process as before: \n",
    "\n",
    "1. Create the features\n",
    "2. Create predictions for those features"
   ]
  },
  {
   "cell_type": "markdown",
   "metadata": {},
   "source": [
    "Let's recreate mrf (MiniRocketFeatures) to be able to create new features: "
   ]
  },
  {
   "cell_type": "code",
   "execution_count": null,
   "metadata": {},
   "outputs": [
    {
     "data": {
      "text/plain": [
       "<All keys matched successfully>"
      ]
     },
     "execution_count": null,
     "metadata": {},
     "output_type": "execute_result"
    }
   ],
   "source": [
    "mrf = MiniRocketFeatures(X.shape[1], X.shape[2]).to(default_device())\n",
    "PATH = Path(\"./models/MRF.pt\")\n",
    "mrf.load_state_dict(torch.load(PATH))"
   ]
  },
  {
   "cell_type": "markdown",
   "metadata": {},
   "source": [
    "We'll create new features. In this case we'll use the valid set to confirm the predictions accuracy matches the one at the end of training, but you can use any data: "
   ]
  },
  {
   "cell_type": "code",
   "execution_count": null,
   "metadata": {},
   "outputs": [
    {
     "data": {
      "text/plain": [
       "((2466, 9996, 1), numpy.ndarray)"
      ]
     },
     "execution_count": null,
     "metadata": {},
     "output_type": "execute_result"
    }
   ],
   "source": [
    "new_feat = get_minirocket_features(X[splits[1]], mrf, chunksize=1024, to_np=True)\n",
    "new_feat.shape, type(new_feat)"
   ]
  },
  {
   "cell_type": "markdown",
   "metadata": {},
   "source": [
    "We'll now load the saved learner: "
   ]
  },
  {
   "cell_type": "code",
   "execution_count": null,
   "metadata": {},
   "outputs": [],
   "source": [
    "PATH = Path('./models/MRL.pkl')\n",
    "learn = load_learner(PATH, cpu=False)"
   ]
  },
  {
   "cell_type": "markdown",
   "metadata": {},
   "source": [
    "and pass the newly created features"
   ]
  },
  {
   "cell_type": "code",
   "execution_count": null,
   "metadata": {},
   "outputs": [
    {
     "data": {
      "text/html": [
       "\n",
       "<style>\n",
       "    /* Turns off some styling */\n",
       "    progress {\n",
       "        /* gets rid of default border in Firefox and Opera. */\n",
       "        border: none;\n",
       "        /* Needs to be in here for Safari polyfill so background images work as expected. */\n",
       "        background-size: auto;\n",
       "    }\n",
       "    progress:not([value]), progress:not([value])::-webkit-progress-bar {\n",
       "        background: repeating-linear-gradient(45deg, #7e7e7e, #7e7e7e 10px, #5c5c5c 10px, #5c5c5c 20px);\n",
       "    }\n",
       "    .progress-bar-interrupted, .progress-bar-interrupted::-webkit-progress-bar {\n",
       "        background: #F44336;\n",
       "    }\n",
       "</style>\n"
      ],
      "text/plain": [
       "<IPython.core.display.HTML object>"
      ]
     },
     "metadata": {},
     "output_type": "display_data"
    },
    {
     "data": {
      "text/html": [],
      "text/plain": [
       "<IPython.core.display.HTML object>"
      ]
     },
     "metadata": {},
     "output_type": "display_data"
    },
    {
     "data": {
      "text/plain": [
       "array(['6', '6', '65', ..., '42', '42', '95'], dtype='<U2')"
      ]
     },
     "execution_count": null,
     "metadata": {},
     "output_type": "execute_result"
    }
   ],
   "source": [
    "probas, _, preds = learn.get_X_preds(new_feat)\n",
    "preds"
   ]
  },
  {
   "cell_type": "code",
   "execution_count": null,
   "metadata": {},
   "outputs": [
    {
     "data": {
      "text/plain": [
       "0.6719383617193836"
      ]
     },
     "execution_count": null,
     "metadata": {},
     "output_type": "execute_result"
    }
   ],
   "source": [
    "sklearn.metrics.accuracy_score(y[splits[1]], preds)"
   ]
  },
  {
   "cell_type": "markdown",
   "metadata": {},
   "source": [
    "Ok, so the predictions match the ones at the end of training as this accuracy is the same on we got in the end."
   ]
  },
  {
   "cell_type": "markdown",
   "metadata": {},
   "source": [
    "### Online feature calculation"
   ]
  },
  {
   "cell_type": "markdown",
   "metadata": {},
   "source": [
    "MiniRocket can also be used online, re-calculating the features each minibatch. In this scenario, you do not calculate fixed features one time. The online mode is a bit slower than the offline scanario, but offers more flexibility. Here are some potential uses:\n",
    "\n",
    "* You can experiment with different scaling techniques (no standardization, standardize by sample, normalize, etc).\n",
    "* You can use data augmentation is applied to the original time series.\n",
    "* Another use of online calculation is to experiment with training the kernels and biases.\n",
    "To do this requires modifications to the MRF code."
   ]
  },
  {
   "cell_type": "code",
   "execution_count": null,
   "metadata": {},
   "outputs": [
    {
     "data": {
      "text/html": [
       "\n",
       "<style>\n",
       "    /* Turns off some styling */\n",
       "    progress {\n",
       "        /* gets rid of default border in Firefox and Opera. */\n",
       "        border: none;\n",
       "        /* Needs to be in here for Safari polyfill so background images work as expected. */\n",
       "        background-size: auto;\n",
       "    }\n",
       "    progress:not([value]), progress:not([value])::-webkit-progress-bar {\n",
       "        background: repeating-linear-gradient(45deg, #7e7e7e, #7e7e7e 10px, #5c5c5c 10px, #5c5c5c 20px);\n",
       "    }\n",
       "    .progress-bar-interrupted, .progress-bar-interrupted::-webkit-progress-bar {\n",
       "        background: #F44336;\n",
       "    }\n",
       "</style>\n"
      ],
      "text/plain": [
       "<IPython.core.display.HTML object>"
      ]
     },
     "metadata": {},
     "output_type": "display_data"
    },
    {
     "data": {
      "text/html": [],
      "text/plain": [
       "<IPython.core.display.HTML object>"
      ]
     },
     "metadata": {},
     "output_type": "display_data"
    },
    {
     "data": {
      "text/plain": [
       "SuggestedLRs(valley=5.248074739938602e-05)"
      ]
     },
     "execution_count": null,
     "metadata": {},
     "output_type": "execute_result"
    },
    {
     "data": {
      "image/png": "[encoded data removed]",
      "text/plain": [
       "<Figure size 432x288 with 1 Axes>"
      ]
     },
     "metadata": {
      "needs_background": "light"
     },
     "output_type": "display_data"
    }
   ],
   "source": [
    "tfms = [None, TSClassification()]\n",
    "batch_tfms = TSStandardize(by_sample=True)\n",
    "dls = get_ts_dls(X, y, splits=splits, tfms=tfms, batch_tfms=batch_tfms)\n",
    "model = build_ts_model(MiniRocket, dls=dls)\n",
    "learn = Learner(dls, model, metrics=accuracy, cbs=ShowGraph())\n",
    "learn.lr_find()"
   ]
  },
  {
   "cell_type": "markdown",
   "metadata": {},
   "source": [
    "Notice 2 important differences with the offline scenario: \n",
    "\n",
    "* in this case we pass X to the dataloader instead of X_tfm. The featurew will be calculated within the model.\n",
    "* we use MiniRocket instead of MiniRocketHead. MiniRocket is a Pytorch version that calculates features on the fly before passing them to a linear head."
   ]
  },
  {
   "cell_type": "code",
   "execution_count": null,
   "metadata": {},
   "outputs": [
    {
     "data": {
      "text/plain": [
       "MiniRocket(\n",
       "  (backbone): MiniRocketFeatures()\n",
       "  (head): Sequential(\n",
       "    (0): Flatten(start_dim=1, end_dim=-1)\n",
       "    (1): BatchNorm1d(9996, eps=1e-05, momentum=0.1, affine=True, track_running_stats=True)\n",
       "    (2): Linear(in_features=9996, out_features=14, bias=True)\n",
       "  )\n",
       ")"
      ]
     },
     "execution_count": null,
     "metadata": {},
     "output_type": "execute_result"
    }
   ],
   "source": [
    "tfms = [None, TSClassification()]\n",
    "batch_tfms = TSStandardize(by_sample=True)\n",
    "dls = get_ts_dls(X, y, splits=splits, tfms=tfms, batch_tfms=batch_tfms)\n",
    "model = build_ts_model(MiniRocket, dls=dls)\n",
    "model"
   ]
  },
  {
   "cell_type": "code",
   "execution_count": null,
   "metadata": {},
   "outputs": [
    {
     "data": {
      "text/html": [
       "\n",
       "<style>\n",
       "    /* Turns off some styling */\n",
       "    progress {\n",
       "        /* gets rid of default border in Firefox and Opera. */\n",
       "        border: none;\n",
       "        /* Needs to be in here for Safari polyfill so background images work as expected. */\n",
       "        background-size: auto;\n",
       "    }\n",
       "    progress:not([value]), progress:not([value])::-webkit-progress-bar {\n",
       "        background: repeating-linear-gradient(45deg, #7e7e7e, #7e7e7e 10px, #5c5c5c 10px, #5c5c5c 20px);\n",
       "    }\n",
       "    .progress-bar-interrupted, .progress-bar-interrupted::-webkit-progress-bar {\n",
       "        background: #F44336;\n",
       "    }\n",
       "</style>\n"
      ],
      "text/plain": [
       "<IPython.core.display.HTML object>"
      ]
     },
     "metadata": {},
     "output_type": "display_data"
    },
    {
     "data": {
      "text/html": [
       "<table border=\"1\" class=\"dataframe\">\n",
       "  <thead>\n",
       "    <tr style=\"text-align: left;\">\n",
       "      <th>epoch</th>\n",
       "      <th>train_loss</th>\n",
       "      <th>valid_loss</th>\n",
       "      <th>accuracy</th>\n",
       "      <th>time</th>\n",
       "    </tr>\n",
       "  </thead>\n",
       "  <tbody>\n",
       "    <tr>\n",
       "      <td>0</td>\n",
       "      <td>2.136101</td>\n",
       "      <td>1.945782</td>\n",
       "      <td>0.472425</td>\n",
       "      <td>00:00</td>\n",
       "    </tr>\n",
       "    <tr>\n",
       "      <td>1</td>\n",
       "      <td>1.638468</td>\n",
       "      <td>1.318306</td>\n",
       "      <td>0.596513</td>\n",
       "      <td>00:00</td>\n",
       "    </tr>\n",
       "    <tr>\n",
       "      <td>2</td>\n",
       "      <td>1.315844</td>\n",
       "      <td>1.139227</td>\n",
       "      <td>0.660178</td>\n",
       "      <td>00:00</td>\n",
       "    </tr>\n",
       "    <tr>\n",
       "      <td>3</td>\n",
       "      <td>1.049145</td>\n",
       "      <td>1.061230</td>\n",
       "      <td>0.666261</td>\n",
       "      <td>00:00</td>\n",
       "    </tr>\n",
       "    <tr>\n",
       "      <td>4</td>\n",
       "      <td>0.845546</td>\n",
       "      <td>1.016653</td>\n",
       "      <td>0.671938</td>\n",
       "      <td>00:00</td>\n",
       "    </tr>\n",
       "    <tr>\n",
       "      <td>5</td>\n",
       "      <td>0.702628</td>\n",
       "      <td>1.012920</td>\n",
       "      <td>0.676805</td>\n",
       "      <td>00:00</td>\n",
       "    </tr>\n",
       "    <tr>\n",
       "      <td>6</td>\n",
       "      <td>0.604361</td>\n",
       "      <td>1.000566</td>\n",
       "      <td>0.675994</td>\n",
       "      <td>00:00</td>\n",
       "    </tr>\n",
       "    <tr>\n",
       "      <td>7</td>\n",
       "      <td>0.523132</td>\n",
       "      <td>0.987853</td>\n",
       "      <td>0.673966</td>\n",
       "      <td>00:00</td>\n",
       "    </tr>\n",
       "    <tr>\n",
       "      <td>8</td>\n",
       "      <td>0.467956</td>\n",
       "      <td>0.981170</td>\n",
       "      <td>0.680049</td>\n",
       "      <td>00:00</td>\n",
       "    </tr>\n",
       "    <tr>\n",
       "      <td>9</td>\n",
       "      <td>0.431131</td>\n",
       "      <td>0.973702</td>\n",
       "      <td>0.678427</td>\n",
       "      <td>00:00</td>\n",
       "    </tr>\n",
       "  </tbody>\n",
       "</table>"
      ],
      "text/plain": [
       "<IPython.core.display.HTML object>"
      ]
     },
     "metadata": {},
     "output_type": "display_data"
    },
    {
     "data": {
      "image/png": "[encoded data removed]",
      "text/plain": [
       "<Figure size 432x288 with 1 Axes>"
      ]
     },
     "metadata": {},
     "output_type": "display_data"
    },
    {
     "data": {
      "image/png": "[encoded data removed]",
      "text/plain": [
       "<Figure size 1440x288 with 3 Axes>"
      ]
     },
     "metadata": {
      "needs_background": "light"
     },
     "output_type": "display_data"
    },
    {
     "data": {
      "text/plain": [
       "7.073542"
      ]
     },
     "execution_count": null,
     "metadata": {},
     "output_type": "execute_result"
    }
   ],
   "source": [
    "tfms = [None, TSClassification()]\n",
    "batch_tfms = TSStandardize(by_sample=True)\n",
    "dls = get_ts_dls(X, y, splits=splits, tfms=tfms, batch_tfms=batch_tfms)\n",
    "model = build_ts_model(MiniRocket, dls=dls)\n",
    "learn = Learner(dls, model, metrics=accuracy, cbs=ShowGraph())\n",
    "timer.start()\n",
    "learn.fit_one_cycle(10, 3e-4)\n",
    "timer.stop()"
   ]
  },
  {
   "cell_type": "markdown",
   "metadata": {},
   "source": [
    "Since we calculate the minirocket features within the model, we now have the option to use data augmentation for example: "
   ]
  },
  {
   "cell_type": "code",
   "execution_count": null,
   "metadata": {},
   "outputs": [
    {
     "data": {
      "text/html": [
       "\n",
       "<style>\n",
       "    /* Turns off some styling */\n",
       "    progress {\n",
       "        /* gets rid of default border in Firefox and Opera. */\n",
       "        border: none;\n",
       "        /* Needs to be in here for Safari polyfill so background images work as expected. */\n",
       "        background-size: auto;\n",
       "    }\n",
       "    progress:not([value]), progress:not([value])::-webkit-progress-bar {\n",
       "        background: repeating-linear-gradient(45deg, #7e7e7e, #7e7e7e 10px, #5c5c5c 10px, #5c5c5c 20px);\n",
       "    }\n",
       "    .progress-bar-interrupted, .progress-bar-interrupted::-webkit-progress-bar {\n",
       "        background: #F44336;\n",
       "    }\n",
       "</style>\n"
      ],
      "text/plain": [
       "<IPython.core.display.HTML object>"
      ]
     },
     "metadata": {},
     "output_type": "display_data"
    },
    {
     "data": {
      "text/html": [
       "<table border=\"1\" class=\"dataframe\">\n",
       "  <thead>\n",
       "    <tr style=\"text-align: left;\">\n",
       "      <th>epoch</th>\n",
       "      <th>train_loss</th>\n",
       "      <th>valid_loss</th>\n",
       "      <th>accuracy</th>\n",
       "      <th>time</th>\n",
       "    </tr>\n",
       "  </thead>\n",
       "  <tbody>\n",
       "    <tr>\n",
       "      <td>0</td>\n",
       "      <td>2.297333</td>\n",
       "      <td>2.186477</td>\n",
       "      <td>0.416058</td>\n",
       "      <td>00:00</td>\n",
       "    </tr>\n",
       "    <tr>\n",
       "      <td>1</td>\n",
       "      <td>1.871022</td>\n",
       "      <td>1.500383</td>\n",
       "      <td>0.570154</td>\n",
       "      <td>00:00</td>\n",
       "    </tr>\n",
       "    <tr>\n",
       "      <td>2</td>\n",
       "      <td>1.535833</td>\n",
       "      <td>1.260056</td>\n",
       "      <td>0.606650</td>\n",
       "      <td>00:00</td>\n",
       "    </tr>\n",
       "    <tr>\n",
       "      <td>3</td>\n",
       "      <td>1.314667</td>\n",
       "      <td>1.177868</td>\n",
       "      <td>0.643147</td>\n",
       "      <td>00:01</td>\n",
       "    </tr>\n",
       "    <tr>\n",
       "      <td>4</td>\n",
       "      <td>1.121340</td>\n",
       "      <td>1.092441</td>\n",
       "      <td>0.660178</td>\n",
       "      <td>00:01</td>\n",
       "    </tr>\n",
       "    <tr>\n",
       "      <td>5</td>\n",
       "      <td>0.972128</td>\n",
       "      <td>1.049132</td>\n",
       "      <td>0.668694</td>\n",
       "      <td>00:00</td>\n",
       "    </tr>\n",
       "    <tr>\n",
       "      <td>6</td>\n",
       "      <td>0.858646</td>\n",
       "      <td>1.029591</td>\n",
       "      <td>0.676805</td>\n",
       "      <td>00:00</td>\n",
       "    </tr>\n",
       "    <tr>\n",
       "      <td>7</td>\n",
       "      <td>0.759472</td>\n",
       "      <td>1.035876</td>\n",
       "      <td>0.665856</td>\n",
       "      <td>00:00</td>\n",
       "    </tr>\n",
       "    <tr>\n",
       "      <td>8</td>\n",
       "      <td>0.668328</td>\n",
       "      <td>1.021052</td>\n",
       "      <td>0.683293</td>\n",
       "      <td>00:00</td>\n",
       "    </tr>\n",
       "    <tr>\n",
       "      <td>9</td>\n",
       "      <td>0.623271</td>\n",
       "      <td>1.047860</td>\n",
       "      <td>0.667478</td>\n",
       "      <td>00:00</td>\n",
       "    </tr>\n",
       "    <tr>\n",
       "      <td>10</td>\n",
       "      <td>0.568082</td>\n",
       "      <td>1.009312</td>\n",
       "      <td>0.685320</td>\n",
       "      <td>00:00</td>\n",
       "    </tr>\n",
       "    <tr>\n",
       "      <td>11</td>\n",
       "      <td>0.518211</td>\n",
       "      <td>0.998625</td>\n",
       "      <td>0.686537</td>\n",
       "      <td>00:00</td>\n",
       "    </tr>\n",
       "    <tr>\n",
       "      <td>12</td>\n",
       "      <td>0.475144</td>\n",
       "      <td>0.981528</td>\n",
       "      <td>0.688970</td>\n",
       "      <td>00:00</td>\n",
       "    </tr>\n",
       "    <tr>\n",
       "      <td>13</td>\n",
       "      <td>0.445705</td>\n",
       "      <td>0.987663</td>\n",
       "      <td>0.687348</td>\n",
       "      <td>00:00</td>\n",
       "    </tr>\n",
       "    <tr>\n",
       "      <td>14</td>\n",
       "      <td>0.428531</td>\n",
       "      <td>0.982846</td>\n",
       "      <td>0.688970</td>\n",
       "      <td>00:00</td>\n",
       "    </tr>\n",
       "    <tr>\n",
       "      <td>15</td>\n",
       "      <td>0.400230</td>\n",
       "      <td>0.990989</td>\n",
       "      <td>0.687753</td>\n",
       "      <td>00:00</td>\n",
       "    </tr>\n",
       "    <tr>\n",
       "      <td>16</td>\n",
       "      <td>0.381716</td>\n",
       "      <td>0.975119</td>\n",
       "      <td>0.685726</td>\n",
       "      <td>00:00</td>\n",
       "    </tr>\n",
       "    <tr>\n",
       "      <td>17</td>\n",
       "      <td>0.371274</td>\n",
       "      <td>0.981072</td>\n",
       "      <td>0.687753</td>\n",
       "      <td>00:00</td>\n",
       "    </tr>\n",
       "    <tr>\n",
       "      <td>18</td>\n",
       "      <td>0.370040</td>\n",
       "      <td>0.979608</td>\n",
       "      <td>0.686537</td>\n",
       "      <td>00:00</td>\n",
       "    </tr>\n",
       "    <tr>\n",
       "      <td>19</td>\n",
       "      <td>0.367150</td>\n",
       "      <td>0.977748</td>\n",
       "      <td>0.688970</td>\n",
       "      <td>00:00</td>\n",
       "    </tr>\n",
       "  </tbody>\n",
       "</table>"
      ],
      "text/plain": [
       "<IPython.core.display.HTML object>"
      ]
     },
     "metadata": {},
     "output_type": "display_data"
    },
    {
     "data": {
      "image/png": "[encoded data removed]",
      "text/plain": [
       "<Figure size 432x288 with 1 Axes>"
      ]
     },
     "metadata": {},
     "output_type": "display_data"
    },
    {
     "data": {
      "image/png": "[encoded data removed]",
      "text/plain": [
       "<Figure size 1440x288 with 3 Axes>"
      ]
     },
     "metadata": {
      "needs_background": "light"
     },
     "output_type": "display_data"
    }
   ],
   "source": [
    "# MiniRocket with data augmentation\n",
    "tfms = [None, TSClassification()]\n",
    "batch_tfms = [TSStandardize(by_sample=True), TSMagScale(), TSWindowWarp()]\n",
    "dls = get_ts_dls(X, y, splits=splits, tfms=tfms, batch_tfms=batch_tfms)\n",
    "model = build_ts_model(MiniRocket, dls=dls)\n",
    "learn = Learner(dls, model, metrics=accuracy, cbs=[ShowGraph()])\n",
    "learn.fit_one_cycle(20, 3e-4)"
   ]
  },
  {
   "cell_type": "markdown",
   "metadata": {},
   "source": [
    "In this case, we can see that using MiniRocket (Pytorch implementation) with data augmentation achieves an accuracy of 69%+, compared to the sklearn-API implementation which is around 65%. "
   ]
  },
  {
   "cell_type": "markdown",
   "metadata": {},
   "source": [
    "Once you have trained the model, you can always save if for future use. We just need to export the learner:"
   ]
  },
  {
   "cell_type": "code",
   "execution_count": null,
   "metadata": {},
   "outputs": [],
   "source": [
    "PATH = Path('./models/MiniRocket_aug.pkl')\n",
    "PATH.parent.mkdir(parents=True, exist_ok=True)\n",
    "learn.export(PATH)"
   ]
  },
  {
   "cell_type": "code",
   "execution_count": null,
   "metadata": {},
   "outputs": [],
   "source": [
    "del learn"
   ]
  },
  {
   "cell_type": "markdown",
   "metadata": {},
   "source": [
    "#### Inference"
   ]
  },
  {
   "cell_type": "markdown",
   "metadata": {},
   "source": [
    "Let's first recreate the learner: "
   ]
  },
  {
   "cell_type": "code",
   "execution_count": null,
   "metadata": {},
   "outputs": [],
   "source": [
    "PATH = Path('./models/MiniRocket_aug.pkl')\n",
    "learn = load_learner(PATH, cpu=False)"
   ]
  },
  {
   "cell_type": "markdown",
   "metadata": {},
   "source": [
    "We are now ready to generate predictions. We'll confirm it works well with the valid dataset: "
   ]
  },
  {
   "cell_type": "code",
   "execution_count": null,
   "metadata": {},
   "outputs": [
    {
     "data": {
      "text/html": [
       "\n",
       "<style>\n",
       "    /* Turns off some styling */\n",
       "    progress {\n",
       "        /* gets rid of default border in Firefox and Opera. */\n",
       "        border: none;\n",
       "        /* Needs to be in here for Safari polyfill so background images work as expected. */\n",
       "        background-size: auto;\n",
       "    }\n",
       "    progress:not([value]), progress:not([value])::-webkit-progress-bar {\n",
       "        background: repeating-linear-gradient(45deg, #7e7e7e, #7e7e7e 10px, #5c5c5c 10px, #5c5c5c 20px);\n",
       "    }\n",
       "    .progress-bar-interrupted, .progress-bar-interrupted::-webkit-progress-bar {\n",
       "        background: #F44336;\n",
       "    }\n",
       "</style>\n"
      ],
      "text/plain": [
       "<IPython.core.display.HTML object>"
      ]
     },
     "metadata": {},
     "output_type": "display_data"
    },
    {
     "data": {
      "text/html": [],
      "text/plain": [
       "<IPython.core.display.HTML object>"
      ]
     },
     "metadata": {},
     "output_type": "display_data"
    },
    {
     "data": {
      "text/plain": [
       "array(['6', '62', '6', ..., '42', '90', '42'], dtype='<U2')"
      ]
     },
     "execution_count": null,
     "metadata": {},
     "output_type": "execute_result"
    }
   ],
   "source": [
    "probas, _, preds = learn.get_X_preds(X[splits[1]])\n",
    "preds"
   ]
  },
  {
   "cell_type": "markdown",
   "metadata": {},
   "source": [
    "We can see that the validation loss & metrics are the same we had when we saved it."
   ]
  },
  {
   "cell_type": "code",
   "execution_count": null,
   "metadata": {},
   "outputs": [
    {
     "data": {
      "text/plain": [
       "0.6889699918896999"
      ]
     },
     "execution_count": null,
     "metadata": {},
     "output_type": "execute_result"
    }
   ],
   "source": [
    "sklearn.metrics.accuracy_score(y[splits[1]], preds)"
   ]
  },
  {
   "cell_type": "markdown",
   "metadata": {},
   "source": [
    "# Conclusion ✅"
   ]
  },
  {
   "cell_type": "markdown",
   "metadata": {},
   "source": [
    "MiniRocket is a new type of algorithm that is significantly faster than any other method of comparable accuracy (including Rocket), and significantly more accurate than any other method of even roughly-similar computational expense. \n",
    "\n",
    "`tsai` supports the 2 variations of MiniRocket introduced in this notebook. A cpu version (that can be used with relatively small datasets, with <10k samples) and a gpu (Pytorch) version that can be used with datasets of any size. The Pytorch version can be used in an offline mode (pre-calculating all features before fitting the model) or in an online mode (calculating features on the fly). \n",
    "\n",
    "We believe MiniRocket is a great new tool, and encourange you to try it in your next Time Series Classification or Regression task. "
   ]
  }
 ],
 "metadata": {
  "kernelspec": {
   "display_name": "Python 3 (ipykernel)",
   "language": "python",
   "name": "python3"
  }
 },
 "nbformat": 4,
 "nbformat_minor": 0
}
