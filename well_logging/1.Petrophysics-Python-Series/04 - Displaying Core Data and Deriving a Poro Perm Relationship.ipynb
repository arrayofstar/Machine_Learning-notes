{
 "cells": [
  {
   "cell_type": "markdown",
   "metadata": {},
   "source": [
    "### 4 - Displaying Core Data and Deriving a Poro Perm Relationship"
   ]
  },
  {
   "cell_type": "markdown",
   "metadata": {},
   "source": [
    "Created By: Andy McDonald\n",
    "<br><br>\n",
    "The following short tutorial illustrates the process of loading in core data from a CSV file, creating poro-perm crossplots, and deriving a poro-perm relationship using numpy."
   ]
  },
  {
   "cell_type": "code",
   "execution_count": 21,
   "metadata": {},
   "outputs": [],
   "source": [
    "import pandas as pd\n",
    "import matplotlib.pyplot as plt\n",
    "import numpy as np"
   ]
  },
  {
   "cell_type": "code",
   "execution_count": 22,
   "metadata": {},
   "outputs": [],
   "source": [
    "core_data = pd.read_csv(\"Data/15_9-19A-CORE.csv\", na_values=' ')"
   ]
  },
  {
   "cell_type": "code",
   "execution_count": 23,
   "metadata": {},
   "outputs": [
    {
     "data": {
      "text/html": [
       "<div>\n",
       "<style scoped>\n",
       "    .dataframe tbody tr th:only-of-type {\n",
       "        vertical-align: middle;\n",
       "    }\n",
       "\n",
       "    .dataframe tbody tr th {\n",
       "        vertical-align: top;\n",
       "    }\n",
       "\n",
       "    .dataframe thead th {\n",
       "        text-align: right;\n",
       "    }\n",
       "</style>\n",
       "<table border=\"1\" class=\"dataframe\">\n",
       "  <thead>\n",
       "    <tr style=\"text-align: right;\">\n",
       "      <th></th>\n",
       "      <th>DEPTH</th>\n",
       "      <th>OrigDepth</th>\n",
       "      <th>CORE_NO</th>\n",
       "      <th>SAMPLE</th>\n",
       "      <th>CKHG</th>\n",
       "      <th>CKHL</th>\n",
       "      <th>CKVG</th>\n",
       "      <th>CKVL</th>\n",
       "      <th>CPOR</th>\n",
       "      <th>CPORV</th>\n",
       "      <th>So</th>\n",
       "      <th>Sw</th>\n",
       "      <th>CGD</th>\n",
       "      <th>CGDV</th>\n",
       "    </tr>\n",
       "  </thead>\n",
       "  <tbody>\n",
       "    <tr>\n",
       "      <th>0</th>\n",
       "      <td>3838.60</td>\n",
       "      <td>3837.00</td>\n",
       "      <td>1</td>\n",
       "      <td>1</td>\n",
       "      <td>13.80</td>\n",
       "      <td>11.500</td>\n",
       "      <td>NaN</td>\n",
       "      <td>NaN</td>\n",
       "      <td>17.0</td>\n",
       "      <td>NaN</td>\n",
       "      <td>NaN</td>\n",
       "      <td>NaN</td>\n",
       "      <td>2.66</td>\n",
       "      <td>NaN</td>\n",
       "    </tr>\n",
       "    <tr>\n",
       "      <th>1</th>\n",
       "      <td>3838.85</td>\n",
       "      <td>3837.25</td>\n",
       "      <td>1</td>\n",
       "      <td>2</td>\n",
       "      <td>NaN</td>\n",
       "      <td>NaN</td>\n",
       "      <td>NaN</td>\n",
       "      <td>NaN</td>\n",
       "      <td>14.8</td>\n",
       "      <td>NaN</td>\n",
       "      <td>NaN</td>\n",
       "      <td>NaN</td>\n",
       "      <td>2.67</td>\n",
       "      <td>NaN</td>\n",
       "    </tr>\n",
       "    <tr>\n",
       "      <th>2</th>\n",
       "      <td>3839.15</td>\n",
       "      <td>3837.55</td>\n",
       "      <td>1</td>\n",
       "      <td>3</td>\n",
       "      <td>25.20</td>\n",
       "      <td>21.400</td>\n",
       "      <td>3.94</td>\n",
       "      <td>3.16</td>\n",
       "      <td>10.8</td>\n",
       "      <td>NaN</td>\n",
       "      <td>NaN</td>\n",
       "      <td>NaN</td>\n",
       "      <td>2.69</td>\n",
       "      <td>NaN</td>\n",
       "    </tr>\n",
       "    <tr>\n",
       "      <th>3</th>\n",
       "      <td>3839.40</td>\n",
       "      <td>3837.80</td>\n",
       "      <td>1</td>\n",
       "      <td>4</td>\n",
       "      <td>1.02</td>\n",
       "      <td>0.694</td>\n",
       "      <td>NaN</td>\n",
       "      <td>NaN</td>\n",
       "      <td>12.8</td>\n",
       "      <td>NaN</td>\n",
       "      <td>NaN</td>\n",
       "      <td>NaN</td>\n",
       "      <td>2.70</td>\n",
       "      <td>NaN</td>\n",
       "    </tr>\n",
       "    <tr>\n",
       "      <th>4</th>\n",
       "      <td>3839.48</td>\n",
       "      <td>3837.88</td>\n",
       "      <td>1</td>\n",
       "      <td>5</td>\n",
       "      <td>NaN</td>\n",
       "      <td>NaN</td>\n",
       "      <td>NaN</td>\n",
       "      <td>NaN</td>\n",
       "      <td>NaN</td>\n",
       "      <td>18.8</td>\n",
       "      <td>52.9</td>\n",
       "      <td>36.4</td>\n",
       "      <td>NaN</td>\n",
       "      <td>2.68</td>\n",
       "    </tr>\n",
       "  </tbody>\n",
       "</table>\n",
       "</div>"
      ],
      "text/plain": [
       "     DEPTH  OrigDepth  CORE_NO  SAMPLE   CKHG    CKHL  CKVG  CKVL  CPOR  \\\n",
       "0  3838.60    3837.00        1       1  13.80  11.500   NaN   NaN  17.0   \n",
       "1  3838.85    3837.25        1       2    NaN     NaN   NaN   NaN  14.8   \n",
       "2  3839.15    3837.55        1       3  25.20  21.400  3.94  3.16  10.8   \n",
       "3  3839.40    3837.80        1       4   1.02   0.694   NaN   NaN  12.8   \n",
       "4  3839.48    3837.88        1       5    NaN     NaN   NaN   NaN   NaN   \n",
       "\n",
       "   CPORV    So    Sw   CGD  CGDV  \n",
       "0    NaN   NaN   NaN  2.66   NaN  \n",
       "1    NaN   NaN   NaN  2.67   NaN  \n",
       "2    NaN   NaN   NaN  2.69   NaN  \n",
       "3    NaN   NaN   NaN  2.70   NaN  \n",
       "4   18.8  52.9  36.4   NaN  2.68  "
      ]
     },
     "execution_count": 23,
     "metadata": {},
     "output_type": "execute_result"
    }
   ],
   "source": [
    "core_data.head()"
   ]
  },
  {
   "cell_type": "code",
   "execution_count": 24,
   "metadata": {},
   "outputs": [
    {
     "data": {
      "text/html": [
       "<div>\n",
       "<style scoped>\n",
       "    .dataframe tbody tr th:only-of-type {\n",
       "        vertical-align: middle;\n",
       "    }\n",
       "\n",
       "    .dataframe tbody tr th {\n",
       "        vertical-align: top;\n",
       "    }\n",
       "\n",
       "    .dataframe thead th {\n",
       "        text-align: right;\n",
       "    }\n",
       "</style>\n",
       "<table border=\"1\" class=\"dataframe\">\n",
       "  <thead>\n",
       "    <tr style=\"text-align: right;\">\n",
       "      <th></th>\n",
       "      <th>DEPTH</th>\n",
       "      <th>OrigDepth</th>\n",
       "      <th>CORE_NO</th>\n",
       "      <th>SAMPLE</th>\n",
       "      <th>CKHG</th>\n",
       "      <th>CKHL</th>\n",
       "      <th>CKVG</th>\n",
       "      <th>CKVL</th>\n",
       "      <th>CPOR</th>\n",
       "      <th>CPORV</th>\n",
       "      <th>So</th>\n",
       "      <th>Sw</th>\n",
       "      <th>CGD</th>\n",
       "      <th>CGDV</th>\n",
       "    </tr>\n",
       "  </thead>\n",
       "  <tbody>\n",
       "    <tr>\n",
       "      <th>count</th>\n",
       "      <td>728.000000</td>\n",
       "      <td>728.000000</td>\n",
       "      <td>728.00000</td>\n",
       "      <td>728.000000</td>\n",
       "      <td>557.000000</td>\n",
       "      <td>557.000000</td>\n",
       "      <td>141.000000</td>\n",
       "      <td>141.000000</td>\n",
       "      <td>593.000000</td>\n",
       "      <td>71.000000</td>\n",
       "      <td>71.000000</td>\n",
       "      <td>71.000000</td>\n",
       "      <td>594.000000</td>\n",
       "      <td>71.000000</td>\n",
       "    </tr>\n",
       "    <tr>\n",
       "      <th>mean</th>\n",
       "      <td>3920.528338</td>\n",
       "      <td>3920.153338</td>\n",
       "      <td>3.93956</td>\n",
       "      <td>364.500000</td>\n",
       "      <td>649.801463</td>\n",
       "      <td>627.972549</td>\n",
       "      <td>490.086071</td>\n",
       "      <td>472.875284</td>\n",
       "      <td>16.829342</td>\n",
       "      <td>19.497183</td>\n",
       "      <td>56.943662</td>\n",
       "      <td>28.309859</td>\n",
       "      <td>2.653569</td>\n",
       "      <td>2.656901</td>\n",
       "    </tr>\n",
       "    <tr>\n",
       "      <th>std</th>\n",
       "      <td>46.545695</td>\n",
       "      <td>46.902816</td>\n",
       "      <td>1.75976</td>\n",
       "      <td>210.299786</td>\n",
       "      <td>2160.127387</td>\n",
       "      <td>2116.307023</td>\n",
       "      <td>1973.601098</td>\n",
       "      <td>1929.420018</td>\n",
       "      <td>6.552523</td>\n",
       "      <td>5.657763</td>\n",
       "      <td>21.084319</td>\n",
       "      <td>19.203758</td>\n",
       "      <td>0.046735</td>\n",
       "      <td>0.035560</td>\n",
       "    </tr>\n",
       "    <tr>\n",
       "      <th>min</th>\n",
       "      <td>3838.600000</td>\n",
       "      <td>3837.000000</td>\n",
       "      <td>1.00000</td>\n",
       "      <td>1.000000</td>\n",
       "      <td>0.018000</td>\n",
       "      <td>0.010000</td>\n",
       "      <td>0.030000</td>\n",
       "      <td>0.017000</td>\n",
       "      <td>2.900000</td>\n",
       "      <td>2.700000</td>\n",
       "      <td>0.000000</td>\n",
       "      <td>4.500000</td>\n",
       "      <td>2.250000</td>\n",
       "      <td>2.620000</td>\n",
       "    </tr>\n",
       "    <tr>\n",
       "      <th>25%</th>\n",
       "      <td>3882.580000</td>\n",
       "      <td>3881.980000</td>\n",
       "      <td>3.00000</td>\n",
       "      <td>182.750000</td>\n",
       "      <td>2.620000</td>\n",
       "      <td>2.030000</td>\n",
       "      <td>0.874000</td>\n",
       "      <td>0.590000</td>\n",
       "      <td>12.000000</td>\n",
       "      <td>18.150000</td>\n",
       "      <td>52.000000</td>\n",
       "      <td>18.200000</td>\n",
       "      <td>2.640000</td>\n",
       "      <td>2.630000</td>\n",
       "    </tr>\n",
       "    <tr>\n",
       "      <th>50%</th>\n",
       "      <td>3921.725000</td>\n",
       "      <td>3921.125000</td>\n",
       "      <td>4.00000</td>\n",
       "      <td>364.500000</td>\n",
       "      <td>59.900000</td>\n",
       "      <td>52.300000</td>\n",
       "      <td>27.300000</td>\n",
       "      <td>23.300000</td>\n",
       "      <td>18.100000</td>\n",
       "      <td>21.200000</td>\n",
       "      <td>62.300000</td>\n",
       "      <td>22.800000</td>\n",
       "      <td>2.650000</td>\n",
       "      <td>2.650000</td>\n",
       "    </tr>\n",
       "    <tr>\n",
       "      <th>75%</th>\n",
       "      <td>3960.287500</td>\n",
       "      <td>3960.487500</td>\n",
       "      <td>5.00000</td>\n",
       "      <td>546.250000</td>\n",
       "      <td>213.000000</td>\n",
       "      <td>194.000000</td>\n",
       "      <td>108.000000</td>\n",
       "      <td>96.300000</td>\n",
       "      <td>21.700000</td>\n",
       "      <td>23.500000</td>\n",
       "      <td>68.500000</td>\n",
       "      <td>29.950000</td>\n",
       "      <td>2.660000</td>\n",
       "      <td>2.660000</td>\n",
       "    </tr>\n",
       "    <tr>\n",
       "      <th>max</th>\n",
       "      <td>3999.950000</td>\n",
       "      <td>3999.750000</td>\n",
       "      <td>7.00000</td>\n",
       "      <td>728.000000</td>\n",
       "      <td>20800.000000</td>\n",
       "      <td>20500.000000</td>\n",
       "      <td>14800.000000</td>\n",
       "      <td>14500.000000</td>\n",
       "      <td>36.000000</td>\n",
       "      <td>27.800000</td>\n",
       "      <td>86.000000</td>\n",
       "      <td>90.800000</td>\n",
       "      <td>3.030000</td>\n",
       "      <td>2.810000</td>\n",
       "    </tr>\n",
       "  </tbody>\n",
       "</table>\n",
       "</div>"
      ],
      "text/plain": [
       "             DEPTH    OrigDepth    CORE_NO      SAMPLE          CKHG  \\\n",
       "count   728.000000   728.000000  728.00000  728.000000    557.000000   \n",
       "mean   3920.528338  3920.153338    3.93956  364.500000    649.801463   \n",
       "std      46.545695    46.902816    1.75976  210.299786   2160.127387   \n",
       "min    3838.600000  3837.000000    1.00000    1.000000      0.018000   \n",
       "25%    3882.580000  3881.980000    3.00000  182.750000      2.620000   \n",
       "50%    3921.725000  3921.125000    4.00000  364.500000     59.900000   \n",
       "75%    3960.287500  3960.487500    5.00000  546.250000    213.000000   \n",
       "max    3999.950000  3999.750000    7.00000  728.000000  20800.000000   \n",
       "\n",
       "               CKHL          CKVG          CKVL        CPOR      CPORV  \\\n",
       "count    557.000000    141.000000    141.000000  593.000000  71.000000   \n",
       "mean     627.972549    490.086071    472.875284   16.829342  19.497183   \n",
       "std     2116.307023   1973.601098   1929.420018    6.552523   5.657763   \n",
       "min        0.010000      0.030000      0.017000    2.900000   2.700000   \n",
       "25%        2.030000      0.874000      0.590000   12.000000  18.150000   \n",
       "50%       52.300000     27.300000     23.300000   18.100000  21.200000   \n",
       "75%      194.000000    108.000000     96.300000   21.700000  23.500000   \n",
       "max    20500.000000  14800.000000  14500.000000   36.000000  27.800000   \n",
       "\n",
       "              So         Sw         CGD       CGDV  \n",
       "count  71.000000  71.000000  594.000000  71.000000  \n",
       "mean   56.943662  28.309859    2.653569   2.656901  \n",
       "std    21.084319  19.203758    0.046735   0.035560  \n",
       "min     0.000000   4.500000    2.250000   2.620000  \n",
       "25%    52.000000  18.200000    2.640000   2.630000  \n",
       "50%    62.300000  22.800000    2.650000   2.650000  \n",
       "75%    68.500000  29.950000    2.660000   2.660000  \n",
       "max    86.000000  90.800000    3.030000   2.810000  "
      ]
     },
     "execution_count": 24,
     "metadata": {},
     "output_type": "execute_result"
    }
   ],
   "source": [
    "core_data.describe()"
   ]
  },
  {
   "cell_type": "markdown",
   "metadata": {},
   "source": [
    "We can make a quick scatter plot by:"
   ]
  },
  {
   "cell_type": "code",
   "execution_count": 26,
   "metadata": {},
   "outputs": [
    {
     "data": {
      "text/plain": [
       "<matplotlib.axes._subplots.AxesSubplot at 0x11198d400>"
      ]
     },
     "execution_count": 26,
     "metadata": {},
     "output_type": "execute_result"
    },
    {
     "data": {
      "image/png": "[encoded data removed]",
      "text/plain": [
       "<Figure size 432x288 with 1 Axes>"
      ]
     },
     "metadata": {
      "needs_background": "light"
     },
     "output_type": "display_data"
    }
   ],
   "source": [
    "core_data.plot(kind=\"scatter\", x=\"CPOR\", y=\"CKHG\")"
   ]
  },
  {
   "cell_type": "markdown",
   "metadata": {},
   "source": [
    "There is one main problem with previous plot. Poro-perm data is normally presented on semilog scale, where the y-axis is logarithmic and the x-axis set to linear. We can change this by using the yscale('log') method."
   ]
  },
  {
   "cell_type": "code",
   "execution_count": 27,
   "metadata": {},
   "outputs": [
    {
     "data": {
      "image/png": "[encoded data removed]",
      "text/plain": [
       "<Figure size 432x288 with 1 Axes>"
      ]
     },
     "metadata": {
      "needs_background": "light"
     },
     "output_type": "display_data"
    }
   ],
   "source": [
    "core_data.plot(kind=\"scatter\", x=\"CPOR\", y=\"CKHG\")\n",
    "plt.yscale('log')\n",
    "plt.grid(True)"
   ]
  },
  {
   "cell_type": "markdown",
   "metadata": {},
   "source": [
    "We can further refine the scatter plot by removing the scientific notation on the y-axis."
   ]
  },
  {
   "cell_type": "code",
   "execution_count": 31,
   "metadata": {},
   "outputs": [
    {
     "data": {
      "image/png": "[encoded data removed]",
      "text/plain": [
       "<Figure size 432x288 with 1 Axes>"
      ]
     },
     "metadata": {
      "needs_background": "light"
     },
     "output_type": "display_data"
    }
   ],
   "source": [
    "from matplotlib.ticker import FuncFormatter\n",
    "fig, ax = plt.subplots()\n",
    "\n",
    "ax.axis([0, 40, 0.01, 100000])\n",
    "ax.plot(core_data['CPOR'], core_data['CKHG'], 'bo')\n",
    "ax.set_yscale('log')\n",
    "ax.grid(True)\n",
    "ax.set_ylabel('Core Perm (mD)')\n",
    "ax.set_xlabel('Core Porosity (%)')\n",
    "\n",
    "#Format the axes so that they show whole numbers\n",
    "for axis in [ax.yaxis, ax.xaxis]:\n",
    "    formatter = FuncFormatter(lambda y, _: '{:.16g}'.format(y))\n",
    "    axis.set_major_formatter(formatter)"
   ]
  },
  {
   "cell_type": "markdown",
   "metadata": {},
   "source": [
    "We can derive a linear regression by using the polyfit function from numpy. As we are working with a semi-log plot, we need to calculate log base 10 of the core permeability."
   ]
  },
  {
   "cell_type": "code",
   "execution_count": 45,
   "metadata": {},
   "outputs": [],
   "source": [
    "import statsmodels.api as sm\n",
    "\n",
    "x = core_data['CPOR']\n",
    "y = np.log10(core_data['CKHG'])\n",
    "\n",
    "model = sm.OLS(y, x, missing='drop')\n",
    "results = model.fit()"
   ]
  },
  {
   "cell_type": "code",
   "execution_count": 48,
   "metadata": {},
   "outputs": [
    {
     "data": {
      "text/html": [
       "<table class=\"simpletable\">\n",
       "<caption>OLS Regression Results</caption>\n",
       "<tr>\n",
       "  <th>Dep. Variable:</th>          <td>CKHG</td>       <th>  R-squared (uncentered):</th>      <td>   0.793</td> \n",
       "</tr>\n",
       "<tr>\n",
       "  <th>Model:</th>                   <td>OLS</td>       <th>  Adj. R-squared (uncentered):</th> <td>   0.793</td> \n",
       "</tr>\n",
       "<tr>\n",
       "  <th>Method:</th>             <td>Least Squares</td>  <th>  F-statistic:       </th>          <td>   2129.</td> \n",
       "</tr>\n",
       "<tr>\n",
       "  <th>Date:</th>             <td>Thu, 05 Nov 2020</td> <th>  Prob (F-statistic):</th>          <td>2.80e-192</td>\n",
       "</tr>\n",
       "<tr>\n",
       "  <th>Time:</th>                 <td>23:18:49</td>     <th>  Log-Likelihood:    </th>          <td> -726.48</td> \n",
       "</tr>\n",
       "<tr>\n",
       "  <th>No. Observations:</th>      <td>   557</td>      <th>  AIC:               </th>          <td>   1455.</td> \n",
       "</tr>\n",
       "<tr>\n",
       "  <th>Df Residuals:</th>          <td>   556</td>      <th>  BIC:               </th>          <td>   1459.</td> \n",
       "</tr>\n",
       "<tr>\n",
       "  <th>Df Model:</th>              <td>     1</td>      <th>                     </th>              <td> </td>    \n",
       "</tr>\n",
       "<tr>\n",
       "  <th>Covariance Type:</th>      <td>nonrobust</td>    <th>                     </th>              <td> </td>    \n",
       "</tr>\n",
       "</table>\n",
       "<table class=\"simpletable\">\n",
       "<tr>\n",
       "    <td></td>      <th>coef</th>     <th>std err</th>      <th>t</th>      <th>P>|t|</th>  <th>[0.025</th>    <th>0.975]</th>  \n",
       "</tr>\n",
       "<tr>\n",
       "  <th>CPOR</th> <td>    0.0949</td> <td>    0.002</td> <td>   46.145</td> <td> 0.000</td> <td>    0.091</td> <td>    0.099</td>\n",
       "</tr>\n",
       "</table>\n",
       "<table class=\"simpletable\">\n",
       "<tr>\n",
       "  <th>Omnibus:</th>       <td> 9.398</td> <th>  Durbin-Watson:     </th> <td>   0.654</td>\n",
       "</tr>\n",
       "<tr>\n",
       "  <th>Prob(Omnibus):</th> <td> 0.009</td> <th>  Jarque-Bera (JB):  </th> <td>   7.595</td>\n",
       "</tr>\n",
       "<tr>\n",
       "  <th>Skew:</th>          <td> 0.198</td> <th>  Prob(JB):          </th> <td>  0.0224</td>\n",
       "</tr>\n",
       "<tr>\n",
       "  <th>Kurtosis:</th>      <td> 2.588</td> <th>  Cond. No.          </th> <td>    1.00</td>\n",
       "</tr>\n",
       "</table><br/><br/>Warnings:<br/>[1] Standard Errors assume that the covariance matrix of the errors is correctly specified."
      ],
      "text/plain": [
       "<class 'statsmodels.iolib.summary.Summary'>\n",
       "\"\"\"\n",
       "                                 OLS Regression Results                                \n",
       "=======================================================================================\n",
       "Dep. Variable:                   CKHG   R-squared (uncentered):                   0.793\n",
       "Model:                            OLS   Adj. R-squared (uncentered):              0.793\n",
       "Method:                 Least Squares   F-statistic:                              2129.\n",
       "Date:                Thu, 05 Nov 2020   Prob (F-statistic):                   2.80e-192\n",
       "Time:                        23:18:49   Log-Likelihood:                         -726.48\n",
       "No. Observations:                 557   AIC:                                      1455.\n",
       "Df Residuals:                     556   BIC:                                      1459.\n",
       "Df Model:                           1                                                  \n",
       "Covariance Type:            nonrobust                                                  \n",
       "==============================================================================\n",
       "                 coef    std err          t      P>|t|      [0.025      0.975]\n",
       "------------------------------------------------------------------------------\n",
       "CPOR           0.0949      0.002     46.145      0.000       0.091       0.099\n",
       "==============================================================================\n",
       "Omnibus:                        9.398   Durbin-Watson:                   0.654\n",
       "Prob(Omnibus):                  0.009   Jarque-Bera (JB):                7.595\n",
       "Skew:                           0.198   Prob(JB):                       0.0224\n",
       "Kurtosis:                       2.588   Cond. No.                         1.00\n",
       "==============================================================================\n",
       "\n",
       "Warnings:\n",
       "[1] Standard Errors assume that the covariance matrix of the errors is correctly specified.\n",
       "\"\"\""
      ]
     },
     "execution_count": 48,
     "metadata": {},
     "output_type": "execute_result"
    }
   ],
   "source": [
    "results.summary()"
   ]
  },
  {
   "cell_type": "code",
   "execution_count": 32,
   "metadata": {},
   "outputs": [
    {
     "name": "stderr",
     "output_type": "stream",
     "text": [
      "/anaconda3/lib/python3.6/site-packages/ipykernel_launcher.py:1: RankWarning: Polyfit may be poorly conditioned\n",
      "  \"\"\"Entry point for launching an IPython kernel.\n"
     ]
    }
   ],
   "source": [
    "x = np.polyfit(core_data['CPOR'], np.log10(core_data['CKHG']), 1)"
   ]
  },
  {
   "cell_type": "code",
   "execution_count": 33,
   "metadata": {},
   "outputs": [
    {
     "data": {
      "text/plain": [
       "array([nan, nan])"
      ]
     },
     "execution_count": 33,
     "metadata": {},
     "output_type": "execute_result"
    }
   ],
   "source": [
    "x"
   ]
  },
  {
   "cell_type": "markdown",
   "metadata": {},
   "source": [
    "The result of the regression is: $10^{(0.16911398  * CPOR - 1.61346487)}$"
   ]
  },
  {
   "cell_type": "markdown",
   "metadata": {},
   "source": [
    "Using the code from the previous plot, we can now add a new line with our x-axis set to porosity and our y-axis set to an equation. Note that we have to use the equation above to reverse the log base 10 function used when deriving the function."
   ]
  },
  {
   "cell_type": "code",
   "execution_count": 10,
   "metadata": {},
   "outputs": [
    {
     "data": {
      "image/png": "[encoded data removed]",
      "text/plain": [
       "<Figure size 432x288 with 1 Axes>"
      ]
     },
     "metadata": {},
     "output_type": "display_data"
    }
   ],
   "source": [
    "from matplotlib.ticker import FuncFormatter\n",
    "fig, ax = plt.subplots()\n",
    "\n",
    "ax.axis([0, 30, 0.01, 10000])\n",
    "ax.semilogy(core_data['CPOR'], core_data['CKH'], 'bo')\n",
    "\n",
    "ax.grid(True)\n",
    "ax.set_ylabel('Core Perm (mD)')\n",
    "ax.set_xlabel('Core Porosity (%)')\n",
    "\n",
    "ax.semilogy(core_data['CPOR'], 10**(x[0] * core_data['CPOR'] + x[1]), 'r-')\n",
    "\n",
    "\n",
    "#Format the axes so that they show whole numbers\n",
    "for axis in [ax.yaxis, ax.xaxis]:\n",
    "    formatter = FuncFormatter(lambda y, _: '{:.16g}'.format(y))\n",
    "    axis.set_major_formatter(formatter)\n",
    "    \n"
   ]
  },
  {
   "cell_type": "markdown",
   "metadata": {},
   "source": [
    "Our next step is to calculate a predicted permeability using our new equation and add it as a new column in the pandas dataframe."
   ]
  },
  {
   "cell_type": "code",
   "execution_count": 11,
   "metadata": {},
   "outputs": [],
   "source": [
    "core_data[\"PRED_PERM\"] = 10**(x[0] * core_data['CPOR'] + x[1])"
   ]
  },
  {
   "cell_type": "code",
   "execution_count": 12,
   "metadata": {},
   "outputs": [
    {
     "data": {
      "text/html": [
       "<div>\n",
       "<style scoped>\n",
       "    .dataframe tbody tr th:only-of-type {\n",
       "        vertical-align: middle;\n",
       "    }\n",
       "\n",
       "    .dataframe tbody tr th {\n",
       "        vertical-align: top;\n",
       "    }\n",
       "\n",
       "    .dataframe thead th {\n",
       "        text-align: right;\n",
       "    }\n",
       "</style>\n",
       "<table border=\"1\" class=\"dataframe\">\n",
       "  <thead>\n",
       "    <tr style=\"text-align: right;\">\n",
       "      <th></th>\n",
       "      <th>DEPTH</th>\n",
       "      <th>SW</th>\n",
       "      <th>SO</th>\n",
       "      <th>CKH</th>\n",
       "      <th>CPOR</th>\n",
       "      <th>CGD</th>\n",
       "      <th>PRED_PERM</th>\n",
       "    </tr>\n",
       "  </thead>\n",
       "  <tbody>\n",
       "    <tr>\n",
       "      <th>count</th>\n",
       "      <td>108.000000</td>\n",
       "      <td>108.000000</td>\n",
       "      <td>108.000000</td>\n",
       "      <td>108.000000</td>\n",
       "      <td>108.000000</td>\n",
       "      <td>108.000000</td>\n",
       "      <td>108.000000</td>\n",
       "    </tr>\n",
       "    <tr>\n",
       "      <th>mean</th>\n",
       "      <td>10761.782905</td>\n",
       "      <td>35.509717</td>\n",
       "      <td>40.728041</td>\n",
       "      <td>114.365102</td>\n",
       "      <td>19.677500</td>\n",
       "      <td>2.661935</td>\n",
       "      <td>106.406799</td>\n",
       "    </tr>\n",
       "    <tr>\n",
       "      <th>std</th>\n",
       "      <td>28.333169</td>\n",
       "      <td>12.124610</td>\n",
       "      <td>11.880550</td>\n",
       "      <td>116.074693</td>\n",
       "      <td>4.366594</td>\n",
       "      <td>0.015253</td>\n",
       "      <td>108.960627</td>\n",
       "    </tr>\n",
       "    <tr>\n",
       "      <th>min</th>\n",
       "      <td>10715.701150</td>\n",
       "      <td>21.489047</td>\n",
       "      <td>0.000000</td>\n",
       "      <td>0.045000</td>\n",
       "      <td>2.360000</td>\n",
       "      <td>2.647000</td>\n",
       "      <td>0.061044</td>\n",
       "    </tr>\n",
       "    <tr>\n",
       "      <th>25%</th>\n",
       "      <td>10738.079762</td>\n",
       "      <td>26.733086</td>\n",
       "      <td>36.095689</td>\n",
       "      <td>36.319000</td>\n",
       "      <td>18.607500</td>\n",
       "      <td>2.655000</td>\n",
       "      <td>34.145923</td>\n",
       "    </tr>\n",
       "    <tr>\n",
       "      <th>50%</th>\n",
       "      <td>10760.648600</td>\n",
       "      <td>31.393546</td>\n",
       "      <td>42.411968</td>\n",
       "      <td>96.861500</td>\n",
       "      <td>20.330000</td>\n",
       "      <td>2.657000</td>\n",
       "      <td>66.788949</td>\n",
       "    </tr>\n",
       "    <tr>\n",
       "      <th>75%</th>\n",
       "      <td>10783.054388</td>\n",
       "      <td>41.666675</td>\n",
       "      <td>47.502606</td>\n",
       "      <td>151.569250</td>\n",
       "      <td>22.137500</td>\n",
       "      <td>2.663000</td>\n",
       "      <td>135.011588</td>\n",
       "    </tr>\n",
       "    <tr>\n",
       "      <th>max</th>\n",
       "      <td>10811.411500</td>\n",
       "      <td>77.868532</td>\n",
       "      <td>99.226071</td>\n",
       "      <td>788.070000</td>\n",
       "      <td>25.280000</td>\n",
       "      <td>2.758000</td>\n",
       "      <td>458.919473</td>\n",
       "    </tr>\n",
       "  </tbody>\n",
       "</table>\n",
       "</div>"
      ],
      "text/plain": [
       "              DEPTH          SW          SO         CKH        CPOR  \\\n",
       "count    108.000000  108.000000  108.000000  108.000000  108.000000   \n",
       "mean   10761.782905   35.509717   40.728041  114.365102   19.677500   \n",
       "std       28.333169   12.124610   11.880550  116.074693    4.366594   \n",
       "min    10715.701150   21.489047    0.000000    0.045000    2.360000   \n",
       "25%    10738.079762   26.733086   36.095689   36.319000   18.607500   \n",
       "50%    10760.648600   31.393546   42.411968   96.861500   20.330000   \n",
       "75%    10783.054388   41.666675   47.502606  151.569250   22.137500   \n",
       "max    10811.411500   77.868532   99.226071  788.070000   25.280000   \n",
       "\n",
       "              CGD   PRED_PERM  \n",
       "count  108.000000  108.000000  \n",
       "mean     2.661935  106.406799  \n",
       "std      0.015253  108.960627  \n",
       "min      2.647000    0.061044  \n",
       "25%      2.655000   34.145923  \n",
       "50%      2.657000   66.788949  \n",
       "75%      2.663000  135.011588  \n",
       "max      2.758000  458.919473  "
      ]
     },
     "execution_count": 12,
     "metadata": {},
     "output_type": "execute_result"
    }
   ],
   "source": [
    "core_data.describe()"
   ]
  },
  {
   "cell_type": "markdown",
   "metadata": {},
   "source": [
    "We can then make a quick plot of our prediction vs the original measurement. To get an idea of how well the prediction did, we can add a 1 to 1 line to aid the visualisation."
   ]
  },
  {
   "cell_type": "code",
   "execution_count": 13,
   "metadata": {},
   "outputs": [
    {
     "data": {
      "text/plain": [
       "[<matplotlib.lines.Line2D at 0x11bb11128>]"
      ]
     },
     "execution_count": 13,
     "metadata": {},
     "output_type": "execute_result"
    },
    {
     "data": {
      "image/png": "[encoded data removed]",
      "text/plain": [
       "<Figure size 432x288 with 1 Axes>"
      ]
     },
     "metadata": {},
     "output_type": "display_data"
    }
   ],
   "source": [
    "fig, ax = plt.subplots()\n",
    "\n",
    "ax.axis([0.01, 10000, 0.01, 10000])\n",
    "ax.loglog(core_data['CKH'], core_data['PRED_PERM'], 'bo')\n",
    "ax.loglog([0.01, 10000], [0.01, 10000], 'r-')"
   ]
  },
  {
   "cell_type": "code",
   "execution_count": null,
   "metadata": {},
   "outputs": [],
   "source": []
  }
 ],
 "metadata": {
  "kernelspec": {
   "display_name": "Python 3 (ipykernel)",
   "language": "python",
   "name": "python3"
  },
  "language_info": {
   "codemirror_mode": {
    "name": "ipython",
    "version": 3
   },
   "file_extension": ".py",
   "mimetype": "text/x-python",
   "name": "python",
   "nbconvert_exporter": "python",
   "pygments_lexer": "ipython3",
   "version": "3.10.3"
  }
 },
 "nbformat": 4,
 "nbformat_minor": 4
}
