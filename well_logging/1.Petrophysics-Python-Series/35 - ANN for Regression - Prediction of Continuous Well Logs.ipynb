{
 "cells": [
  {
   "cell_type": "markdown",
   "id": "e3dcafed",
   "metadata": {},
   "source": [
    "# Scikit Learn ANN for Predicting Continuous Well Measurements"
   ]
  },
  {
   "cell_type": "markdown",
   "id": "33025840",
   "metadata": {},
   "source": [
    "## Importing Libraries and Loading Data"
   ]
  },
  {
   "cell_type": "code",
   "execution_count": 1,
   "id": "731ac85c",
   "metadata": {},
   "outputs": [],
   "source": [
    "import pandas as pd\n",
    "import matplotlib.pyplot as plt"
   ]
  },
  {
   "cell_type": "markdown",
   "id": "db7159a5-126b-4ade-bfc5-82701c5f08e4",
   "metadata": {},
   "source": [
    "med_tutorial_scikit_learn_1.py"
   ]
  },
  {
   "cell_type": "code",
   "execution_count": 2,
   "id": "c2fb85af",
   "metadata": {},
   "outputs": [],
   "source": [
    "df = pd.read_csv('Data/Volve/volve_wells.csv', usecols=['WELL', 'DEPTH', 'RHOB', 'GR', 'NPHI', 'PEF', 'DT'])"
   ]
  },
  {
   "cell_type": "code",
   "execution_count": 3,
   "id": "affa6ba8-c0db-409b-9af4-27c1ad175e98",
   "metadata": {},
   "outputs": [],
   "source": [
    "df = df.dropna()"
   ]
  },
  {
   "cell_type": "markdown",
   "id": "1c86690f",
   "metadata": {},
   "source": [
    "## Create Training, Testing and Validation Datasets"
   ]
  },
  {
   "cell_type": "markdown",
   "id": "01aade55",
   "metadata": {},
   "source": [
    "Our dataset should have 4 wells within it. We can confirm this by calling upon the `unique()` function"
   ]
  },
  {
   "cell_type": "code",
   "execution_count": 4,
   "id": "7c6c58be",
   "metadata": {},
   "outputs": [
    {
     "data": {
      "text/html": [
       "<div>\n",
       "<style scoped>\n",
       "    .dataframe tbody tr th:only-of-type {\n",
       "        vertical-align: middle;\n",
       "    }\n",
       "\n",
       "    .dataframe tbody tr th {\n",
       "        vertical-align: top;\n",
       "    }\n",
       "\n",
       "    .dataframe thead th {\n",
       "        text-align: right;\n",
       "    }\n",
       "</style>\n",
       "<table border=\"1\" class=\"dataframe\">\n",
       "  <thead>\n",
       "    <tr style=\"text-align: right;\">\n",
       "      <th></th>\n",
       "      <th>DEPTH</th>\n",
       "      <th>DT</th>\n",
       "      <th>GR</th>\n",
       "      <th>NPHI</th>\n",
       "      <th>PEF</th>\n",
       "      <th>RHOB</th>\n",
       "      <th>WELL</th>\n",
       "    </tr>\n",
       "  </thead>\n",
       "  <tbody>\n",
       "    <tr>\n",
       "      <th>69703</th>\n",
       "      <td>2577.0</td>\n",
       "      <td>109.3850</td>\n",
       "      <td>74.6970</td>\n",
       "      <td>0.4030</td>\n",
       "      <td>8.1360</td>\n",
       "      <td>2.3470</td>\n",
       "      <td>15/9-F-11 A</td>\n",
       "    </tr>\n",
       "    <tr>\n",
       "      <th>69704</th>\n",
       "      <td>2577.1</td>\n",
       "      <td>110.1320</td>\n",
       "      <td>72.7970</td>\n",
       "      <td>0.3990</td>\n",
       "      <td>7.9250</td>\n",
       "      <td>2.3570</td>\n",
       "      <td>15/9-F-11 A</td>\n",
       "    </tr>\n",
       "    <tr>\n",
       "      <th>69705</th>\n",
       "      <td>2577.2</td>\n",
       "      <td>110.8430</td>\n",
       "      <td>71.6290</td>\n",
       "      <td>0.3900</td>\n",
       "      <td>7.7750</td>\n",
       "      <td>2.3600</td>\n",
       "      <td>15/9-F-11 A</td>\n",
       "    </tr>\n",
       "    <tr>\n",
       "      <th>69706</th>\n",
       "      <td>2577.3</td>\n",
       "      <td>111.0100</td>\n",
       "      <td>69.8990</td>\n",
       "      <td>0.3850</td>\n",
       "      <td>7.5920</td>\n",
       "      <td>2.3610</td>\n",
       "      <td>15/9-F-11 A</td>\n",
       "    </tr>\n",
       "    <tr>\n",
       "      <th>69707</th>\n",
       "      <td>2577.4</td>\n",
       "      <td>110.7970</td>\n",
       "      <td>69.0410</td>\n",
       "      <td>0.3820</td>\n",
       "      <td>7.3800</td>\n",
       "      <td>2.3630</td>\n",
       "      <td>15/9-F-11 A</td>\n",
       "    </tr>\n",
       "    <tr>\n",
       "      <th>...</th>\n",
       "      <td>...</td>\n",
       "      <td>...</td>\n",
       "      <td>...</td>\n",
       "      <td>...</td>\n",
       "      <td>...</td>\n",
       "      <td>...</td>\n",
       "      <td>...</td>\n",
       "    </tr>\n",
       "    <tr>\n",
       "      <th>149702</th>\n",
       "      <td>3641.7</td>\n",
       "      <td>74.4395</td>\n",
       "      <td>120.4854</td>\n",
       "      <td>0.1973</td>\n",
       "      <td>7.0911</td>\n",
       "      <td>2.6337</td>\n",
       "      <td>15/9-F-1 A</td>\n",
       "    </tr>\n",
       "    <tr>\n",
       "      <th>149703</th>\n",
       "      <td>3641.8</td>\n",
       "      <td>74.5584</td>\n",
       "      <td>120.2856</td>\n",
       "      <td>0.1930</td>\n",
       "      <td>7.0064</td>\n",
       "      <td>2.6295</td>\n",
       "      <td>15/9-F-1 A</td>\n",
       "    </tr>\n",
       "    <tr>\n",
       "      <th>149704</th>\n",
       "      <td>3641.9</td>\n",
       "      <td>74.6748</td>\n",
       "      <td>119.9561</td>\n",
       "      <td>0.1879</td>\n",
       "      <td>6.8993</td>\n",
       "      <td>2.6240</td>\n",
       "      <td>15/9-F-1 A</td>\n",
       "    </tr>\n",
       "    <tr>\n",
       "      <th>149705</th>\n",
       "      <td>3642.0</td>\n",
       "      <td>74.7656</td>\n",
       "      <td>122.5272</td>\n",
       "      <td>0.1825</td>\n",
       "      <td>6.8016</td>\n",
       "      <td>2.6194</td>\n",
       "      <td>15/9-F-1 A</td>\n",
       "    </tr>\n",
       "    <tr>\n",
       "      <th>149706</th>\n",
       "      <td>3642.1</td>\n",
       "      <td>74.8246</td>\n",
       "      <td>122.0503</td>\n",
       "      <td>0.1774</td>\n",
       "      <td>6.7421</td>\n",
       "      <td>2.6169</td>\n",
       "      <td>15/9-F-1 A</td>\n",
       "    </tr>\n",
       "  </tbody>\n",
       "</table>\n",
       "<p>24950 rows × 7 columns</p>\n",
       "</div>"
      ],
      "text/plain": [
       "         DEPTH        DT        GR    NPHI     PEF    RHOB         WELL\n",
       "69703   2577.0  109.3850   74.6970  0.4030  8.1360  2.3470  15/9-F-11 A\n",
       "69704   2577.1  110.1320   72.7970  0.3990  7.9250  2.3570  15/9-F-11 A\n",
       "69705   2577.2  110.8430   71.6290  0.3900  7.7750  2.3600  15/9-F-11 A\n",
       "69706   2577.3  111.0100   69.8990  0.3850  7.5920  2.3610  15/9-F-11 A\n",
       "69707   2577.4  110.7970   69.0410  0.3820  7.3800  2.3630  15/9-F-11 A\n",
       "...        ...       ...       ...     ...     ...     ...          ...\n",
       "149702  3641.7   74.4395  120.4854  0.1973  7.0911  2.6337   15/9-F-1 A\n",
       "149703  3641.8   74.5584  120.2856  0.1930  7.0064  2.6295   15/9-F-1 A\n",
       "149704  3641.9   74.6748  119.9561  0.1879  6.8993  2.6240   15/9-F-1 A\n",
       "149705  3642.0   74.7656  122.5272  0.1825  6.8016  2.6194   15/9-F-1 A\n",
       "149706  3642.1   74.8246  122.0503  0.1774  6.7421  2.6169   15/9-F-1 A\n",
       "\n",
       "[24950 rows x 7 columns]"
      ]
     },
     "execution_count": 4,
     "metadata": {},
     "output_type": "execute_result"
    }
   ],
   "source": [
    "df"
   ]
  },
  {
   "cell_type": "markdown",
   "id": "0607c9d1",
   "metadata": {},
   "source": [
    "As we are using measurements taken from multiple wells, one way to split our data into training and testing is to set aside a single well (blind test well) which will be used to see how our model performs on unseen data."
   ]
  },
  {
   "cell_type": "code",
   "execution_count": 5,
   "id": "c7114040",
   "metadata": {},
   "outputs": [],
   "source": [
    "# Training Wells\n",
    "training_wells = ['15/9-F-11 A', '15/9-F-1 A']\n",
    "\n",
    "# Test Well\n",
    "test_well = ['15/9-F-1 B']"
   ]
  },
  {
   "cell_type": "markdown",
   "id": "dfd658cc",
   "metadata": {},
   "source": [
    "\"Extract\" the data from the main dataframe using the well lists above"
   ]
  },
  {
   "cell_type": "code",
   "execution_count": 6,
   "id": "6320823a",
   "metadata": {},
   "outputs": [],
   "source": [
    "train_val_df = df[df['WELL'].isin(training_wells)].copy()\n",
    "test_df = df[df['WELL'].isin(test_well)].copy()"
   ]
  },
  {
   "cell_type": "code",
   "execution_count": 7,
   "id": "37d705af",
   "metadata": {},
   "outputs": [
    {
     "data": {
      "text/html": [
       "<div>\n",
       "<style scoped>\n",
       "    .dataframe tbody tr th:only-of-type {\n",
       "        vertical-align: middle;\n",
       "    }\n",
       "\n",
       "    .dataframe tbody tr th {\n",
       "        vertical-align: top;\n",
       "    }\n",
       "\n",
       "    .dataframe thead th {\n",
       "        text-align: right;\n",
       "    }\n",
       "</style>\n",
       "<table border=\"1\" class=\"dataframe\">\n",
       "  <thead>\n",
       "    <tr style=\"text-align: right;\">\n",
       "      <th></th>\n",
       "      <th>DEPTH</th>\n",
       "      <th>DT</th>\n",
       "      <th>GR</th>\n",
       "      <th>NPHI</th>\n",
       "      <th>PEF</th>\n",
       "      <th>RHOB</th>\n",
       "    </tr>\n",
       "  </thead>\n",
       "  <tbody>\n",
       "    <tr>\n",
       "      <th>count</th>\n",
       "      <td>21688.000000</td>\n",
       "      <td>21688.000000</td>\n",
       "      <td>21688.000000</td>\n",
       "      <td>21688.000000</td>\n",
       "      <td>21688.000000</td>\n",
       "      <td>21688.000000</td>\n",
       "    </tr>\n",
       "    <tr>\n",
       "      <th>mean</th>\n",
       "      <td>3141.098875</td>\n",
       "      <td>77.235857</td>\n",
       "      <td>39.803246</td>\n",
       "      <td>0.166648</td>\n",
       "      <td>7.093603</td>\n",
       "      <td>2.475232</td>\n",
       "    </tr>\n",
       "    <tr>\n",
       "      <th>std</th>\n",
       "      <td>314.723749</td>\n",
       "      <td>14.336048</td>\n",
       "      <td>57.907158</td>\n",
       "      <td>0.099200</td>\n",
       "      <td>1.188313</td>\n",
       "      <td>0.147635</td>\n",
       "    </tr>\n",
       "    <tr>\n",
       "      <th>min</th>\n",
       "      <td>2577.000000</td>\n",
       "      <td>53.165000</td>\n",
       "      <td>0.852000</td>\n",
       "      <td>0.010000</td>\n",
       "      <td>4.297800</td>\n",
       "      <td>1.980600</td>\n",
       "    </tr>\n",
       "    <tr>\n",
       "      <th>25%</th>\n",
       "      <td>2869.475000</td>\n",
       "      <td>66.849300</td>\n",
       "      <td>9.416350</td>\n",
       "      <td>0.096000</td>\n",
       "      <td>6.218475</td>\n",
       "      <td>2.379000</td>\n",
       "    </tr>\n",
       "    <tr>\n",
       "      <th>50%</th>\n",
       "      <td>3140.550000</td>\n",
       "      <td>72.720750</td>\n",
       "      <td>27.552000</td>\n",
       "      <td>0.136000</td>\n",
       "      <td>7.487700</td>\n",
       "      <td>2.533000</td>\n",
       "    </tr>\n",
       "    <tr>\n",
       "      <th>75%</th>\n",
       "      <td>3411.625000</td>\n",
       "      <td>86.093800</td>\n",
       "      <td>44.877425</td>\n",
       "      <td>0.217200</td>\n",
       "      <td>8.001000</td>\n",
       "      <td>2.581400</td>\n",
       "    </tr>\n",
       "    <tr>\n",
       "      <th>max</th>\n",
       "      <td>3723.300000</td>\n",
       "      <td>126.827000</td>\n",
       "      <td>1124.403000</td>\n",
       "      <td>0.593200</td>\n",
       "      <td>13.841000</td>\n",
       "      <td>3.025000</td>\n",
       "    </tr>\n",
       "  </tbody>\n",
       "</table>\n",
       "</div>"
      ],
      "text/plain": [
       "              DEPTH            DT            GR          NPHI           PEF  \\\n",
       "count  21688.000000  21688.000000  21688.000000  21688.000000  21688.000000   \n",
       "mean    3141.098875     77.235857     39.803246      0.166648      7.093603   \n",
       "std      314.723749     14.336048     57.907158      0.099200      1.188313   \n",
       "min     2577.000000     53.165000      0.852000      0.010000      4.297800   \n",
       "25%     2869.475000     66.849300      9.416350      0.096000      6.218475   \n",
       "50%     3140.550000     72.720750     27.552000      0.136000      7.487700   \n",
       "75%     3411.625000     86.093800     44.877425      0.217200      8.001000   \n",
       "max     3723.300000    126.827000   1124.403000      0.593200     13.841000   \n",
       "\n",
       "               RHOB  \n",
       "count  21688.000000  \n",
       "mean       2.475232  \n",
       "std        0.147635  \n",
       "min        1.980600  \n",
       "25%        2.379000  \n",
       "50%        2.533000  \n",
       "75%        2.581400  \n",
       "max        3.025000  "
      ]
     },
     "execution_count": 7,
     "metadata": {},
     "output_type": "execute_result"
    }
   ],
   "source": [
    "train_val_df.describe()"
   ]
  },
  {
   "cell_type": "code",
   "execution_count": 8,
   "id": "fc094c52",
   "metadata": {},
   "outputs": [
    {
     "data": {
      "text/html": [
       "<div>\n",
       "<style scoped>\n",
       "    .dataframe tbody tr th:only-of-type {\n",
       "        vertical-align: middle;\n",
       "    }\n",
       "\n",
       "    .dataframe tbody tr th {\n",
       "        vertical-align: top;\n",
       "    }\n",
       "\n",
       "    .dataframe thead th {\n",
       "        text-align: right;\n",
       "    }\n",
       "</style>\n",
       "<table border=\"1\" class=\"dataframe\">\n",
       "  <thead>\n",
       "    <tr style=\"text-align: right;\">\n",
       "      <th></th>\n",
       "      <th>DEPTH</th>\n",
       "      <th>DT</th>\n",
       "      <th>GR</th>\n",
       "      <th>NPHI</th>\n",
       "      <th>PEF</th>\n",
       "      <th>RHOB</th>\n",
       "    </tr>\n",
       "  </thead>\n",
       "  <tbody>\n",
       "    <tr>\n",
       "      <th>count</th>\n",
       "      <td>3262.000000</td>\n",
       "      <td>3262.000000</td>\n",
       "      <td>3262.000000</td>\n",
       "      <td>3262.000000</td>\n",
       "      <td>3262.000000</td>\n",
       "      <td>3262.000000</td>\n",
       "    </tr>\n",
       "    <tr>\n",
       "      <th>mean</th>\n",
       "      <td>3261.550000</td>\n",
       "      <td>84.236378</td>\n",
       "      <td>72.114743</td>\n",
       "      <td>0.204948</td>\n",
       "      <td>6.448994</td>\n",
       "      <td>2.452392</td>\n",
       "    </tr>\n",
       "    <tr>\n",
       "      <th>std</th>\n",
       "      <td>94.180262</td>\n",
       "      <td>14.488623</td>\n",
       "      <td>61.620077</td>\n",
       "      <td>0.097875</td>\n",
       "      <td>0.830665</td>\n",
       "      <td>0.133218</td>\n",
       "    </tr>\n",
       "    <tr>\n",
       "      <th>min</th>\n",
       "      <td>3098.500000</td>\n",
       "      <td>58.631800</td>\n",
       "      <td>8.001500</td>\n",
       "      <td>0.059500</td>\n",
       "      <td>4.729900</td>\n",
       "      <td>2.111800</td>\n",
       "    </tr>\n",
       "    <tr>\n",
       "      <th>25%</th>\n",
       "      <td>3180.025000</td>\n",
       "      <td>74.450700</td>\n",
       "      <td>38.552300</td>\n",
       "      <td>0.146300</td>\n",
       "      <td>5.917400</td>\n",
       "      <td>2.364200</td>\n",
       "    </tr>\n",
       "    <tr>\n",
       "      <th>50%</th>\n",
       "      <td>3261.550000</td>\n",
       "      <td>81.407800</td>\n",
       "      <td>50.796200</td>\n",
       "      <td>0.172400</td>\n",
       "      <td>6.345200</td>\n",
       "      <td>2.483300</td>\n",
       "    </tr>\n",
       "    <tr>\n",
       "      <th>75%</th>\n",
       "      <td>3343.075000</td>\n",
       "      <td>88.037350</td>\n",
       "      <td>64.980325</td>\n",
       "      <td>0.225450</td>\n",
       "      <td>6.910000</td>\n",
       "      <td>2.539875</td>\n",
       "    </tr>\n",
       "    <tr>\n",
       "      <th>max</th>\n",
       "      <td>3424.600000</td>\n",
       "      <td>125.982700</td>\n",
       "      <td>297.767300</td>\n",
       "      <td>0.557600</td>\n",
       "      <td>10.987600</td>\n",
       "      <td>3.051700</td>\n",
       "    </tr>\n",
       "  </tbody>\n",
       "</table>\n",
       "</div>"
      ],
      "text/plain": [
       "             DEPTH           DT           GR         NPHI          PEF  \\\n",
       "count  3262.000000  3262.000000  3262.000000  3262.000000  3262.000000   \n",
       "mean   3261.550000    84.236378    72.114743     0.204948     6.448994   \n",
       "std      94.180262    14.488623    61.620077     0.097875     0.830665   \n",
       "min    3098.500000    58.631800     8.001500     0.059500     4.729900   \n",
       "25%    3180.025000    74.450700    38.552300     0.146300     5.917400   \n",
       "50%    3261.550000    81.407800    50.796200     0.172400     6.345200   \n",
       "75%    3343.075000    88.037350    64.980325     0.225450     6.910000   \n",
       "max    3424.600000   125.982700   297.767300     0.557600    10.987600   \n",
       "\n",
       "              RHOB  \n",
       "count  3262.000000  \n",
       "mean      2.452392  \n",
       "std       0.133218  \n",
       "min       2.111800  \n",
       "25%       2.364200  \n",
       "50%       2.483300  \n",
       "75%       2.539875  \n",
       "max       3.051700  "
      ]
     },
     "execution_count": 8,
     "metadata": {},
     "output_type": "execute_result"
    }
   ],
   "source": [
    "test_df.describe()"
   ]
  },
  {
   "cell_type": "markdown",
   "id": "495f5c4b-25ee-4f22-837a-1977f5abd3df",
   "metadata": {},
   "source": [
    "## Proprocessing"
   ]
  },
  {
   "cell_type": "markdown",
   "id": "4e55a73d",
   "metadata": {},
   "source": [
    "## Implementing the Random Forest Model"
   ]
  },
  {
   "cell_type": "code",
   "execution_count": 9,
   "id": "fa08e1cc",
   "metadata": {},
   "outputs": [],
   "source": [
    "from sklearn.model_selection import train_test_split\n",
    "from sklearn.neural_network import MLPRegressor\n",
    "from sklearn.preprocessing import StandardScaler\n",
    "from sklearn import metrics"
   ]
  },
  {
   "cell_type": "markdown",
   "id": "b18c90d6",
   "metadata": {},
   "source": [
    "### Selecting Training and Target Features"
   ]
  },
  {
   "cell_type": "code",
   "execution_count": 10,
   "id": "fd8dc2b5",
   "metadata": {},
   "outputs": [],
   "source": [
    "X = train_val_df[['RHOB', 'GR', 'NPHI', 'PEF']]\n",
    "y = train_val_df['DT']"
   ]
  },
  {
   "cell_type": "markdown",
   "id": "51ec1cf5",
   "metadata": {},
   "source": [
    "Note that the name test used here is commonly used within machine learning. In this case the variables X_test and y_test are our validation data. In other words it is used to help tune our model. "
   ]
  },
  {
   "cell_type": "code",
   "execution_count": 11,
   "id": "fb9b92c0",
   "metadata": {},
   "outputs": [],
   "source": [
    "X_train, X_val, y_train, y_val = train_test_split(X, y, test_size=0.2)"
   ]
  },
  {
   "cell_type": "markdown",
   "id": "76c0fe11",
   "metadata": {},
   "source": [
    "Checking the shapes of X_train and X_test to make sure they have been split correctly."
   ]
  },
  {
   "cell_type": "markdown",
   "id": "76569ed7-1f86-480b-911a-e98e7df1ea3f",
   "metadata": {
    "tags": []
   },
   "source": [
    "### Applying Standard Scaler"
   ]
  },
  {
   "cell_type": "code",
   "execution_count": 12,
   "id": "3cb77c5f-7b63-4e1f-a708-7b7b56cc282c",
   "metadata": {},
   "outputs": [],
   "source": [
    "scaler = StandardScaler()"
   ]
  },
  {
   "cell_type": "code",
   "execution_count": 13,
   "id": "aa6757ea-dd22-44c4-af8b-0d9ef6af6344",
   "metadata": {},
   "outputs": [],
   "source": [
    "X_train = scaler.fit_transform(X_train)"
   ]
  },
  {
   "cell_type": "code",
   "execution_count": 14,
   "id": "d309579a-0122-4a20-b107-8e38c1b6deaf",
   "metadata": {},
   "outputs": [
    {
     "data": {
      "text/plain": [
       "array([[-0.45500068,  0.12198551,  0.03143028, -1.33766317],\n",
       "       [-0.04217912, -0.55153053, -0.21079483,  0.80663505],\n",
       "       [-1.46125324, -0.36535724,  0.03143028, -1.6310438 ],\n",
       "       ...,\n",
       "       [-1.82790398, -0.21927636,  0.68745661, -1.81045831],\n",
       "       [-1.98407003, -0.09303234,  0.88527378, -1.83058979],\n",
       "       [ 0.28848552, -0.28963525, -0.44292722,  0.49177522]])"
      ]
     },
     "execution_count": 14,
     "metadata": {},
     "output_type": "execute_result"
    }
   ],
   "source": [
    "X_train"
   ]
  },
  {
   "cell_type": "code",
   "execution_count": 15,
   "id": "4334161f-a44a-4b21-ab10-62fcca63640e",
   "metadata": {},
   "outputs": [],
   "source": [
    "X_val = scaler.transform(X_val)"
   ]
  },
  {
   "cell_type": "code",
   "execution_count": 16,
   "id": "65f4c412-19f3-4aa1-813c-c8b53dd3dda4",
   "metadata": {},
   "outputs": [
    {
     "data": {
      "text/plain": [
       "array([[ 0.85407822, -0.60667942, -1.00811914,  1.09555138],\n",
       "       [ 1.26825775, -0.64234039, -1.4521985 ,  1.33814001],\n",
       "       [-1.66494809, -0.23387922,  0.74801289, -1.84246653],\n",
       "       ...,\n",
       "       [ 0.83031383, -0.42153199, -1.0131655 ,  0.53321745],\n",
       "       [-1.14892114,  2.80566018,  2.60507204,  0.35936226],\n",
       "       [ 0.2973123 , -0.53602045, -0.4227418 ,  1.07533566]])"
      ]
     },
     "execution_count": 16,
     "metadata": {},
     "output_type": "execute_result"
    }
   ],
   "source": [
    "X_val"
   ]
  },
  {
   "cell_type": "markdown",
   "id": "a5cf39ac-6e08-4d5f-b905-4b597ce3e122",
   "metadata": {},
   "source": [
    "from sklearn.preprocessing import StandardScaler\n",
    "sc = StandardScaler()\n",
    "X_train = sc.fit_transform(X_train)\n",
    "X_test = sc.transform (X_test)"
   ]
  },
  {
   "cell_type": "markdown",
   "id": "6508af88",
   "metadata": {},
   "source": [
    "### Building the Model"
   ]
  },
  {
   "cell_type": "code",
   "execution_count": 17,
   "id": "4d6904f6",
   "metadata": {},
   "outputs": [],
   "source": [
    "model = MLPRegressor(hidden_layer_sizes=(64, 64,64), \n",
    "                     activation=\"relu\" ,\n",
    "                     random_state=42, max_iter=2000)"
   ]
  },
  {
   "cell_type": "code",
   "execution_count": 18,
   "id": "4a37dd73",
   "metadata": {},
   "outputs": [
    {
     "data": {
      "text/plain": [
       "MLPRegressor(hidden_layer_sizes=(64, 64, 64), max_iter=2000, random_state=42)"
      ]
     },
     "execution_count": 18,
     "metadata": {},
     "output_type": "execute_result"
    }
   ],
   "source": [
    "model.fit(X_train, y_train)"
   ]
  },
  {
   "cell_type": "code",
   "execution_count": 19,
   "id": "8736e39b",
   "metadata": {},
   "outputs": [],
   "source": [
    "y_pred = model.predict(X_val)"
   ]
  },
  {
   "cell_type": "markdown",
   "id": "f4443b15",
   "metadata": {},
   "source": [
    "### Check the Prediction Results"
   ]
  },
  {
   "cell_type": "code",
   "execution_count": 20,
   "id": "f11706f0",
   "metadata": {},
   "outputs": [],
   "source": [
    "mae = metrics.mean_absolute_error(y_val, y_pred)"
   ]
  },
  {
   "cell_type": "code",
   "execution_count": 21,
   "id": "b225f0c1",
   "metadata": {},
   "outputs": [],
   "source": [
    "mse = metrics.mean_squared_error(y_val, y_pred)\n",
    "rmse = mse**0.5 "
   ]
  },
  {
   "cell_type": "code",
   "execution_count": 22,
   "id": "7387a999",
   "metadata": {},
   "outputs": [
    {
     "data": {
      "text/plain": [
       "3.369147001404765"
      ]
     },
     "execution_count": 22,
     "metadata": {},
     "output_type": "execute_result"
    }
   ],
   "source": [
    "rmse"
   ]
  },
  {
   "cell_type": "code",
   "execution_count": 23,
   "id": "8c236ab1-e77d-4b3b-b11b-be1948b1ad7b",
   "metadata": {},
   "outputs": [
    {
     "data": {
      "text/plain": [
       "0.9455581622005285"
      ]
     },
     "execution_count": 23,
     "metadata": {},
     "output_type": "execute_result"
    }
   ],
   "source": [
    "r2 = metrics.r2_score(y_val, y_pred)\n",
    "r2"
   ]
  },
  {
   "cell_type": "code",
   "execution_count": 24,
   "id": "8d1797f0-a04c-4c80-83a4-e6d9419ff0da",
   "metadata": {},
   "outputs": [
    {
     "name": "stdout",
     "output_type": "stream",
     "text": [
      "\n",
      "MAE: \t2.16\n",
      "RMSE: \t3.37\n",
      "r2: \t0.95\n",
      "\n"
     ]
    }
   ],
   "source": [
    "print(f\"\"\"\n",
    "MAE: \\t{mae:.2f}\n",
    "RMSE: \\t{rmse:.2f}\n",
    "r2: \\t{r2:.2f}\n",
    "\"\"\")"
   ]
  },
  {
   "cell_type": "markdown",
   "id": "328fca04",
   "metadata": {},
   "source": [
    "Simple metrics like above are a nice way to see how a model has performed, but you should always check the actual data. \n",
    "\n",
    "In the plot below, we are comparing the real data against the predicted data."
   ]
  },
  {
   "cell_type": "code",
   "execution_count": 25,
   "id": "6c5639e7",
   "metadata": {},
   "outputs": [
    {
     "data": {
      "image/png": "[encoded data removed]",
      "text/plain": [
       "<Figure size 432x288 with 1 Axes>"
      ]
     },
     "metadata": {
      "needs_background": "light"
     },
     "output_type": "display_data"
    }
   ],
   "source": [
    "plt.scatter(y_val, y_pred)\n",
    "plt.xlim(40, 140)\n",
    "plt.ylim(40, 140)\n",
    "plt.ylabel('Predicted DT')\n",
    "plt.xlabel('Actual DT')\n",
    "plt.plot([40,140], [40,140], 'black') #1 to 1 line\n",
    "plt.show()"
   ]
  },
  {
   "cell_type": "markdown",
   "id": "742e3edd",
   "metadata": {},
   "source": [
    "## Test Well Prediction\n",
    "Once the model has been fine tuned, we can apply it to our blind test well and see how it performs."
   ]
  },
  {
   "cell_type": "code",
   "execution_count": 26,
   "id": "9ffe8a16",
   "metadata": {},
   "outputs": [],
   "source": [
    "test_well_x = test_df[['RHOB', 'GR', 'NPHI', 'PEF']]"
   ]
  },
  {
   "cell_type": "code",
   "execution_count": 27,
   "id": "4c27a1c9-5728-46f9-a706-563f10d734ea",
   "metadata": {},
   "outputs": [],
   "source": [
    "test_well_x = scaler.transform(test_well_x)"
   ]
  },
  {
   "cell_type": "code",
   "execution_count": 28,
   "id": "af0d83da",
   "metadata": {},
   "outputs": [],
   "source": [
    "test_df['TEST_DT'] = model.predict(test_well_x)"
   ]
  },
  {
   "cell_type": "code",
   "execution_count": 31,
   "id": "71e6109f",
   "metadata": {},
   "outputs": [
    {
     "data": {
      "image/png": "[encoded data removed]",
      "text/plain": [
       "<Figure size 432x288 with 1 Axes>"
      ]
     },
     "metadata": {
      "needs_background": "light"
     },
     "output_type": "display_data"
    }
   ],
   "source": [
    "plt.scatter(test_df['DT'], test_df['TEST_DT'])\n",
    "plt.xlim(40, 140)\n",
    "plt.ylim(40, 140)\n",
    "plt.ylabel('Predicted DT')\n",
    "plt.xlabel('Actual DT')\n",
    "plt.plot([40,140], [40,140], 'black') #1 to 1 line\n",
    "plt.show()"
   ]
  },
  {
   "cell_type": "code",
   "execution_count": 39,
   "id": "ccb99db5",
   "metadata": {},
   "outputs": [
    {
     "data": {
      "image/png": "[encoded data removed]",
      "text/plain": [
       "<Figure size 864x288 with 1 Axes>"
      ]
     },
     "metadata": {
      "needs_background": "light"
     },
     "output_type": "display_data"
    }
   ],
   "source": [
    "plt.figure(figsize=(12, 4))\n",
    "plt.plot(test_df['DEPTH'], test_df['DT'], label='Actual DT')\n",
    "plt.plot(test_df['DEPTH'], test_df['TEST_DT'], label='Predicted DT')\n",
    "\n",
    "plt.xlabel('Depth (m)', fontsize=14, fontweight='bold')\n",
    "plt.ylabel('DT', fontsize=14,fontweight='bold')\n",
    "\n",
    "plt.ylim(40, 140)\n",
    "plt.legend(fontsize=14)\n",
    "plt.grid()"
   ]
  },
  {
   "cell_type": "code",
   "execution_count": null,
   "id": "1859d8ec",
   "metadata": {},
   "outputs": [],
   "source": []
  }
 ],
 "metadata": {
  "kernelspec": {
   "display_name": "Python 3 (ipykernel)",
   "language": "python",
   "name": "python3"
  },
  "language_info": {
   "codemirror_mode": {
    "name": "ipython",
    "version": 3
   },
   "file_extension": ".py",
   "mimetype": "text/x-python",
   "name": "python",
   "nbconvert_exporter": "python",
   "pygments_lexer": "ipython3",
   "version": "3.10.3"
  }
 },
 "nbformat": 4,
 "nbformat_minor": 5
}
